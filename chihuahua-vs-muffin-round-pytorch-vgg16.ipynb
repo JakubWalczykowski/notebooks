{
 "cells": [
  {
   "cell_type": "code",
   "execution_count": 1,
   "id": "135740ae",
   "metadata": {
    "_cell_guid": "b1076dfc-b9ad-4769-8c92-a6c4dae69d19",
    "_uuid": "8f2839f25d086af736a60e9eeb907d3b93b6e0e5",
    "execution": {
     "iopub.execute_input": "2023-03-17T20:57:19.139549Z",
     "iopub.status.busy": "2023-03-17T20:57:19.139055Z",
     "iopub.status.idle": "2023-03-17T20:57:21.487420Z",
     "shell.execute_reply": "2023-03-17T20:57:21.486398Z"
    },
    "papermill": {
     "duration": 2.3586,
     "end_time": "2023-03-17T20:57:21.490214",
     "exception": false,
     "start_time": "2023-03-17T20:57:19.131614",
     "status": "completed"
    },
    "tags": []
   },
   "outputs": [],
   "source": [
    "import numpy as np\n",
    "import pandas as pd\n",
    "import os\n",
    "\n",
    "import torch\n",
    "import torch.nn as nn\n",
    "import torchvision\n",
    "import torchvision.transforms as transforms\n",
    "import numpy as np\n",
    "import matplotlib.pyplot as plt\n",
    "from datetime import datetime\n",
    "\n",
    "from torchvision import datasets\n",
    "import helper\n",
    "\n",
    "from torchvision import datasets, transforms, models\n",
    "import numpy as np\n",
    "import matplotlib.pyplot as plt\n",
    "from datetime import datetime\n",
    "import sys, os\n",
    "from glob import glob\n",
    "import imageio"
   ]
  },
  {
   "cell_type": "code",
   "execution_count": 2,
   "id": "01605e8d",
   "metadata": {
    "execution": {
     "iopub.execute_input": "2023-03-17T20:57:21.500649Z",
     "iopub.status.busy": "2023-03-17T20:57:21.500222Z",
     "iopub.status.idle": "2023-03-17T20:57:21.504823Z",
     "shell.execute_reply": "2023-03-17T20:57:21.503687Z"
    },
    "papermill": {
     "duration": 0.012416,
     "end_time": "2023-03-17T20:57:21.507318",
     "exception": false,
     "start_time": "2023-03-17T20:57:21.494902",
     "status": "completed"
    },
    "tags": []
   },
   "outputs": [],
   "source": [
    "# train_dir='/kaggle/input/muffin-vs-chihuahua-image-classification/train'\n",
    "# test_dir='/kaggle/input/muffin-vs-chihuahua-image-classification/test'\n",
    "\n",
    "\n",
    "# class_names = sorted(os.listdir(train_dir))\n",
    "# n_classes = len(class_names)\n",
    "# print(\"{:15} : {}\".format(\"Class Names\", class_names))\n",
    "# print(\"{:15} : {}\".format(\"No. of Classes\", n_classes))"
   ]
  },
  {
   "cell_type": "markdown",
   "id": "5cb27c0b",
   "metadata": {
    "papermill": {
     "duration": 0.004027,
     "end_time": "2023-03-17T20:57:21.515581",
     "exception": false,
     "start_time": "2023-03-17T20:57:21.511554",
     "status": "completed"
    },
    "tags": []
   },
   "source": [
    "# 1. Loading Datasets\n"
   ]
  },
  {
   "cell_type": "code",
   "execution_count": 3,
   "id": "ae951960",
   "metadata": {
    "execution": {
     "iopub.execute_input": "2023-03-17T20:57:21.525040Z",
     "iopub.status.busy": "2023-03-17T20:57:21.524768Z",
     "iopub.status.idle": "2023-03-17T20:57:21.529990Z",
     "shell.execute_reply": "2023-03-17T20:57:21.529118Z"
    },
    "papermill": {
     "duration": 0.01236,
     "end_time": "2023-03-17T20:57:21.532085",
     "exception": false,
     "start_time": "2023-03-17T20:57:21.519725",
     "status": "completed"
    },
    "tags": []
   },
   "outputs": [],
   "source": [
    "# train_dataset = datasets.ImageFolder('/kaggle/input/muffin-vs-chihuahua-image-classification/train', transform=transforms.ToTensor())\n",
    "# test_dataset = datasets.ImageFolder('/kaggle/input/muffin-vs-chihuahua-image-classification/test', transform=transforms.ToTensor())\n"
   ]
  },
  {
   "cell_type": "code",
   "execution_count": 4,
   "id": "e3b325c7",
   "metadata": {
    "execution": {
     "iopub.execute_input": "2023-03-17T20:57:21.541439Z",
     "iopub.status.busy": "2023-03-17T20:57:21.541174Z",
     "iopub.status.idle": "2023-03-17T20:57:21.548268Z",
     "shell.execute_reply": "2023-03-17T20:57:21.546970Z"
    },
    "papermill": {
     "duration": 0.014068,
     "end_time": "2023-03-17T20:57:21.550325",
     "exception": false,
     "start_time": "2023-03-17T20:57:21.536257",
     "status": "completed"
    },
    "tags": []
   },
   "outputs": [],
   "source": [
    "train_transform = transforms.Compose([\n",
    "        transforms.RandomResizedCrop(size=256, scale=(0.8, 1.0)),\n",
    "        transforms.RandomRotation(degrees=15),\n",
    "        transforms.ColorJitter(),\n",
    "        transforms.CenterCrop(size=224),\n",
    "        transforms.RandomHorizontalFlip(),\n",
    "        transforms.ToTensor(),\n",
    "        transforms.Normalize([0.485, 0.456, 0.406], [0.229, 0.224, 0.225])\n",
    "])\n",
    "test_transform = transforms.Compose([\n",
    "        transforms.Resize(size=256),\n",
    "        transforms.CenterCrop(size=224),\n",
    "        transforms.ToTensor(),\n",
    "        transforms.Normalize([0.485, 0.456, 0.406], [0.229, 0.224, 0.225])\n",
    "])"
   ]
  },
  {
   "cell_type": "code",
   "execution_count": 5,
   "id": "1b90b8bb",
   "metadata": {
    "execution": {
     "iopub.execute_input": "2023-03-17T20:57:21.560283Z",
     "iopub.status.busy": "2023-03-17T20:57:21.559586Z",
     "iopub.status.idle": "2023-03-17T20:57:28.535057Z",
     "shell.execute_reply": "2023-03-17T20:57:28.533964Z"
    },
    "papermill": {
     "duration": 6.983133,
     "end_time": "2023-03-17T20:57:28.537615",
     "exception": false,
     "start_time": "2023-03-17T20:57:21.554482",
     "status": "completed"
    },
    "tags": []
   },
   "outputs": [],
   "source": [
    "train_dataset = datasets.ImageFolder(\n",
    "    '/kaggle/input/muffin-vs-chihuahua-image-classification/train',\n",
    "    transform=train_transform\n",
    ")\n",
    "test_dataset = datasets.ImageFolder(\n",
    "    '/kaggle/input/muffin-vs-chihuahua-image-classification/test',\n",
    "    transform=test_transform\n",
    ")"
   ]
  },
  {
   "cell_type": "code",
   "execution_count": 6,
   "id": "c2d11238",
   "metadata": {
    "execution": {
     "iopub.execute_input": "2023-03-17T20:57:28.547982Z",
     "iopub.status.busy": "2023-03-17T20:57:28.547675Z",
     "iopub.status.idle": "2023-03-17T20:57:28.553268Z",
     "shell.execute_reply": "2023-03-17T20:57:28.552145Z"
    },
    "papermill": {
     "duration": 0.013348,
     "end_time": "2023-03-17T20:57:28.555751",
     "exception": false,
     "start_time": "2023-03-17T20:57:28.542403",
     "status": "completed"
    },
    "tags": []
   },
   "outputs": [],
   "source": [
    "batch_size = 128\n",
    "train_loader = torch.utils.data.DataLoader(\n",
    "    train_dataset,\n",
    "    batch_size=batch_size,\n",
    "    shuffle=True\n",
    ")\n",
    "test_loader = torch.utils.data.DataLoader(\n",
    "    test_dataset,\n",
    "    batch_size=batch_size,\n",
    ")"
   ]
  },
  {
   "cell_type": "code",
   "execution_count": 7,
   "id": "d5a8e587",
   "metadata": {
    "execution": {
     "iopub.execute_input": "2023-03-17T20:57:28.565396Z",
     "iopub.status.busy": "2023-03-17T20:57:28.565087Z",
     "iopub.status.idle": "2023-03-17T20:57:32.414784Z",
     "shell.execute_reply": "2023-03-17T20:57:32.413643Z"
    },
    "papermill": {
     "duration": 3.857543,
     "end_time": "2023-03-17T20:57:32.417503",
     "exception": false,
     "start_time": "2023-03-17T20:57:28.559960",
     "status": "completed"
    },
    "tags": []
   },
   "outputs": [
    {
     "name": "stderr",
     "output_type": "stream",
     "text": [
      "/opt/conda/lib/python3.7/site-packages/torchvision/models/_utils.py:209: UserWarning: The parameter 'pretrained' is deprecated since 0.13 and may be removed in the future, please use 'weights' instead.\n",
      "  f\"The parameter '{pretrained_param}' is deprecated since 0.13 and may be removed in the future, \"\n",
      "/opt/conda/lib/python3.7/site-packages/torchvision/models/_utils.py:223: UserWarning: Arguments other than a weight enum or `None` for 'weights' are deprecated since 0.13 and may be removed in the future. The current behavior is equivalent to passing `weights=VGG16_Weights.IMAGENET1K_V1`. You can also use `weights=VGG16_Weights.DEFAULT` to get the most up-to-date weights.\n",
      "  warnings.warn(msg)\n",
      "Downloading: \"https://download.pytorch.org/models/vgg16-397923af.pth\" to /root/.cache/torch/hub/checkpoints/vgg16-397923af.pth\n"
     ]
    },
    {
     "data": {
      "application/vnd.jupyter.widget-view+json": {
       "model_id": "feceed7747cc42a38aed58c14021265f",
       "version_major": 2,
       "version_minor": 0
      },
      "text/plain": [
       "  0%|          | 0.00/528M [00:00<?, ?B/s]"
      ]
     },
     "metadata": {},
     "output_type": "display_data"
    }
   ],
   "source": [
    "# Define the model\n",
    "model = models.vgg16(pretrained=True)\n",
    "\n",
    "# Freeze VGG weights\n",
    "for param in model.parameters():\n",
    "  param.requires_grad = False"
   ]
  },
  {
   "cell_type": "code",
   "execution_count": 8,
   "id": "af788d99",
   "metadata": {
    "execution": {
     "iopub.execute_input": "2023-03-17T20:57:32.428547Z",
     "iopub.status.busy": "2023-03-17T20:57:32.428251Z",
     "iopub.status.idle": "2023-03-17T20:57:32.435174Z",
     "shell.execute_reply": "2023-03-17T20:57:32.433198Z"
    },
    "papermill": {
     "duration": 0.01557,
     "end_time": "2023-03-17T20:57:32.438021",
     "exception": false,
     "start_time": "2023-03-17T20:57:32.422451",
     "status": "completed"
    },
    "tags": []
   },
   "outputs": [
    {
     "name": "stdout",
     "output_type": "stream",
     "text": [
      "VGG(\n",
      "  (features): Sequential(\n",
      "    (0): Conv2d(3, 64, kernel_size=(3, 3), stride=(1, 1), padding=(1, 1))\n",
      "    (1): ReLU(inplace=True)\n",
      "    (2): Conv2d(64, 64, kernel_size=(3, 3), stride=(1, 1), padding=(1, 1))\n",
      "    (3): ReLU(inplace=True)\n",
      "    (4): MaxPool2d(kernel_size=2, stride=2, padding=0, dilation=1, ceil_mode=False)\n",
      "    (5): Conv2d(64, 128, kernel_size=(3, 3), stride=(1, 1), padding=(1, 1))\n",
      "    (6): ReLU(inplace=True)\n",
      "    (7): Conv2d(128, 128, kernel_size=(3, 3), stride=(1, 1), padding=(1, 1))\n",
      "    (8): ReLU(inplace=True)\n",
      "    (9): MaxPool2d(kernel_size=2, stride=2, padding=0, dilation=1, ceil_mode=False)\n",
      "    (10): Conv2d(128, 256, kernel_size=(3, 3), stride=(1, 1), padding=(1, 1))\n",
      "    (11): ReLU(inplace=True)\n",
      "    (12): Conv2d(256, 256, kernel_size=(3, 3), stride=(1, 1), padding=(1, 1))\n",
      "    (13): ReLU(inplace=True)\n",
      "    (14): Conv2d(256, 256, kernel_size=(3, 3), stride=(1, 1), padding=(1, 1))\n",
      "    (15): ReLU(inplace=True)\n",
      "    (16): MaxPool2d(kernel_size=2, stride=2, padding=0, dilation=1, ceil_mode=False)\n",
      "    (17): Conv2d(256, 512, kernel_size=(3, 3), stride=(1, 1), padding=(1, 1))\n",
      "    (18): ReLU(inplace=True)\n",
      "    (19): Conv2d(512, 512, kernel_size=(3, 3), stride=(1, 1), padding=(1, 1))\n",
      "    (20): ReLU(inplace=True)\n",
      "    (21): Conv2d(512, 512, kernel_size=(3, 3), stride=(1, 1), padding=(1, 1))\n",
      "    (22): ReLU(inplace=True)\n",
      "    (23): MaxPool2d(kernel_size=2, stride=2, padding=0, dilation=1, ceil_mode=False)\n",
      "    (24): Conv2d(512, 512, kernel_size=(3, 3), stride=(1, 1), padding=(1, 1))\n",
      "    (25): ReLU(inplace=True)\n",
      "    (26): Conv2d(512, 512, kernel_size=(3, 3), stride=(1, 1), padding=(1, 1))\n",
      "    (27): ReLU(inplace=True)\n",
      "    (28): Conv2d(512, 512, kernel_size=(3, 3), stride=(1, 1), padding=(1, 1))\n",
      "    (29): ReLU(inplace=True)\n",
      "    (30): MaxPool2d(kernel_size=2, stride=2, padding=0, dilation=1, ceil_mode=False)\n",
      "  )\n",
      "  (avgpool): AdaptiveAvgPool2d(output_size=(7, 7))\n",
      "  (classifier): Sequential(\n",
      "    (0): Linear(in_features=25088, out_features=4096, bias=True)\n",
      "    (1): ReLU(inplace=True)\n",
      "    (2): Dropout(p=0.5, inplace=False)\n",
      "    (3): Linear(in_features=4096, out_features=4096, bias=True)\n",
      "    (4): ReLU(inplace=True)\n",
      "    (5): Dropout(p=0.5, inplace=False)\n",
      "    (6): Linear(in_features=4096, out_features=1000, bias=True)\n",
      "  )\n",
      ")\n"
     ]
    }
   ],
   "source": [
    "print(model)"
   ]
  },
  {
   "cell_type": "code",
   "execution_count": 9,
   "id": "15589395",
   "metadata": {
    "execution": {
     "iopub.execute_input": "2023-03-17T20:57:32.449191Z",
     "iopub.status.busy": "2023-03-17T20:57:32.448887Z",
     "iopub.status.idle": "2023-03-17T20:57:32.456194Z",
     "shell.execute_reply": "2023-03-17T20:57:32.455180Z"
    },
    "papermill": {
     "duration": 0.014911,
     "end_time": "2023-03-17T20:57:32.458274",
     "exception": false,
     "start_time": "2023-03-17T20:57:32.443363",
     "status": "completed"
    },
    "tags": []
   },
   "outputs": [
    {
     "data": {
      "text/plain": [
       "Sequential(\n",
       "  (0): Linear(in_features=25088, out_features=4096, bias=True)\n",
       "  (1): ReLU(inplace=True)\n",
       "  (2): Dropout(p=0.5, inplace=False)\n",
       "  (3): Linear(in_features=4096, out_features=4096, bias=True)\n",
       "  (4): ReLU(inplace=True)\n",
       "  (5): Dropout(p=0.5, inplace=False)\n",
       "  (6): Linear(in_features=4096, out_features=1000, bias=True)\n",
       ")"
      ]
     },
     "execution_count": 9,
     "metadata": {},
     "output_type": "execute_result"
    }
   ],
   "source": [
    "# We want to replace the `classifier`\n",
    "model.classifier"
   ]
  },
  {
   "cell_type": "code",
   "execution_count": 10,
   "id": "95bd2447",
   "metadata": {
    "execution": {
     "iopub.execute_input": "2023-03-17T20:57:32.468704Z",
     "iopub.status.busy": "2023-03-17T20:57:32.468433Z",
     "iopub.status.idle": "2023-03-17T20:57:32.474331Z",
     "shell.execute_reply": "2023-03-17T20:57:32.473299Z"
    },
    "papermill": {
     "duration": 0.01362,
     "end_time": "2023-03-17T20:57:32.476440",
     "exception": false,
     "start_time": "2023-03-17T20:57:32.462820",
     "status": "completed"
    },
    "tags": []
   },
   "outputs": [
    {
     "data": {
      "text/plain": [
       "25088"
      ]
     },
     "execution_count": 10,
     "metadata": {},
     "output_type": "execute_result"
    }
   ],
   "source": [
    "n_features = model.classifier[0].in_features\n",
    "n_features"
   ]
  },
  {
   "cell_type": "code",
   "execution_count": 11,
   "id": "14f014cf",
   "metadata": {
    "execution": {
     "iopub.execute_input": "2023-03-17T20:57:32.487398Z",
     "iopub.status.busy": "2023-03-17T20:57:32.486627Z",
     "iopub.status.idle": "2023-03-17T20:57:32.492179Z",
     "shell.execute_reply": "2023-03-17T20:57:32.491355Z"
    },
    "papermill": {
     "duration": 0.013115,
     "end_time": "2023-03-17T20:57:32.494231",
     "exception": false,
     "start_time": "2023-03-17T20:57:32.481116",
     "status": "completed"
    },
    "tags": []
   },
   "outputs": [],
   "source": [
    "model.classifier = nn.Linear(n_features, 2)"
   ]
  },
  {
   "cell_type": "code",
   "execution_count": 12,
   "id": "04d12d70",
   "metadata": {
    "execution": {
     "iopub.execute_input": "2023-03-17T20:57:32.505289Z",
     "iopub.status.busy": "2023-03-17T20:57:32.504487Z",
     "iopub.status.idle": "2023-03-17T20:57:32.511086Z",
     "shell.execute_reply": "2023-03-17T20:57:32.509201Z"
    },
    "papermill": {
     "duration": 0.014816,
     "end_time": "2023-03-17T20:57:32.513759",
     "exception": false,
     "start_time": "2023-03-17T20:57:32.498943",
     "status": "completed"
    },
    "tags": []
   },
   "outputs": [
    {
     "name": "stdout",
     "output_type": "stream",
     "text": [
      "VGG(\n",
      "  (features): Sequential(\n",
      "    (0): Conv2d(3, 64, kernel_size=(3, 3), stride=(1, 1), padding=(1, 1))\n",
      "    (1): ReLU(inplace=True)\n",
      "    (2): Conv2d(64, 64, kernel_size=(3, 3), stride=(1, 1), padding=(1, 1))\n",
      "    (3): ReLU(inplace=True)\n",
      "    (4): MaxPool2d(kernel_size=2, stride=2, padding=0, dilation=1, ceil_mode=False)\n",
      "    (5): Conv2d(64, 128, kernel_size=(3, 3), stride=(1, 1), padding=(1, 1))\n",
      "    (6): ReLU(inplace=True)\n",
      "    (7): Conv2d(128, 128, kernel_size=(3, 3), stride=(1, 1), padding=(1, 1))\n",
      "    (8): ReLU(inplace=True)\n",
      "    (9): MaxPool2d(kernel_size=2, stride=2, padding=0, dilation=1, ceil_mode=False)\n",
      "    (10): Conv2d(128, 256, kernel_size=(3, 3), stride=(1, 1), padding=(1, 1))\n",
      "    (11): ReLU(inplace=True)\n",
      "    (12): Conv2d(256, 256, kernel_size=(3, 3), stride=(1, 1), padding=(1, 1))\n",
      "    (13): ReLU(inplace=True)\n",
      "    (14): Conv2d(256, 256, kernel_size=(3, 3), stride=(1, 1), padding=(1, 1))\n",
      "    (15): ReLU(inplace=True)\n",
      "    (16): MaxPool2d(kernel_size=2, stride=2, padding=0, dilation=1, ceil_mode=False)\n",
      "    (17): Conv2d(256, 512, kernel_size=(3, 3), stride=(1, 1), padding=(1, 1))\n",
      "    (18): ReLU(inplace=True)\n",
      "    (19): Conv2d(512, 512, kernel_size=(3, 3), stride=(1, 1), padding=(1, 1))\n",
      "    (20): ReLU(inplace=True)\n",
      "    (21): Conv2d(512, 512, kernel_size=(3, 3), stride=(1, 1), padding=(1, 1))\n",
      "    (22): ReLU(inplace=True)\n",
      "    (23): MaxPool2d(kernel_size=2, stride=2, padding=0, dilation=1, ceil_mode=False)\n",
      "    (24): Conv2d(512, 512, kernel_size=(3, 3), stride=(1, 1), padding=(1, 1))\n",
      "    (25): ReLU(inplace=True)\n",
      "    (26): Conv2d(512, 512, kernel_size=(3, 3), stride=(1, 1), padding=(1, 1))\n",
      "    (27): ReLU(inplace=True)\n",
      "    (28): Conv2d(512, 512, kernel_size=(3, 3), stride=(1, 1), padding=(1, 1))\n",
      "    (29): ReLU(inplace=True)\n",
      "    (30): MaxPool2d(kernel_size=2, stride=2, padding=0, dilation=1, ceil_mode=False)\n",
      "  )\n",
      "  (avgpool): AdaptiveAvgPool2d(output_size=(7, 7))\n",
      "  (classifier): Linear(in_features=25088, out_features=2, bias=True)\n",
      ")\n"
     ]
    }
   ],
   "source": [
    "print(model)"
   ]
  },
  {
   "cell_type": "code",
   "execution_count": 13,
   "id": "9212df2a",
   "metadata": {
    "execution": {
     "iopub.execute_input": "2023-03-17T20:57:32.525809Z",
     "iopub.status.busy": "2023-03-17T20:57:32.525010Z",
     "iopub.status.idle": "2023-03-17T20:57:35.429263Z",
     "shell.execute_reply": "2023-03-17T20:57:35.428213Z"
    },
    "papermill": {
     "duration": 2.912264,
     "end_time": "2023-03-17T20:57:35.431491",
     "exception": false,
     "start_time": "2023-03-17T20:57:32.519227",
     "status": "completed"
    },
    "tags": []
   },
   "outputs": [
    {
     "name": "stdout",
     "output_type": "stream",
     "text": [
      "cuda:0\n"
     ]
    },
    {
     "data": {
      "text/plain": [
       "VGG(\n",
       "  (features): Sequential(\n",
       "    (0): Conv2d(3, 64, kernel_size=(3, 3), stride=(1, 1), padding=(1, 1))\n",
       "    (1): ReLU(inplace=True)\n",
       "    (2): Conv2d(64, 64, kernel_size=(3, 3), stride=(1, 1), padding=(1, 1))\n",
       "    (3): ReLU(inplace=True)\n",
       "    (4): MaxPool2d(kernel_size=2, stride=2, padding=0, dilation=1, ceil_mode=False)\n",
       "    (5): Conv2d(64, 128, kernel_size=(3, 3), stride=(1, 1), padding=(1, 1))\n",
       "    (6): ReLU(inplace=True)\n",
       "    (7): Conv2d(128, 128, kernel_size=(3, 3), stride=(1, 1), padding=(1, 1))\n",
       "    (8): ReLU(inplace=True)\n",
       "    (9): MaxPool2d(kernel_size=2, stride=2, padding=0, dilation=1, ceil_mode=False)\n",
       "    (10): Conv2d(128, 256, kernel_size=(3, 3), stride=(1, 1), padding=(1, 1))\n",
       "    (11): ReLU(inplace=True)\n",
       "    (12): Conv2d(256, 256, kernel_size=(3, 3), stride=(1, 1), padding=(1, 1))\n",
       "    (13): ReLU(inplace=True)\n",
       "    (14): Conv2d(256, 256, kernel_size=(3, 3), stride=(1, 1), padding=(1, 1))\n",
       "    (15): ReLU(inplace=True)\n",
       "    (16): MaxPool2d(kernel_size=2, stride=2, padding=0, dilation=1, ceil_mode=False)\n",
       "    (17): Conv2d(256, 512, kernel_size=(3, 3), stride=(1, 1), padding=(1, 1))\n",
       "    (18): ReLU(inplace=True)\n",
       "    (19): Conv2d(512, 512, kernel_size=(3, 3), stride=(1, 1), padding=(1, 1))\n",
       "    (20): ReLU(inplace=True)\n",
       "    (21): Conv2d(512, 512, kernel_size=(3, 3), stride=(1, 1), padding=(1, 1))\n",
       "    (22): ReLU(inplace=True)\n",
       "    (23): MaxPool2d(kernel_size=2, stride=2, padding=0, dilation=1, ceil_mode=False)\n",
       "    (24): Conv2d(512, 512, kernel_size=(3, 3), stride=(1, 1), padding=(1, 1))\n",
       "    (25): ReLU(inplace=True)\n",
       "    (26): Conv2d(512, 512, kernel_size=(3, 3), stride=(1, 1), padding=(1, 1))\n",
       "    (27): ReLU(inplace=True)\n",
       "    (28): Conv2d(512, 512, kernel_size=(3, 3), stride=(1, 1), padding=(1, 1))\n",
       "    (29): ReLU(inplace=True)\n",
       "    (30): MaxPool2d(kernel_size=2, stride=2, padding=0, dilation=1, ceil_mode=False)\n",
       "  )\n",
       "  (avgpool): AdaptiveAvgPool2d(output_size=(7, 7))\n",
       "  (classifier): Linear(in_features=25088, out_features=2, bias=True)\n",
       ")"
      ]
     },
     "execution_count": 13,
     "metadata": {},
     "output_type": "execute_result"
    }
   ],
   "source": [
    "device = torch.device(\"cuda:0\" if torch.cuda.is_available() else \"cpu\")\n",
    "print(device)\n",
    "model.to(device)"
   ]
  },
  {
   "cell_type": "code",
   "execution_count": 14,
   "id": "0026a753",
   "metadata": {
    "execution": {
     "iopub.execute_input": "2023-03-17T20:57:35.444822Z",
     "iopub.status.busy": "2023-03-17T20:57:35.443120Z",
     "iopub.status.idle": "2023-03-17T20:57:35.449497Z",
     "shell.execute_reply": "2023-03-17T20:57:35.448592Z"
    },
    "papermill": {
     "duration": 0.014887,
     "end_time": "2023-03-17T20:57:35.451669",
     "exception": false,
     "start_time": "2023-03-17T20:57:35.436782",
     "status": "completed"
    },
    "tags": []
   },
   "outputs": [],
   "source": [
    "# Loss and optimizer\n",
    "criterion = nn.CrossEntropyLoss()\n",
    "optimizer = torch.optim.Adam(model.parameters())"
   ]
  },
  {
   "cell_type": "code",
   "execution_count": 15,
   "id": "97c3808b",
   "metadata": {
    "execution": {
     "iopub.execute_input": "2023-03-17T20:57:35.464239Z",
     "iopub.status.busy": "2023-03-17T20:57:35.462656Z",
     "iopub.status.idle": "2023-03-17T20:57:35.473163Z",
     "shell.execute_reply": "2023-03-17T20:57:35.472268Z"
    },
    "papermill": {
     "duration": 0.018667,
     "end_time": "2023-03-17T20:57:35.475351",
     "exception": false,
     "start_time": "2023-03-17T20:57:35.456684",
     "status": "completed"
    },
    "tags": []
   },
   "outputs": [],
   "source": [
    "def batch_gd(model, criterion, optimizer, train_loader, test_loader, epochs):\n",
    "  train_losses = np.zeros(epochs)\n",
    "  test_losses = np.zeros(epochs)\n",
    "\n",
    "  for it in range(epochs):\n",
    "    t0 = datetime.now()\n",
    "    train_loss = []\n",
    "    for inputs, targets in train_loader:\n",
    "      # move data to GPU\n",
    "      inputs, targets = inputs.to(device), targets.to(device)\n",
    "\n",
    "      # zero the parameter gradients\n",
    "      optimizer.zero_grad()\n",
    "\n",
    "      # Forward pass\n",
    "      outputs = model(inputs)\n",
    "      loss = criterion(outputs, targets)\n",
    "        \n",
    "      # Backward and optimize\n",
    "      loss.backward()\n",
    "      optimizer.step()\n",
    "\n",
    "      train_loss.append(loss.item())\n",
    "\n",
    "    # Get train loss and test loss\n",
    "    train_loss = np.mean(train_loss) # a little misleading\n",
    "    \n",
    "    test_loss = []\n",
    "    for inputs, targets in test_loader:\n",
    "      inputs, targets = inputs.to(device), targets.to(device)\n",
    "      outputs = model(inputs)\n",
    "      loss = criterion(outputs, targets)\n",
    "      test_loss.append(loss.item())\n",
    "    test_loss = np.mean(test_loss)\n",
    "\n",
    "    # Save losses\n",
    "    train_losses[it] = train_loss\n",
    "    test_losses[it] = test_loss\n",
    "    \n",
    "    dt = datetime.now() - t0\n",
    "    print(f'Epoch {it+1}/{epochs}, Train Loss: {train_loss:.4f}, \\\n",
    "      Test Loss: {test_loss:.4f}, Duration: {dt}')\n",
    "  \n",
    "  return train_losses, test_losses"
   ]
  },
  {
   "cell_type": "code",
   "execution_count": 16,
   "id": "208695e9",
   "metadata": {
    "execution": {
     "iopub.execute_input": "2023-03-17T20:57:35.488087Z",
     "iopub.status.busy": "2023-03-17T20:57:35.486534Z",
     "iopub.status.idle": "2023-03-17T21:08:09.372763Z",
     "shell.execute_reply": "2023-03-17T21:08:09.371556Z"
    },
    "papermill": {
     "duration": 633.90072,
     "end_time": "2023-03-17T21:08:09.381398",
     "exception": false,
     "start_time": "2023-03-17T20:57:35.480678",
     "status": "completed"
    },
    "tags": []
   },
   "outputs": [
    {
     "name": "stdout",
     "output_type": "stream",
     "text": [
      "Epoch 1/5, Train Loss: 0.1252,       Test Loss: 0.0285, Duration: 0:02:41.824361\n",
      "Epoch 2/5, Train Loss: 0.0250,       Test Loss: 0.0290, Duration: 0:01:57.832106\n",
      "Epoch 3/5, Train Loss: 0.0113,       Test Loss: 0.0257, Duration: 0:01:57.769985\n",
      "Epoch 4/5, Train Loss: 0.0064,       Test Loss: 0.0235, Duration: 0:01:57.984916\n",
      "Epoch 5/5, Train Loss: 0.0073,       Test Loss: 0.0302, Duration: 0:01:58.467142\n"
     ]
    }
   ],
   "source": [
    "\n",
    "\n",
    "train_losses, test_losses = batch_gd(\n",
    "    model,\n",
    "    criterion,\n",
    "    optimizer,\n",
    "    train_loader,\n",
    "    test_loader,\n",
    "    epochs=5,\n",
    ")\n",
    "\n"
   ]
  },
  {
   "cell_type": "code",
   "execution_count": 17,
   "id": "a6d74094",
   "metadata": {
    "execution": {
     "iopub.execute_input": "2023-03-17T21:08:09.394917Z",
     "iopub.status.busy": "2023-03-17T21:08:09.394592Z",
     "iopub.status.idle": "2023-03-17T21:08:09.648175Z",
     "shell.execute_reply": "2023-03-17T21:08:09.647021Z"
    },
    "papermill": {
     "duration": 0.263108,
     "end_time": "2023-03-17T21:08:09.650547",
     "exception": false,
     "start_time": "2023-03-17T21:08:09.387439",
     "status": "completed"
    },
    "tags": []
   },
   "outputs": [
    {
     "data": {
      "image/png": "[encoded data removed]",
      "text/plain": [
       "<Figure size 640x480 with 1 Axes>"
      ]
     },
     "metadata": {},
     "output_type": "display_data"
    }
   ],
   "source": [
    "# Plot the train loss and test loss per iteration\n",
    "plt.plot(train_losses, label='train loss')\n",
    "plt.plot(test_losses, label='test loss')\n",
    "plt.legend()\n",
    "plt.show()"
   ]
  },
  {
   "cell_type": "code",
   "execution_count": 18,
   "id": "7377ccf4",
   "metadata": {
    "execution": {
     "iopub.execute_input": "2023-03-17T21:08:09.666741Z",
     "iopub.status.busy": "2023-03-17T21:08:09.664993Z",
     "iopub.status.idle": "2023-03-17T21:10:21.510923Z",
     "shell.execute_reply": "2023-03-17T21:10:21.507769Z"
    },
    "papermill": {
     "duration": 131.86143,
     "end_time": "2023-03-17T21:10:21.518741",
     "exception": false,
     "start_time": "2023-03-17T21:08:09.657311",
     "status": "completed"
    },
    "tags": []
   },
   "outputs": [
    {
     "name": "stdout",
     "output_type": "stream",
     "text": [
      "Train acc: 0.9983, Test acc: 0.9916\n"
     ]
    }
   ],
   "source": [
    "\n",
    "\n",
    "# Accuracy\n",
    "\n",
    "n_correct = 0.\n",
    "n_total = 0.\n",
    "for inputs, targets in train_loader:\n",
    "  inputs, targets = inputs.to(device), targets.to(device)\n",
    "\n",
    "  # Forward pass\n",
    "  outputs = model(inputs)\n",
    "\n",
    "  # Get prediction\n",
    "  # torch.max returns both max and argmax\n",
    "  _, predictions = torch.max(outputs, 1)\n",
    "  \n",
    "  # update counts\n",
    "  n_correct += (predictions == targets).sum().item()\n",
    "  n_total += targets.shape[0]\n",
    "\n",
    "train_acc = n_correct / n_total\n",
    "\n",
    "\n",
    "n_correct = 0.\n",
    "n_total = 0.\n",
    "for inputs, targets in test_loader:\n",
    "  inputs, targets = inputs.to(device), targets.to(device)\n",
    "\n",
    "  # Forward pass\n",
    "  outputs = model(inputs)\n",
    "\n",
    "  # Get prediction\n",
    "  # torch.max returns both max and argmax\n",
    "  _, predictions = torch.max(outputs, 1)\n",
    "  \n",
    "  # update counts\n",
    "  n_correct += (predictions == targets).sum().item()\n",
    "  n_total += targets.shape[0]\n",
    "\n",
    "test_acc = n_correct / n_total\n",
    "print(f\"Train acc: {train_acc:.4f}, Test acc: {test_acc:.4f}\")\n",
    "\n"
   ]
  },
  {
   "cell_type": "code",
   "execution_count": null,
   "id": "593d1f50",
   "metadata": {
    "papermill": {
     "duration": 0.006391,
     "end_time": "2023-03-17T21:10:21.532624",
     "exception": false,
     "start_time": "2023-03-17T21:10:21.526233",
     "status": "completed"
    },
    "tags": []
   },
   "outputs": [],
   "source": []
  }
 ],
 "metadata": {
  "kernelspec": {
   "display_name": "Python 3",
   "language": "python",
   "name": "python3"
  },
  "language_info": {
   "codemirror_mode": {
    "name": "ipython",
    "version": 3
   },
   "file_extension": ".py",
   "mimetype": "text/x-python",
   "name": "python",
   "nbconvert_exporter": "python",
   "pygments_lexer": "ipython3",
   "version": "3.7.12"
  },
  "papermill": {
   "default_parameters": {},
   "duration": 793.123764,
   "end_time": "2023-03-17T21:10:23.795609",
   "environment_variables": {},
   "exception": null,
   "input_path": "__notebook__.ipynb",
   "output_path": "__notebook__.ipynb",
   "parameters": {},
   "start_time": "2023-03-17T20:57:10.671845",
   "version": "2.4.0"
  },
  "widgets": {
   "application/vnd.jupyter.widget-state+json": {
    "state": {
     "1b48bc550aa14689acb94fee6b79700d": {
      "model_module": "@jupyter-widgets/controls",
      "model_module_version": "1.5.0",
      "model_name": "ProgressStyleModel",
      "state": {
       "_model_module": "@jupyter-widgets/controls",
       "_model_module_version": "1.5.0",
       "_model_name": "ProgressStyleModel",
       "_view_count": null,
       "_view_module": "@jupyter-widgets/base",
       "_view_module_version": "1.2.0",
       "_view_name": "StyleView",
       "bar_color": null,
       "description_width": ""
      }
     },
     "558bd973d6f345c6a2a067cce501c4b5": {
      "model_module": "@jupyter-widgets/base",
      "model_module_version": "1.2.0",
      "model_name": "LayoutModel",
      "state": {
       "_model_module": "@jupyter-widgets/base",
       "_model_module_version": "1.2.0",
       "_model_name": "LayoutModel",
       "_view_count": null,
       "_view_module": "@jupyter-widgets/base",
       "_view_module_version": "1.2.0",
       "_view_name": "LayoutView",
       "align_content": null,
       "align_items": null,
       "align_self": null,
       "border": null,
       "bottom": null,
       "display": null,
       "flex": null,
       "flex_flow": null,
       "grid_area": null,
       "grid_auto_columns": null,
       "grid_auto_flow": null,
       "grid_auto_rows": null,
       "grid_column": null,
       "grid_gap": null,
       "grid_row": null,
       "grid_template_areas": null,
       "grid_template_columns": null,
       "grid_template_rows": null,
       "height": null,
       "justify_content": null,
       "justify_items": null,
       "left": null,
       "margin": null,
       "max_height": null,
       "max_width": null,
       "min_height": null,
       "min_width": null,
       "object_fit": null,
       "object_position": null,
       "order": null,
       "overflow": null,
       "overflow_x": null,
       "overflow_y": null,
       "padding": null,
       "right": null,
       "top": null,
       "visibility": null,
       "width": null
      }
     },
     "5f64fb34118d426d84c0deba1c59a503": {
      "model_module": "@jupyter-widgets/controls",
      "model_module_version": "1.5.0",
      "model_name": "FloatProgressModel",
      "state": {
       "_dom_classes": [],
       "_model_module": "@jupyter-widgets/controls",
       "_model_module_version": "1.5.0",
       "_model_name": "FloatProgressModel",
       "_view_count": null,
       "_view_module": "@jupyter-widgets/controls",
       "_view_module_version": "1.5.0",
       "_view_name": "ProgressView",
       "bar_style": "success",
       "description": "",
       "description_tooltip": null,
       "layout": "IPY_MODEL_7c11cde05c6746988cce1137b420118e",
       "max": 553433881.0,
       "min": 0.0,
       "orientation": "horizontal",
       "style": "IPY_MODEL_1b48bc550aa14689acb94fee6b79700d",
       "value": 553433881.0
      }
     },
     "7c11cde05c6746988cce1137b420118e": {
      "model_module": "@jupyter-widgets/base",
      "model_module_version": "1.2.0",
      "model_name": "LayoutModel",
      "state": {
       "_model_module": "@jupyter-widgets/base",
       "_model_module_version": "1.2.0",
       "_model_name": "LayoutModel",
       "_view_count": null,
       "_view_module": "@jupyter-widgets/base",
       "_view_module_version": "1.2.0",
       "_view_name": "LayoutView",
       "align_content": null,
       "align_items": null,
       "align_self": null,
       "border": null,
       "bottom": null,
       "display": null,
       "flex": null,
       "flex_flow": null,
       "grid_area": null,
       "grid_auto_columns": null,
       "grid_auto_flow": null,
       "grid_auto_rows": null,
       "grid_column": null,
       "grid_gap": null,
       "grid_row": null,
       "grid_template_areas": null,
       "grid_template_columns": null,
       "grid_template_rows": null,
       "height": null,
       "justify_content": null,
       "justify_items": null,
       "left": null,
       "margin": null,
       "max_height": null,
       "max_width": null,
       "min_height": null,
       "min_width": null,
       "object_fit": null,
       "object_position": null,
       "order": null,
       "overflow": null,
       "overflow_x": null,
       "overflow_y": null,
       "padding": null,
       "right": null,
       "top": null,
       "visibility": null,
       "width": null
      }
     },
     "a358006a3d4446a3a3645d1ade240760": {
      "model_module": "@jupyter-widgets/controls",
      "model_module_version": "1.5.0",
      "model_name": "DescriptionStyleModel",
      "state": {
       "_model_module": "@jupyter-widgets/controls",
       "_model_module_version": "1.5.0",
       "_model_name": "DescriptionStyleModel",
       "_view_count": null,
       "_view_module": "@jupyter-widgets/base",
       "_view_module_version": "1.2.0",
       "_view_name": "StyleView",
       "description_width": ""
      }
     },
     "ae679c909c74492a8c3c1758839018ff": {
      "model_module": "@jupyter-widgets/base",
      "model_module_version": "1.2.0",
      "model_name": "LayoutModel",
      "state": {
       "_model_module": "@jupyter-widgets/base",
       "_model_module_version": "1.2.0",
       "_model_name": "LayoutModel",
       "_view_count": null,
       "_view_module": "@jupyter-widgets/base",
       "_view_module_version": "1.2.0",
       "_view_name": "LayoutView",
       "align_content": null,
       "align_items": null,
       "align_self": null,
       "border": null,
       "bottom": null,
       "display": null,
       "flex": null,
       "flex_flow": null,
       "grid_area": null,
       "grid_auto_columns": null,
       "grid_auto_flow": null,
       "grid_auto_rows": null,
       "grid_column": null,
       "grid_gap": null,
       "grid_row": null,
       "grid_template_areas": null,
       "grid_template_columns": null,
       "grid_template_rows": null,
       "height": null,
       "justify_content": null,
       "justify_items": null,
       "left": null,
       "margin": null,
       "max_height": null,
       "max_width": null,
       "min_height": null,
       "min_width": null,
       "object_fit": null,
       "object_position": null,
       "order": null,
       "overflow": null,
       "overflow_x": null,
       "overflow_y": null,
       "padding": null,
       "right": null,
       "top": null,
       "visibility": null,
       "width": null
      }
     },
     "b54d236d386d4143b430d570139ae210": {
      "model_module": "@jupyter-widgets/controls",
      "model_module_version": "1.5.0",
      "model_name": "DescriptionStyleModel",
      "state": {
       "_model_module": "@jupyter-widgets/controls",
       "_model_module_version": "1.5.0",
       "_model_name": "DescriptionStyleModel",
       "_view_count": null,
       "_view_module": "@jupyter-widgets/base",
       "_view_module_version": "1.2.0",
       "_view_name": "StyleView",
       "description_width": ""
      }
     },
     "b92addb4c5c54812b80a01bd5272e657": {
      "model_module": "@jupyter-widgets/controls",
      "model_module_version": "1.5.0",
      "model_name": "HTMLModel",
      "state": {
       "_dom_classes": [],
       "_model_module": "@jupyter-widgets/controls",
       "_model_module_version": "1.5.0",
       "_model_name": "HTMLModel",
       "_view_count": null,
       "_view_module": "@jupyter-widgets/controls",
       "_view_module_version": "1.5.0",
       "_view_name": "HTMLView",
       "description": "",
       "description_tooltip": null,
       "layout": "IPY_MODEL_558bd973d6f345c6a2a067cce501c4b5",
       "placeholder": "​",
       "style": "IPY_MODEL_b54d236d386d4143b430d570139ae210",
       "value": " 528M/528M [00:02&lt;00:00, 283MB/s]"
      }
     },
     "c0ddb4e68a58454cb0a2e14c6b4571b2": {
      "model_module": "@jupyter-widgets/base",
      "model_module_version": "1.2.0",
      "model_name": "LayoutModel",
      "state": {
       "_model_module": "@jupyter-widgets/base",
       "_model_module_version": "1.2.0",
       "_model_name": "LayoutModel",
       "_view_count": null,
       "_view_module": "@jupyter-widgets/base",
       "_view_module_version": "1.2.0",
       "_view_name": "LayoutView",
       "align_content": null,
       "align_items": null,
       "align_self": null,
       "border": null,
       "bottom": null,
       "display": null,
       "flex": null,
       "flex_flow": null,
       "grid_area": null,
       "grid_auto_columns": null,
       "grid_auto_flow": null,
       "grid_auto_rows": null,
       "grid_column": null,
       "grid_gap": null,
       "grid_row": null,
       "grid_template_areas": null,
       "grid_template_columns": null,
       "grid_template_rows": null,
       "height": null,
       "justify_content": null,
       "justify_items": null,
       "left": null,
       "margin": null,
       "max_height": null,
       "max_width": null,
       "min_height": null,
       "min_width": null,
       "object_fit": null,
       "object_position": null,
       "order": null,
       "overflow": null,
       "overflow_x": null,
       "overflow_y": null,
       "padding": null,
       "right": null,
       "top": null,
       "visibility": null,
       "width": null
      }
     },
     "eb0548cb94a0465988c618c18375bc32": {
      "model_module": "@jupyter-widgets/controls",
      "model_module_version": "1.5.0",
      "model_name": "HTMLModel",
      "state": {
       "_dom_classes": [],
       "_model_module": "@jupyter-widgets/controls",
       "_model_module_version": "1.5.0",
       "_model_name": "HTMLModel",
       "_view_count": null,
       "_view_module": "@jupyter-widgets/controls",
       "_view_module_version": "1.5.0",
       "_view_name": "HTMLView",
       "description": "",
       "description_tooltip": null,
       "layout": "IPY_MODEL_ae679c909c74492a8c3c1758839018ff",
       "placeholder": "​",
       "style": "IPY_MODEL_a358006a3d4446a3a3645d1ade240760",
       "value": "100%"
      }
     },
     "feceed7747cc42a38aed58c14021265f": {
      "model_module": "@jupyter-widgets/controls",
      "model_module_version": "1.5.0",
      "model_name": "HBoxModel",
      "state": {
       "_dom_classes": [],
       "_model_module": "@jupyter-widgets/controls",
       "_model_module_version": "1.5.0",
       "_model_name": "HBoxModel",
       "_view_count": null,
       "_view_module": "@jupyter-widgets/controls",
       "_view_module_version": "1.5.0",
       "_view_name": "HBoxView",
       "box_style": "",
       "children": [
        "IPY_MODEL_eb0548cb94a0465988c618c18375bc32",
        "IPY_MODEL_5f64fb34118d426d84c0deba1c59a503",
        "IPY_MODEL_b92addb4c5c54812b80a01bd5272e657"
       ],
       "layout": "IPY_MODEL_c0ddb4e68a58454cb0a2e14c6b4571b2"
      }
     }
    },
    "version_major": 2,
    "version_minor": 0
   }
  }
 },
 "nbformat": 4,
 "nbformat_minor": 5
}
