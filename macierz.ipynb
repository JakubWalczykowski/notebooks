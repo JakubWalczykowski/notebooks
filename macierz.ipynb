{
  "cells": [
    {
      "cell_type": "markdown",
      "metadata": {
        "id": "view-in-github",
        "colab_type": "text"
      },
      "source": [
        "<a href=\"https://colab.research.google.com/github/JakubWalczykowski/notebooks/blob/main/macierz.ipynb\" target=\"_parent\"><img src=\"https://colab.research.google.com/assets/colab-badge.svg\" alt=\"Open In Colab\"/></a>"
      ]
    },
    {
      "cell_type": "code",
      "execution_count": 1,
      "metadata": {
        "colab": {
          "base_uri": "https://localhost:8080/"
        },
        "id": "dXlaZoRmDHzw",
        "outputId": "e225a6e7-d802-42ff-8e73-21a0d07e3404"
      },
      "outputs": [
        {
          "output_type": "stream",
          "name": "stdout",
          "text": [
            "Mounted at /content/drive\n"
          ]
        }
      ],
      "source": [
        "import pandas as pd\n",
        "import numpy as np\n",
        "import plotly.express as px\n",
        "import matplotlib.pyplot as plt\n",
        "import seaborn as sns\n",
        "import plotly.graph_objects as go\n",
        "from plotly.subplots import make_subplots\n",
        "import os\n",
        "from collections import defaultdict\n",
        "from google.colab import drive\n",
        "drive.mount('/content/drive')\n"
      ]
    },
    {
      "cell_type": "code",
      "execution_count": 2,
      "metadata": {
        "colab": {
          "base_uri": "https://localhost:8080/",
          "height": 458
        },
        "id": "PKS_EFVUDJWW",
        "outputId": "0135911c-5721-43cc-f329-bb3fb83c9432"
      },
      "outputs": [
        {
          "output_type": "stream",
          "name": "stderr",
          "text": [
            "<ipython-input-2-db6eb1542bd6>:1: DtypeWarning: Columns (20,21) have mixed types. Specify dtype option on import or set low_memory=False.\n",
            "  df = pd.read_csv('/content/drive/MyDrive/Chicago_Crimes_2001_to_2004.csv',\n"
          ]
        },
        {
          "output_type": "execute_result",
          "data": {
            "text/plain": [
              "                           Date   Latitude  Longitude\n",
              "1        03/01/2003 12:00:00 AM  41.817229 -87.637328\n",
              "4        05/01/2003 01:00:00 AM  41.691785 -87.635116\n",
              "6        01/01/2001 11:00:00 AM   41.68702 -87.608445\n",
              "7        03/15/2003 12:00:00 AM  41.729712 -87.653159\n",
              "9        01/01/2003 12:00:00 AM  41.869772  -87.70818\n",
              "...                         ...        ...        ...\n",
              "1923511  04/01/2001 09:00:00 AM  41.922997 -87.757492\n",
              "1923512  09/01/2003 12:01:00 AM  41.963134 -87.784457\n",
              "1923513  08/01/2002 09:00:00 AM  41.743865 -87.674464\n",
              "1923514  06/04/2001 12:01:00 AM  41.736343 -87.555413\n",
              "1923515  08/09/2002 03:00:00 PM  41.772421 -87.609387\n",
              "\n",
              "[1892824 rows x 3 columns]"
            ],
            "text/html": [
              "\n",
              "  <div id=\"df-ade43a4b-640f-471b-a76c-4999214e8581\" class=\"colab-df-container\">\n",
              "    <div>\n",
              "<style scoped>\n",
              "    .dataframe tbody tr th:only-of-type {\n",
              "        vertical-align: middle;\n",
              "    }\n",
              "\n",
              "    .dataframe tbody tr th {\n",
              "        vertical-align: top;\n",
              "    }\n",
              "\n",
              "    .dataframe thead th {\n",
              "        text-align: right;\n",
              "    }\n",
              "</style>\n",
              "<table border=\"1\" class=\"dataframe\">\n",
              "  <thead>\n",
              "    <tr style=\"text-align: right;\">\n",
              "      <th></th>\n",
              "      <th>Date</th>\n",
              "      <th>Latitude</th>\n",
              "      <th>Longitude</th>\n",
              "    </tr>\n",
              "  </thead>\n",
              "  <tbody>\n",
              "    <tr>\n",
              "      <th>1</th>\n",
              "      <td>03/01/2003 12:00:00 AM</td>\n",
              "      <td>41.817229</td>\n",
              "      <td>-87.637328</td>\n",
              "    </tr>\n",
              "    <tr>\n",
              "      <th>4</th>\n",
              "      <td>05/01/2003 01:00:00 AM</td>\n",
              "      <td>41.691785</td>\n",
              "      <td>-87.635116</td>\n",
              "    </tr>\n",
              "    <tr>\n",
              "      <th>6</th>\n",
              "      <td>01/01/2001 11:00:00 AM</td>\n",
              "      <td>41.68702</td>\n",
              "      <td>-87.608445</td>\n",
              "    </tr>\n",
              "    <tr>\n",
              "      <th>7</th>\n",
              "      <td>03/15/2003 12:00:00 AM</td>\n",
              "      <td>41.729712</td>\n",
              "      <td>-87.653159</td>\n",
              "    </tr>\n",
              "    <tr>\n",
              "      <th>9</th>\n",
              "      <td>01/01/2003 12:00:00 AM</td>\n",
              "      <td>41.869772</td>\n",
              "      <td>-87.70818</td>\n",
              "    </tr>\n",
              "    <tr>\n",
              "      <th>...</th>\n",
              "      <td>...</td>\n",
              "      <td>...</td>\n",
              "      <td>...</td>\n",
              "    </tr>\n",
              "    <tr>\n",
              "      <th>1923511</th>\n",
              "      <td>04/01/2001 09:00:00 AM</td>\n",
              "      <td>41.922997</td>\n",
              "      <td>-87.757492</td>\n",
              "    </tr>\n",
              "    <tr>\n",
              "      <th>1923512</th>\n",
              "      <td>09/01/2003 12:01:00 AM</td>\n",
              "      <td>41.963134</td>\n",
              "      <td>-87.784457</td>\n",
              "    </tr>\n",
              "    <tr>\n",
              "      <th>1923513</th>\n",
              "      <td>08/01/2002 09:00:00 AM</td>\n",
              "      <td>41.743865</td>\n",
              "      <td>-87.674464</td>\n",
              "    </tr>\n",
              "    <tr>\n",
              "      <th>1923514</th>\n",
              "      <td>06/04/2001 12:01:00 AM</td>\n",
              "      <td>41.736343</td>\n",
              "      <td>-87.555413</td>\n",
              "    </tr>\n",
              "    <tr>\n",
              "      <th>1923515</th>\n",
              "      <td>08/09/2002 03:00:00 PM</td>\n",
              "      <td>41.772421</td>\n",
              "      <td>-87.609387</td>\n",
              "    </tr>\n",
              "  </tbody>\n",
              "</table>\n",
              "<p>1892824 rows × 3 columns</p>\n",
              "</div>\n",
              "    <div class=\"colab-df-buttons\">\n",
              "\n",
              "  <div class=\"colab-df-container\">\n",
              "    <button class=\"colab-df-convert\" onclick=\"convertToInteractive('df-ade43a4b-640f-471b-a76c-4999214e8581')\"\n",
              "            title=\"Convert this dataframe to an interactive table.\"\n",
              "            style=\"display:none;\">\n",
              "\n",
              "  <svg xmlns=\"http://www.w3.org/2000/svg\" height=\"24px\" viewBox=\"0 -960 960 960\">\n",
              "    <path d=\"M120-120v-720h720v720H120Zm60-500h600v-160H180v160Zm220 220h160v-160H400v160Zm0 220h160v-160H400v160ZM180-400h160v-160H180v160Zm440 0h160v-160H620v160ZM180-180h160v-160H180v160Zm440 0h160v-160H620v160Z\"/>\n",
              "  </svg>\n",
              "    </button>\n",
              "\n",
              "  <style>\n",
              "    .colab-df-container {\n",
              "      display:flex;\n",
              "      gap: 12px;\n",
              "    }\n",
              "\n",
              "    .colab-df-convert {\n",
              "      background-color: #E8F0FE;\n",
              "      border: none;\n",
              "      border-radius: 50%;\n",
              "      cursor: pointer;\n",
              "      display: none;\n",
              "      fill: #1967D2;\n",
              "      height: 32px;\n",
              "      padding: 0 0 0 0;\n",
              "      width: 32px;\n",
              "    }\n",
              "\n",
              "    .colab-df-convert:hover {\n",
              "      background-color: #E2EBFA;\n",
              "      box-shadow: 0px 1px 2px rgba(60, 64, 67, 0.3), 0px 1px 3px 1px rgba(60, 64, 67, 0.15);\n",
              "      fill: #174EA6;\n",
              "    }\n",
              "\n",
              "    .colab-df-buttons div {\n",
              "      margin-bottom: 4px;\n",
              "    }\n",
              "\n",
              "    [theme=dark] .colab-df-convert {\n",
              "      background-color: #3B4455;\n",
              "      fill: #D2E3FC;\n",
              "    }\n",
              "\n",
              "    [theme=dark] .colab-df-convert:hover {\n",
              "      background-color: #434B5C;\n",
              "      box-shadow: 0px 1px 3px 1px rgba(0, 0, 0, 0.15);\n",
              "      filter: drop-shadow(0px 1px 2px rgba(0, 0, 0, 0.3));\n",
              "      fill: #FFFFFF;\n",
              "    }\n",
              "  </style>\n",
              "\n",
              "    <script>\n",
              "      const buttonEl =\n",
              "        document.querySelector('#df-ade43a4b-640f-471b-a76c-4999214e8581 button.colab-df-convert');\n",
              "      buttonEl.style.display =\n",
              "        google.colab.kernel.accessAllowed ? 'block' : 'none';\n",
              "\n",
              "      async function convertToInteractive(key) {\n",
              "        const element = document.querySelector('#df-ade43a4b-640f-471b-a76c-4999214e8581');\n",
              "        const dataTable =\n",
              "          await google.colab.kernel.invokeFunction('convertToInteractive',\n",
              "                                                    [key], {});\n",
              "        if (!dataTable) return;\n",
              "\n",
              "        const docLinkHtml = 'Like what you see? Visit the ' +\n",
              "          '<a target=\"_blank\" href=https://colab.research.google.com/notebooks/data_table.ipynb>data table notebook</a>'\n",
              "          + ' to learn more about interactive tables.';\n",
              "        element.innerHTML = '';\n",
              "        dataTable['output_type'] = 'display_data';\n",
              "        await google.colab.output.renderOutput(dataTable, element);\n",
              "        const docLink = document.createElement('div');\n",
              "        docLink.innerHTML = docLinkHtml;\n",
              "        element.appendChild(docLink);\n",
              "      }\n",
              "    </script>\n",
              "  </div>\n",
              "\n",
              "\n",
              "<div id=\"df-03a8f1c8-583b-4354-995a-5ec49dbc3500\">\n",
              "  <button class=\"colab-df-quickchart\" onclick=\"quickchart('df-03a8f1c8-583b-4354-995a-5ec49dbc3500')\"\n",
              "            title=\"Suggest charts.\"\n",
              "            style=\"display:none;\">\n",
              "\n",
              "<svg xmlns=\"http://www.w3.org/2000/svg\" height=\"24px\"viewBox=\"0 0 24 24\"\n",
              "     width=\"24px\">\n",
              "    <g>\n",
              "        <path d=\"M19 3H5c-1.1 0-2 .9-2 2v14c0 1.1.9 2 2 2h14c1.1 0 2-.9 2-2V5c0-1.1-.9-2-2-2zM9 17H7v-7h2v7zm4 0h-2V7h2v10zm4 0h-2v-4h2v4z\"/>\n",
              "    </g>\n",
              "</svg>\n",
              "  </button>\n",
              "\n",
              "<style>\n",
              "  .colab-df-quickchart {\n",
              "      --bg-color: #E8F0FE;\n",
              "      --fill-color: #1967D2;\n",
              "      --hover-bg-color: #E2EBFA;\n",
              "      --hover-fill-color: #174EA6;\n",
              "      --disabled-fill-color: #AAA;\n",
              "      --disabled-bg-color: #DDD;\n",
              "  }\n",
              "\n",
              "  [theme=dark] .colab-df-quickchart {\n",
              "      --bg-color: #3B4455;\n",
              "      --fill-color: #D2E3FC;\n",
              "      --hover-bg-color: #434B5C;\n",
              "      --hover-fill-color: #FFFFFF;\n",
              "      --disabled-bg-color: #3B4455;\n",
              "      --disabled-fill-color: #666;\n",
              "  }\n",
              "\n",
              "  .colab-df-quickchart {\n",
              "    background-color: var(--bg-color);\n",
              "    border: none;\n",
              "    border-radius: 50%;\n",
              "    cursor: pointer;\n",
              "    display: none;\n",
              "    fill: var(--fill-color);\n",
              "    height: 32px;\n",
              "    padding: 0;\n",
              "    width: 32px;\n",
              "  }\n",
              "\n",
              "  .colab-df-quickchart:hover {\n",
              "    background-color: var(--hover-bg-color);\n",
              "    box-shadow: 0 1px 2px rgba(60, 64, 67, 0.3), 0 1px 3px 1px rgba(60, 64, 67, 0.15);\n",
              "    fill: var(--button-hover-fill-color);\n",
              "  }\n",
              "\n",
              "  .colab-df-quickchart-complete:disabled,\n",
              "  .colab-df-quickchart-complete:disabled:hover {\n",
              "    background-color: var(--disabled-bg-color);\n",
              "    fill: var(--disabled-fill-color);\n",
              "    box-shadow: none;\n",
              "  }\n",
              "\n",
              "  .colab-df-spinner {\n",
              "    border: 2px solid var(--fill-color);\n",
              "    border-color: transparent;\n",
              "    border-bottom-color: var(--fill-color);\n",
              "    animation:\n",
              "      spin 1s steps(1) infinite;\n",
              "  }\n",
              "\n",
              "  @keyframes spin {\n",
              "    0% {\n",
              "      border-color: transparent;\n",
              "      border-bottom-color: var(--fill-color);\n",
              "      border-left-color: var(--fill-color);\n",
              "    }\n",
              "    20% {\n",
              "      border-color: transparent;\n",
              "      border-left-color: var(--fill-color);\n",
              "      border-top-color: var(--fill-color);\n",
              "    }\n",
              "    30% {\n",
              "      border-color: transparent;\n",
              "      border-left-color: var(--fill-color);\n",
              "      border-top-color: var(--fill-color);\n",
              "      border-right-color: var(--fill-color);\n",
              "    }\n",
              "    40% {\n",
              "      border-color: transparent;\n",
              "      border-right-color: var(--fill-color);\n",
              "      border-top-color: var(--fill-color);\n",
              "    }\n",
              "    60% {\n",
              "      border-color: transparent;\n",
              "      border-right-color: var(--fill-color);\n",
              "    }\n",
              "    80% {\n",
              "      border-color: transparent;\n",
              "      border-right-color: var(--fill-color);\n",
              "      border-bottom-color: var(--fill-color);\n",
              "    }\n",
              "    90% {\n",
              "      border-color: transparent;\n",
              "      border-bottom-color: var(--fill-color);\n",
              "    }\n",
              "  }\n",
              "</style>\n",
              "\n",
              "  <script>\n",
              "    async function quickchart(key) {\n",
              "      const quickchartButtonEl =\n",
              "        document.querySelector('#' + key + ' button');\n",
              "      quickchartButtonEl.disabled = true;  // To prevent multiple clicks.\n",
              "      quickchartButtonEl.classList.add('colab-df-spinner');\n",
              "      try {\n",
              "        const charts = await google.colab.kernel.invokeFunction(\n",
              "            'suggestCharts', [key], {});\n",
              "      } catch (error) {\n",
              "        console.error('Error during call to suggestCharts:', error);\n",
              "      }\n",
              "      quickchartButtonEl.classList.remove('colab-df-spinner');\n",
              "      quickchartButtonEl.classList.add('colab-df-quickchart-complete');\n",
              "    }\n",
              "    (() => {\n",
              "      let quickchartButtonEl =\n",
              "        document.querySelector('#df-03a8f1c8-583b-4354-995a-5ec49dbc3500 button');\n",
              "      quickchartButtonEl.style.display =\n",
              "        google.colab.kernel.accessAllowed ? 'block' : 'none';\n",
              "    })();\n",
              "  </script>\n",
              "</div>\n",
              "    </div>\n",
              "  </div>\n"
            ]
          },
          "metadata": {},
          "execution_count": 2
        }
      ],
      "source": [
        "df = pd.read_csv('/content/drive/MyDrive/Chicago_Crimes_2001_to_2004.csv',\n",
        "                      usecols=[\"Date\", \"Latitude\", \"Longitude\"]).dropna()\n",
        "df"
      ]
    },
    {
      "cell_type": "code",
      "execution_count": 3,
      "metadata": {
        "id": "pYPpDVIER6WS"
      },
      "outputs": [],
      "source": [
        "def stats(data):\n",
        "\n",
        "    maxx = []\n",
        "    minn = []\n",
        "    for i in data.columns:\n",
        "        maxx.append(data[i].value_counts().max())\n",
        "        minn.append(data[i].value_counts().min())\n",
        "\n",
        "    return pd.DataFrame(\n",
        "        {'nunique': data.nunique(),\n",
        "         'len': len(data),\n",
        "\n",
        "         'types':data.dtypes,\n",
        "         'Nulls' : data.isna().sum(),\n",
        "                 # 'nunique/len': data.nunique()/len(data),\n",
        "        # 'Nullpercent' : data.isna().sum()/len(data),\n",
        "         \"Value counts Max\": maxx,\n",
        "         'Value counts Min':minn\n",
        "        },\n",
        "        columns = ['nunique', 'len','types','Nulls'#,'Nullpercent', 'nunique/len'\n",
        "                   ,\"Value counts Max\",'Value counts Min']).\\\n",
        "        sort_values(by ='nunique',ascending = False)\n",
        "\n",
        "\n",
        "\n",
        "def countPlot(col,num = 6,hue = None):\n",
        "    sns.set(rc={'figure.figsize':(6,6)})\n",
        "    ax = sns.countplot(x=col, data=train_df, hue = hue,\n",
        "                   order=train_df[col].value_counts().iloc[:num].index)\n",
        "\n",
        "    return plt.show()"
      ]
    },
    {
      "cell_type": "code",
      "execution_count": 4,
      "metadata": {
        "colab": {
          "base_uri": "https://localhost:8080/",
          "height": 424
        },
        "id": "MkCRxDP-DVYh",
        "outputId": "a5f13b3b-f1d5-43d1-d18f-086e3816f35c"
      },
      "outputs": [
        {
          "output_type": "execute_result",
          "data": {
            "text/plain": [
              "                       Date   Latitude  Longitude  Month_Count\n",
              "1       2003-03-01 00:00:00  41.817229 -87.637328         27.0\n",
              "4       2003-05-01 01:00:00  41.691785 -87.635116         29.0\n",
              "6       2001-01-01 11:00:00  41.687020 -87.608445          1.0\n",
              "7       2003-03-15 00:00:00  41.729712 -87.653159         27.0\n",
              "9       2003-01-01 00:00:00  41.869772 -87.708180         25.0\n",
              "...                     ...        ...        ...          ...\n",
              "1923511 2001-04-01 09:00:00  41.922997 -87.757492          4.0\n",
              "1923512 2003-09-01 00:01:00  41.963134 -87.784457         33.0\n",
              "1923513 2002-08-01 09:00:00  41.743865 -87.674464         20.0\n",
              "1923514 2001-06-04 00:01:00  41.736343 -87.555413          6.0\n",
              "1923515 2002-08-09 15:00:00  41.772421 -87.609387         20.0\n",
              "\n",
              "[1892824 rows x 4 columns]"
            ],
            "text/html": [
              "\n",
              "  <div id=\"df-bdbe1db3-ca74-4368-9326-312ae64235fc\" class=\"colab-df-container\">\n",
              "    <div>\n",
              "<style scoped>\n",
              "    .dataframe tbody tr th:only-of-type {\n",
              "        vertical-align: middle;\n",
              "    }\n",
              "\n",
              "    .dataframe tbody tr th {\n",
              "        vertical-align: top;\n",
              "    }\n",
              "\n",
              "    .dataframe thead th {\n",
              "        text-align: right;\n",
              "    }\n",
              "</style>\n",
              "<table border=\"1\" class=\"dataframe\">\n",
              "  <thead>\n",
              "    <tr style=\"text-align: right;\">\n",
              "      <th></th>\n",
              "      <th>Date</th>\n",
              "      <th>Latitude</th>\n",
              "      <th>Longitude</th>\n",
              "      <th>Month_Count</th>\n",
              "    </tr>\n",
              "  </thead>\n",
              "  <tbody>\n",
              "    <tr>\n",
              "      <th>1</th>\n",
              "      <td>2003-03-01 00:00:00</td>\n",
              "      <td>41.817229</td>\n",
              "      <td>-87.637328</td>\n",
              "      <td>27.0</td>\n",
              "    </tr>\n",
              "    <tr>\n",
              "      <th>4</th>\n",
              "      <td>2003-05-01 01:00:00</td>\n",
              "      <td>41.691785</td>\n",
              "      <td>-87.635116</td>\n",
              "      <td>29.0</td>\n",
              "    </tr>\n",
              "    <tr>\n",
              "      <th>6</th>\n",
              "      <td>2001-01-01 11:00:00</td>\n",
              "      <td>41.687020</td>\n",
              "      <td>-87.608445</td>\n",
              "      <td>1.0</td>\n",
              "    </tr>\n",
              "    <tr>\n",
              "      <th>7</th>\n",
              "      <td>2003-03-15 00:00:00</td>\n",
              "      <td>41.729712</td>\n",
              "      <td>-87.653159</td>\n",
              "      <td>27.0</td>\n",
              "    </tr>\n",
              "    <tr>\n",
              "      <th>9</th>\n",
              "      <td>2003-01-01 00:00:00</td>\n",
              "      <td>41.869772</td>\n",
              "      <td>-87.708180</td>\n",
              "      <td>25.0</td>\n",
              "    </tr>\n",
              "    <tr>\n",
              "      <th>...</th>\n",
              "      <td>...</td>\n",
              "      <td>...</td>\n",
              "      <td>...</td>\n",
              "      <td>...</td>\n",
              "    </tr>\n",
              "    <tr>\n",
              "      <th>1923511</th>\n",
              "      <td>2001-04-01 09:00:00</td>\n",
              "      <td>41.922997</td>\n",
              "      <td>-87.757492</td>\n",
              "      <td>4.0</td>\n",
              "    </tr>\n",
              "    <tr>\n",
              "      <th>1923512</th>\n",
              "      <td>2003-09-01 00:01:00</td>\n",
              "      <td>41.963134</td>\n",
              "      <td>-87.784457</td>\n",
              "      <td>33.0</td>\n",
              "    </tr>\n",
              "    <tr>\n",
              "      <th>1923513</th>\n",
              "      <td>2002-08-01 09:00:00</td>\n",
              "      <td>41.743865</td>\n",
              "      <td>-87.674464</td>\n",
              "      <td>20.0</td>\n",
              "    </tr>\n",
              "    <tr>\n",
              "      <th>1923514</th>\n",
              "      <td>2001-06-04 00:01:00</td>\n",
              "      <td>41.736343</td>\n",
              "      <td>-87.555413</td>\n",
              "      <td>6.0</td>\n",
              "    </tr>\n",
              "    <tr>\n",
              "      <th>1923515</th>\n",
              "      <td>2002-08-09 15:00:00</td>\n",
              "      <td>41.772421</td>\n",
              "      <td>-87.609387</td>\n",
              "      <td>20.0</td>\n",
              "    </tr>\n",
              "  </tbody>\n",
              "</table>\n",
              "<p>1892824 rows × 4 columns</p>\n",
              "</div>\n",
              "    <div class=\"colab-df-buttons\">\n",
              "\n",
              "  <div class=\"colab-df-container\">\n",
              "    <button class=\"colab-df-convert\" onclick=\"convertToInteractive('df-bdbe1db3-ca74-4368-9326-312ae64235fc')\"\n",
              "            title=\"Convert this dataframe to an interactive table.\"\n",
              "            style=\"display:none;\">\n",
              "\n",
              "  <svg xmlns=\"http://www.w3.org/2000/svg\" height=\"24px\" viewBox=\"0 -960 960 960\">\n",
              "    <path d=\"M120-120v-720h720v720H120Zm60-500h600v-160H180v160Zm220 220h160v-160H400v160Zm0 220h160v-160H400v160ZM180-400h160v-160H180v160Zm440 0h160v-160H620v160ZM180-180h160v-160H180v160Zm440 0h160v-160H620v160Z\"/>\n",
              "  </svg>\n",
              "    </button>\n",
              "\n",
              "  <style>\n",
              "    .colab-df-container {\n",
              "      display:flex;\n",
              "      gap: 12px;\n",
              "    }\n",
              "\n",
              "    .colab-df-convert {\n",
              "      background-color: #E8F0FE;\n",
              "      border: none;\n",
              "      border-radius: 50%;\n",
              "      cursor: pointer;\n",
              "      display: none;\n",
              "      fill: #1967D2;\n",
              "      height: 32px;\n",
              "      padding: 0 0 0 0;\n",
              "      width: 32px;\n",
              "    }\n",
              "\n",
              "    .colab-df-convert:hover {\n",
              "      background-color: #E2EBFA;\n",
              "      box-shadow: 0px 1px 2px rgba(60, 64, 67, 0.3), 0px 1px 3px 1px rgba(60, 64, 67, 0.15);\n",
              "      fill: #174EA6;\n",
              "    }\n",
              "\n",
              "    .colab-df-buttons div {\n",
              "      margin-bottom: 4px;\n",
              "    }\n",
              "\n",
              "    [theme=dark] .colab-df-convert {\n",
              "      background-color: #3B4455;\n",
              "      fill: #D2E3FC;\n",
              "    }\n",
              "\n",
              "    [theme=dark] .colab-df-convert:hover {\n",
              "      background-color: #434B5C;\n",
              "      box-shadow: 0px 1px 3px 1px rgba(0, 0, 0, 0.15);\n",
              "      filter: drop-shadow(0px 1px 2px rgba(0, 0, 0, 0.3));\n",
              "      fill: #FFFFFF;\n",
              "    }\n",
              "  </style>\n",
              "\n",
              "    <script>\n",
              "      const buttonEl =\n",
              "        document.querySelector('#df-bdbe1db3-ca74-4368-9326-312ae64235fc button.colab-df-convert');\n",
              "      buttonEl.style.display =\n",
              "        google.colab.kernel.accessAllowed ? 'block' : 'none';\n",
              "\n",
              "      async function convertToInteractive(key) {\n",
              "        const element = document.querySelector('#df-bdbe1db3-ca74-4368-9326-312ae64235fc');\n",
              "        const dataTable =\n",
              "          await google.colab.kernel.invokeFunction('convertToInteractive',\n",
              "                                                    [key], {});\n",
              "        if (!dataTable) return;\n",
              "\n",
              "        const docLinkHtml = 'Like what you see? Visit the ' +\n",
              "          '<a target=\"_blank\" href=https://colab.research.google.com/notebooks/data_table.ipynb>data table notebook</a>'\n",
              "          + ' to learn more about interactive tables.';\n",
              "        element.innerHTML = '';\n",
              "        dataTable['output_type'] = 'display_data';\n",
              "        await google.colab.output.renderOutput(dataTable, element);\n",
              "        const docLink = document.createElement('div');\n",
              "        docLink.innerHTML = docLinkHtml;\n",
              "        element.appendChild(docLink);\n",
              "      }\n",
              "    </script>\n",
              "  </div>\n",
              "\n",
              "\n",
              "<div id=\"df-d03e7db7-3090-45b3-b8a8-204b5bb102b9\">\n",
              "  <button class=\"colab-df-quickchart\" onclick=\"quickchart('df-d03e7db7-3090-45b3-b8a8-204b5bb102b9')\"\n",
              "            title=\"Suggest charts.\"\n",
              "            style=\"display:none;\">\n",
              "\n",
              "<svg xmlns=\"http://www.w3.org/2000/svg\" height=\"24px\"viewBox=\"0 0 24 24\"\n",
              "     width=\"24px\">\n",
              "    <g>\n",
              "        <path d=\"M19 3H5c-1.1 0-2 .9-2 2v14c0 1.1.9 2 2 2h14c1.1 0 2-.9 2-2V5c0-1.1-.9-2-2-2zM9 17H7v-7h2v7zm4 0h-2V7h2v10zm4 0h-2v-4h2v4z\"/>\n",
              "    </g>\n",
              "</svg>\n",
              "  </button>\n",
              "\n",
              "<style>\n",
              "  .colab-df-quickchart {\n",
              "      --bg-color: #E8F0FE;\n",
              "      --fill-color: #1967D2;\n",
              "      --hover-bg-color: #E2EBFA;\n",
              "      --hover-fill-color: #174EA6;\n",
              "      --disabled-fill-color: #AAA;\n",
              "      --disabled-bg-color: #DDD;\n",
              "  }\n",
              "\n",
              "  [theme=dark] .colab-df-quickchart {\n",
              "      --bg-color: #3B4455;\n",
              "      --fill-color: #D2E3FC;\n",
              "      --hover-bg-color: #434B5C;\n",
              "      --hover-fill-color: #FFFFFF;\n",
              "      --disabled-bg-color: #3B4455;\n",
              "      --disabled-fill-color: #666;\n",
              "  }\n",
              "\n",
              "  .colab-df-quickchart {\n",
              "    background-color: var(--bg-color);\n",
              "    border: none;\n",
              "    border-radius: 50%;\n",
              "    cursor: pointer;\n",
              "    display: none;\n",
              "    fill: var(--fill-color);\n",
              "    height: 32px;\n",
              "    padding: 0;\n",
              "    width: 32px;\n",
              "  }\n",
              "\n",
              "  .colab-df-quickchart:hover {\n",
              "    background-color: var(--hover-bg-color);\n",
              "    box-shadow: 0 1px 2px rgba(60, 64, 67, 0.3), 0 1px 3px 1px rgba(60, 64, 67, 0.15);\n",
              "    fill: var(--button-hover-fill-color);\n",
              "  }\n",
              "\n",
              "  .colab-df-quickchart-complete:disabled,\n",
              "  .colab-df-quickchart-complete:disabled:hover {\n",
              "    background-color: var(--disabled-bg-color);\n",
              "    fill: var(--disabled-fill-color);\n",
              "    box-shadow: none;\n",
              "  }\n",
              "\n",
              "  .colab-df-spinner {\n",
              "    border: 2px solid var(--fill-color);\n",
              "    border-color: transparent;\n",
              "    border-bottom-color: var(--fill-color);\n",
              "    animation:\n",
              "      spin 1s steps(1) infinite;\n",
              "  }\n",
              "\n",
              "  @keyframes spin {\n",
              "    0% {\n",
              "      border-color: transparent;\n",
              "      border-bottom-color: var(--fill-color);\n",
              "      border-left-color: var(--fill-color);\n",
              "    }\n",
              "    20% {\n",
              "      border-color: transparent;\n",
              "      border-left-color: var(--fill-color);\n",
              "      border-top-color: var(--fill-color);\n",
              "    }\n",
              "    30% {\n",
              "      border-color: transparent;\n",
              "      border-left-color: var(--fill-color);\n",
              "      border-top-color: var(--fill-color);\n",
              "      border-right-color: var(--fill-color);\n",
              "    }\n",
              "    40% {\n",
              "      border-color: transparent;\n",
              "      border-right-color: var(--fill-color);\n",
              "      border-top-color: var(--fill-color);\n",
              "    }\n",
              "    60% {\n",
              "      border-color: transparent;\n",
              "      border-right-color: var(--fill-color);\n",
              "    }\n",
              "    80% {\n",
              "      border-color: transparent;\n",
              "      border-right-color: var(--fill-color);\n",
              "      border-bottom-color: var(--fill-color);\n",
              "    }\n",
              "    90% {\n",
              "      border-color: transparent;\n",
              "      border-bottom-color: var(--fill-color);\n",
              "    }\n",
              "  }\n",
              "</style>\n",
              "\n",
              "  <script>\n",
              "    async function quickchart(key) {\n",
              "      const quickchartButtonEl =\n",
              "        document.querySelector('#' + key + ' button');\n",
              "      quickchartButtonEl.disabled = true;  // To prevent multiple clicks.\n",
              "      quickchartButtonEl.classList.add('colab-df-spinner');\n",
              "      try {\n",
              "        const charts = await google.colab.kernel.invokeFunction(\n",
              "            'suggestCharts', [key], {});\n",
              "      } catch (error) {\n",
              "        console.error('Error during call to suggestCharts:', error);\n",
              "      }\n",
              "      quickchartButtonEl.classList.remove('colab-df-spinner');\n",
              "      quickchartButtonEl.classList.add('colab-df-quickchart-complete');\n",
              "    }\n",
              "    (() => {\n",
              "      let quickchartButtonEl =\n",
              "        document.querySelector('#df-d03e7db7-3090-45b3-b8a8-204b5bb102b9 button');\n",
              "      quickchartButtonEl.style.display =\n",
              "        google.colab.kernel.accessAllowed ? 'block' : 'none';\n",
              "    })();\n",
              "  </script>\n",
              "</div>\n",
              "    </div>\n",
              "  </div>\n"
            ]
          },
          "metadata": {},
          "execution_count": 4
        }
      ],
      "source": [
        "df['Latitude'] = pd.to_numeric(df['Latitude'], errors='coerce')\n",
        "df['Longitude'] = pd.to_numeric(df['Longitude'], errors='coerce')\n",
        "\n",
        "df['Date'] = pd.to_datetime(df['Date'], format='%m/%d/%Y %I:%M:%S %p', errors='coerce')\n",
        "\n",
        "#df['Month'] = df['Date'].dt.to_period('M')\n",
        "df['Month_Count'] = (df['Date'].dt.year - df['Date'].dt.year.min()) * 12 + df['Date'].dt.month\n",
        "df"
      ]
    },
    {
      "cell_type": "code",
      "execution_count": 5,
      "metadata": {
        "colab": {
          "base_uri": "https://localhost:8080/"
        },
        "id": "yIyLkFA5eP2h",
        "outputId": "3fdf401f-bed6-439c-ba94-4ac33e671b59"
      },
      "outputs": [
        {
          "output_type": "stream",
          "name": "stdout",
          "text": [
            "<class 'pandas.core.frame.DataFrame'>\n",
            "Int64Index: 1892824 entries, 1 to 1923515\n",
            "Data columns (total 4 columns):\n",
            " #   Column       Dtype         \n",
            "---  ------       -----         \n",
            " 0   Date         datetime64[ns]\n",
            " 1   Latitude     float64       \n",
            " 2   Longitude    float64       \n",
            " 3   Month_Count  float64       \n",
            "dtypes: datetime64[ns](1), float64(3)\n",
            "memory usage: 72.2 MB\n"
          ]
        }
      ],
      "source": [
        "df.info()"
      ]
    },
    {
      "cell_type": "code",
      "execution_count": 6,
      "metadata": {
        "colab": {
          "base_uri": "https://localhost:8080/"
        },
        "id": "SVqzd0ezDZVM",
        "outputId": "82d7d55f-f01a-439b-af50-8890c98b364c"
      },
      "outputs": [
        {
          "output_type": "stream",
          "name": "stderr",
          "text": [
            "<ipython-input-6-d770ab11785c>:1: UserWarning: Boolean Series key will be reindexed to match DataFrame index.\n",
            "  df = df[df['Latitude'] > df['Latitude'].mean() - 7 * df['Latitude'].std()]\\\n"
          ]
        }
      ],
      "source": [
        "df = df[df['Latitude'] > df['Latitude'].mean() - 7 * df['Latitude'].std()]\\\n",
        "                [df['Latitude'] < df['Latitude'].mean() + 7 * df['Latitude'].std()]\n",
        "df = df[df['Longitude'] > df['Longitude'].mean() - 7 * df['Longitude'].std()]\\\n",
        "                [df['Longitude'] < df['Longitude'].mean() + 7 * df['Longitude'].std()]"
      ]
    },
    {
      "cell_type": "code",
      "execution_count": 7,
      "metadata": {
        "colab": {
          "base_uri": "https://localhost:8080/",
          "height": 424
        },
        "id": "l9cWGsHsCSxe",
        "outputId": "62479a94-64d6-41af-ff18-256df729dee5"
      },
      "outputs": [
        {
          "output_type": "execute_result",
          "data": {
            "text/plain": [
              "                       Date  Latitude  Longitude  Month_Count\n",
              "1       2003-03-01 00:00:00    41.817    -87.637           27\n",
              "4       2003-05-01 01:00:00    41.692    -87.635           29\n",
              "6       2001-01-01 11:00:00    41.687    -87.608            1\n",
              "7       2003-03-15 00:00:00    41.730    -87.653           27\n",
              "9       2003-01-01 00:00:00    41.870    -87.708           25\n",
              "...                     ...       ...        ...          ...\n",
              "1923511 2001-04-01 09:00:00    41.923    -87.757            4\n",
              "1923512 2003-09-01 00:01:00    41.963    -87.784           33\n",
              "1923513 2002-08-01 09:00:00    41.744    -87.674           20\n",
              "1923514 2001-06-04 00:01:00    41.736    -87.555            6\n",
              "1923515 2002-08-09 15:00:00    41.772    -87.609           20\n",
              "\n",
              "[1892815 rows x 4 columns]"
            ],
            "text/html": [
              "\n",
              "  <div id=\"df-74de0f41-7149-4e85-bca5-c6cf09ce31c4\" class=\"colab-df-container\">\n",
              "    <div>\n",
              "<style scoped>\n",
              "    .dataframe tbody tr th:only-of-type {\n",
              "        vertical-align: middle;\n",
              "    }\n",
              "\n",
              "    .dataframe tbody tr th {\n",
              "        vertical-align: top;\n",
              "    }\n",
              "\n",
              "    .dataframe thead th {\n",
              "        text-align: right;\n",
              "    }\n",
              "</style>\n",
              "<table border=\"1\" class=\"dataframe\">\n",
              "  <thead>\n",
              "    <tr style=\"text-align: right;\">\n",
              "      <th></th>\n",
              "      <th>Date</th>\n",
              "      <th>Latitude</th>\n",
              "      <th>Longitude</th>\n",
              "      <th>Month_Count</th>\n",
              "    </tr>\n",
              "  </thead>\n",
              "  <tbody>\n",
              "    <tr>\n",
              "      <th>1</th>\n",
              "      <td>2003-03-01 00:00:00</td>\n",
              "      <td>41.817</td>\n",
              "      <td>-87.637</td>\n",
              "      <td>27</td>\n",
              "    </tr>\n",
              "    <tr>\n",
              "      <th>4</th>\n",
              "      <td>2003-05-01 01:00:00</td>\n",
              "      <td>41.692</td>\n",
              "      <td>-87.635</td>\n",
              "      <td>29</td>\n",
              "    </tr>\n",
              "    <tr>\n",
              "      <th>6</th>\n",
              "      <td>2001-01-01 11:00:00</td>\n",
              "      <td>41.687</td>\n",
              "      <td>-87.608</td>\n",
              "      <td>1</td>\n",
              "    </tr>\n",
              "    <tr>\n",
              "      <th>7</th>\n",
              "      <td>2003-03-15 00:00:00</td>\n",
              "      <td>41.730</td>\n",
              "      <td>-87.653</td>\n",
              "      <td>27</td>\n",
              "    </tr>\n",
              "    <tr>\n",
              "      <th>9</th>\n",
              "      <td>2003-01-01 00:00:00</td>\n",
              "      <td>41.870</td>\n",
              "      <td>-87.708</td>\n",
              "      <td>25</td>\n",
              "    </tr>\n",
              "    <tr>\n",
              "      <th>...</th>\n",
              "      <td>...</td>\n",
              "      <td>...</td>\n",
              "      <td>...</td>\n",
              "      <td>...</td>\n",
              "    </tr>\n",
              "    <tr>\n",
              "      <th>1923511</th>\n",
              "      <td>2001-04-01 09:00:00</td>\n",
              "      <td>41.923</td>\n",
              "      <td>-87.757</td>\n",
              "      <td>4</td>\n",
              "    </tr>\n",
              "    <tr>\n",
              "      <th>1923512</th>\n",
              "      <td>2003-09-01 00:01:00</td>\n",
              "      <td>41.963</td>\n",
              "      <td>-87.784</td>\n",
              "      <td>33</td>\n",
              "    </tr>\n",
              "    <tr>\n",
              "      <th>1923513</th>\n",
              "      <td>2002-08-01 09:00:00</td>\n",
              "      <td>41.744</td>\n",
              "      <td>-87.674</td>\n",
              "      <td>20</td>\n",
              "    </tr>\n",
              "    <tr>\n",
              "      <th>1923514</th>\n",
              "      <td>2001-06-04 00:01:00</td>\n",
              "      <td>41.736</td>\n",
              "      <td>-87.555</td>\n",
              "      <td>6</td>\n",
              "    </tr>\n",
              "    <tr>\n",
              "      <th>1923515</th>\n",
              "      <td>2002-08-09 15:00:00</td>\n",
              "      <td>41.772</td>\n",
              "      <td>-87.609</td>\n",
              "      <td>20</td>\n",
              "    </tr>\n",
              "  </tbody>\n",
              "</table>\n",
              "<p>1892815 rows × 4 columns</p>\n",
              "</div>\n",
              "    <div class=\"colab-df-buttons\">\n",
              "\n",
              "  <div class=\"colab-df-container\">\n",
              "    <button class=\"colab-df-convert\" onclick=\"convertToInteractive('df-74de0f41-7149-4e85-bca5-c6cf09ce31c4')\"\n",
              "            title=\"Convert this dataframe to an interactive table.\"\n",
              "            style=\"display:none;\">\n",
              "\n",
              "  <svg xmlns=\"http://www.w3.org/2000/svg\" height=\"24px\" viewBox=\"0 -960 960 960\">\n",
              "    <path d=\"M120-120v-720h720v720H120Zm60-500h600v-160H180v160Zm220 220h160v-160H400v160Zm0 220h160v-160H400v160ZM180-400h160v-160H180v160Zm440 0h160v-160H620v160ZM180-180h160v-160H180v160Zm440 0h160v-160H620v160Z\"/>\n",
              "  </svg>\n",
              "    </button>\n",
              "\n",
              "  <style>\n",
              "    .colab-df-container {\n",
              "      display:flex;\n",
              "      gap: 12px;\n",
              "    }\n",
              "\n",
              "    .colab-df-convert {\n",
              "      background-color: #E8F0FE;\n",
              "      border: none;\n",
              "      border-radius: 50%;\n",
              "      cursor: pointer;\n",
              "      display: none;\n",
              "      fill: #1967D2;\n",
              "      height: 32px;\n",
              "      padding: 0 0 0 0;\n",
              "      width: 32px;\n",
              "    }\n",
              "\n",
              "    .colab-df-convert:hover {\n",
              "      background-color: #E2EBFA;\n",
              "      box-shadow: 0px 1px 2px rgba(60, 64, 67, 0.3), 0px 1px 3px 1px rgba(60, 64, 67, 0.15);\n",
              "      fill: #174EA6;\n",
              "    }\n",
              "\n",
              "    .colab-df-buttons div {\n",
              "      margin-bottom: 4px;\n",
              "    }\n",
              "\n",
              "    [theme=dark] .colab-df-convert {\n",
              "      background-color: #3B4455;\n",
              "      fill: #D2E3FC;\n",
              "    }\n",
              "\n",
              "    [theme=dark] .colab-df-convert:hover {\n",
              "      background-color: #434B5C;\n",
              "      box-shadow: 0px 1px 3px 1px rgba(0, 0, 0, 0.15);\n",
              "      filter: drop-shadow(0px 1px 2px rgba(0, 0, 0, 0.3));\n",
              "      fill: #FFFFFF;\n",
              "    }\n",
              "  </style>\n",
              "\n",
              "    <script>\n",
              "      const buttonEl =\n",
              "        document.querySelector('#df-74de0f41-7149-4e85-bca5-c6cf09ce31c4 button.colab-df-convert');\n",
              "      buttonEl.style.display =\n",
              "        google.colab.kernel.accessAllowed ? 'block' : 'none';\n",
              "\n",
              "      async function convertToInteractive(key) {\n",
              "        const element = document.querySelector('#df-74de0f41-7149-4e85-bca5-c6cf09ce31c4');\n",
              "        const dataTable =\n",
              "          await google.colab.kernel.invokeFunction('convertToInteractive',\n",
              "                                                    [key], {});\n",
              "        if (!dataTable) return;\n",
              "\n",
              "        const docLinkHtml = 'Like what you see? Visit the ' +\n",
              "          '<a target=\"_blank\" href=https://colab.research.google.com/notebooks/data_table.ipynb>data table notebook</a>'\n",
              "          + ' to learn more about interactive tables.';\n",
              "        element.innerHTML = '';\n",
              "        dataTable['output_type'] = 'display_data';\n",
              "        await google.colab.output.renderOutput(dataTable, element);\n",
              "        const docLink = document.createElement('div');\n",
              "        docLink.innerHTML = docLinkHtml;\n",
              "        element.appendChild(docLink);\n",
              "      }\n",
              "    </script>\n",
              "  </div>\n",
              "\n",
              "\n",
              "<div id=\"df-b8d04dcd-2550-436a-b5f8-5749ffd8978f\">\n",
              "  <button class=\"colab-df-quickchart\" onclick=\"quickchart('df-b8d04dcd-2550-436a-b5f8-5749ffd8978f')\"\n",
              "            title=\"Suggest charts.\"\n",
              "            style=\"display:none;\">\n",
              "\n",
              "<svg xmlns=\"http://www.w3.org/2000/svg\" height=\"24px\"viewBox=\"0 0 24 24\"\n",
              "     width=\"24px\">\n",
              "    <g>\n",
              "        <path d=\"M19 3H5c-1.1 0-2 .9-2 2v14c0 1.1.9 2 2 2h14c1.1 0 2-.9 2-2V5c0-1.1-.9-2-2-2zM9 17H7v-7h2v7zm4 0h-2V7h2v10zm4 0h-2v-4h2v4z\"/>\n",
              "    </g>\n",
              "</svg>\n",
              "  </button>\n",
              "\n",
              "<style>\n",
              "  .colab-df-quickchart {\n",
              "      --bg-color: #E8F0FE;\n",
              "      --fill-color: #1967D2;\n",
              "      --hover-bg-color: #E2EBFA;\n",
              "      --hover-fill-color: #174EA6;\n",
              "      --disabled-fill-color: #AAA;\n",
              "      --disabled-bg-color: #DDD;\n",
              "  }\n",
              "\n",
              "  [theme=dark] .colab-df-quickchart {\n",
              "      --bg-color: #3B4455;\n",
              "      --fill-color: #D2E3FC;\n",
              "      --hover-bg-color: #434B5C;\n",
              "      --hover-fill-color: #FFFFFF;\n",
              "      --disabled-bg-color: #3B4455;\n",
              "      --disabled-fill-color: #666;\n",
              "  }\n",
              "\n",
              "  .colab-df-quickchart {\n",
              "    background-color: var(--bg-color);\n",
              "    border: none;\n",
              "    border-radius: 50%;\n",
              "    cursor: pointer;\n",
              "    display: none;\n",
              "    fill: var(--fill-color);\n",
              "    height: 32px;\n",
              "    padding: 0;\n",
              "    width: 32px;\n",
              "  }\n",
              "\n",
              "  .colab-df-quickchart:hover {\n",
              "    background-color: var(--hover-bg-color);\n",
              "    box-shadow: 0 1px 2px rgba(60, 64, 67, 0.3), 0 1px 3px 1px rgba(60, 64, 67, 0.15);\n",
              "    fill: var(--button-hover-fill-color);\n",
              "  }\n",
              "\n",
              "  .colab-df-quickchart-complete:disabled,\n",
              "  .colab-df-quickchart-complete:disabled:hover {\n",
              "    background-color: var(--disabled-bg-color);\n",
              "    fill: var(--disabled-fill-color);\n",
              "    box-shadow: none;\n",
              "  }\n",
              "\n",
              "  .colab-df-spinner {\n",
              "    border: 2px solid var(--fill-color);\n",
              "    border-color: transparent;\n",
              "    border-bottom-color: var(--fill-color);\n",
              "    animation:\n",
              "      spin 1s steps(1) infinite;\n",
              "  }\n",
              "\n",
              "  @keyframes spin {\n",
              "    0% {\n",
              "      border-color: transparent;\n",
              "      border-bottom-color: var(--fill-color);\n",
              "      border-left-color: var(--fill-color);\n",
              "    }\n",
              "    20% {\n",
              "      border-color: transparent;\n",
              "      border-left-color: var(--fill-color);\n",
              "      border-top-color: var(--fill-color);\n",
              "    }\n",
              "    30% {\n",
              "      border-color: transparent;\n",
              "      border-left-color: var(--fill-color);\n",
              "      border-top-color: var(--fill-color);\n",
              "      border-right-color: var(--fill-color);\n",
              "    }\n",
              "    40% {\n",
              "      border-color: transparent;\n",
              "      border-right-color: var(--fill-color);\n",
              "      border-top-color: var(--fill-color);\n",
              "    }\n",
              "    60% {\n",
              "      border-color: transparent;\n",
              "      border-right-color: var(--fill-color);\n",
              "    }\n",
              "    80% {\n",
              "      border-color: transparent;\n",
              "      border-right-color: var(--fill-color);\n",
              "      border-bottom-color: var(--fill-color);\n",
              "    }\n",
              "    90% {\n",
              "      border-color: transparent;\n",
              "      border-bottom-color: var(--fill-color);\n",
              "    }\n",
              "  }\n",
              "</style>\n",
              "\n",
              "  <script>\n",
              "    async function quickchart(key) {\n",
              "      const quickchartButtonEl =\n",
              "        document.querySelector('#' + key + ' button');\n",
              "      quickchartButtonEl.disabled = true;  // To prevent multiple clicks.\n",
              "      quickchartButtonEl.classList.add('colab-df-spinner');\n",
              "      try {\n",
              "        const charts = await google.colab.kernel.invokeFunction(\n",
              "            'suggestCharts', [key], {});\n",
              "      } catch (error) {\n",
              "        console.error('Error during call to suggestCharts:', error);\n",
              "      }\n",
              "      quickchartButtonEl.classList.remove('colab-df-spinner');\n",
              "      quickchartButtonEl.classList.add('colab-df-quickchart-complete');\n",
              "    }\n",
              "    (() => {\n",
              "      let quickchartButtonEl =\n",
              "        document.querySelector('#df-b8d04dcd-2550-436a-b5f8-5749ffd8978f button');\n",
              "      quickchartButtonEl.style.display =\n",
              "        google.colab.kernel.accessAllowed ? 'block' : 'none';\n",
              "    })();\n",
              "  </script>\n",
              "</div>\n",
              "    </div>\n",
              "  </div>\n"
            ]
          },
          "metadata": {},
          "execution_count": 7
        }
      ],
      "source": [
        "df[['Latitude', 'Longitude']]=df[['Latitude', 'Longitude']].round(3)\n",
        "df[\"Month_Count\"] = df[\"Month_Count\"].fillna(0).astype(\"int8\")\n",
        "# df[\"Latitude\"] = df[\"Latitude\"].astype(\"float16\")\n",
        "# df[\"Longitude\"] = df[\"Longitude\"].astype(\"float16\")\n",
        "df"
      ]
    },
    {
      "cell_type": "code",
      "execution_count": 8,
      "metadata": {
        "colab": {
          "base_uri": "https://localhost:8080/",
          "height": 175
        },
        "id": "vyYgV2zsCuNW",
        "outputId": "436fb1bc-5513-49c0-f1dd-113c9da17a64"
      },
      "outputs": [
        {
          "output_type": "execute_result",
          "data": {
            "text/plain": [
              "             nunique      len           types  Nulls  Value counts Max  \\\n",
              "Date          731248  1892815  datetime64[ns]      0               211   \n",
              "Latitude         379  1892815         float64      0             17689   \n",
              "Longitude        343  1892815         float64      0             27740   \n",
              "Month_Count       48  1892815            int8      0             74539   \n",
              "\n",
              "             Value counts Min  \n",
              "Date                        1  \n",
              "Latitude                   77  \n",
              "Longitude                   1  \n",
              "Month_Count              3872  "
            ],
            "text/html": [
              "\n",
              "  <div id=\"df-ca7e74bd-2e89-4b25-8959-03556d1fa7ac\" class=\"colab-df-container\">\n",
              "    <div>\n",
              "<style scoped>\n",
              "    .dataframe tbody tr th:only-of-type {\n",
              "        vertical-align: middle;\n",
              "    }\n",
              "\n",
              "    .dataframe tbody tr th {\n",
              "        vertical-align: top;\n",
              "    }\n",
              "\n",
              "    .dataframe thead th {\n",
              "        text-align: right;\n",
              "    }\n",
              "</style>\n",
              "<table border=\"1\" class=\"dataframe\">\n",
              "  <thead>\n",
              "    <tr style=\"text-align: right;\">\n",
              "      <th></th>\n",
              "      <th>nunique</th>\n",
              "      <th>len</th>\n",
              "      <th>types</th>\n",
              "      <th>Nulls</th>\n",
              "      <th>Value counts Max</th>\n",
              "      <th>Value counts Min</th>\n",
              "    </tr>\n",
              "  </thead>\n",
              "  <tbody>\n",
              "    <tr>\n",
              "      <th>Date</th>\n",
              "      <td>731248</td>\n",
              "      <td>1892815</td>\n",
              "      <td>datetime64[ns]</td>\n",
              "      <td>0</td>\n",
              "      <td>211</td>\n",
              "      <td>1</td>\n",
              "    </tr>\n",
              "    <tr>\n",
              "      <th>Latitude</th>\n",
              "      <td>379</td>\n",
              "      <td>1892815</td>\n",
              "      <td>float64</td>\n",
              "      <td>0</td>\n",
              "      <td>17689</td>\n",
              "      <td>77</td>\n",
              "    </tr>\n",
              "    <tr>\n",
              "      <th>Longitude</th>\n",
              "      <td>343</td>\n",
              "      <td>1892815</td>\n",
              "      <td>float64</td>\n",
              "      <td>0</td>\n",
              "      <td>27740</td>\n",
              "      <td>1</td>\n",
              "    </tr>\n",
              "    <tr>\n",
              "      <th>Month_Count</th>\n",
              "      <td>48</td>\n",
              "      <td>1892815</td>\n",
              "      <td>int8</td>\n",
              "      <td>0</td>\n",
              "      <td>74539</td>\n",
              "      <td>3872</td>\n",
              "    </tr>\n",
              "  </tbody>\n",
              "</table>\n",
              "</div>\n",
              "    <div class=\"colab-df-buttons\">\n",
              "\n",
              "  <div class=\"colab-df-container\">\n",
              "    <button class=\"colab-df-convert\" onclick=\"convertToInteractive('df-ca7e74bd-2e89-4b25-8959-03556d1fa7ac')\"\n",
              "            title=\"Convert this dataframe to an interactive table.\"\n",
              "            style=\"display:none;\">\n",
              "\n",
              "  <svg xmlns=\"http://www.w3.org/2000/svg\" height=\"24px\" viewBox=\"0 -960 960 960\">\n",
              "    <path d=\"M120-120v-720h720v720H120Zm60-500h600v-160H180v160Zm220 220h160v-160H400v160Zm0 220h160v-160H400v160ZM180-400h160v-160H180v160Zm440 0h160v-160H620v160ZM180-180h160v-160H180v160Zm440 0h160v-160H620v160Z\"/>\n",
              "  </svg>\n",
              "    </button>\n",
              "\n",
              "  <style>\n",
              "    .colab-df-container {\n",
              "      display:flex;\n",
              "      gap: 12px;\n",
              "    }\n",
              "\n",
              "    .colab-df-convert {\n",
              "      background-color: #E8F0FE;\n",
              "      border: none;\n",
              "      border-radius: 50%;\n",
              "      cursor: pointer;\n",
              "      display: none;\n",
              "      fill: #1967D2;\n",
              "      height: 32px;\n",
              "      padding: 0 0 0 0;\n",
              "      width: 32px;\n",
              "    }\n",
              "\n",
              "    .colab-df-convert:hover {\n",
              "      background-color: #E2EBFA;\n",
              "      box-shadow: 0px 1px 2px rgba(60, 64, 67, 0.3), 0px 1px 3px 1px rgba(60, 64, 67, 0.15);\n",
              "      fill: #174EA6;\n",
              "    }\n",
              "\n",
              "    .colab-df-buttons div {\n",
              "      margin-bottom: 4px;\n",
              "    }\n",
              "\n",
              "    [theme=dark] .colab-df-convert {\n",
              "      background-color: #3B4455;\n",
              "      fill: #D2E3FC;\n",
              "    }\n",
              "\n",
              "    [theme=dark] .colab-df-convert:hover {\n",
              "      background-color: #434B5C;\n",
              "      box-shadow: 0px 1px 3px 1px rgba(0, 0, 0, 0.15);\n",
              "      filter: drop-shadow(0px 1px 2px rgba(0, 0, 0, 0.3));\n",
              "      fill: #FFFFFF;\n",
              "    }\n",
              "  </style>\n",
              "\n",
              "    <script>\n",
              "      const buttonEl =\n",
              "        document.querySelector('#df-ca7e74bd-2e89-4b25-8959-03556d1fa7ac button.colab-df-convert');\n",
              "      buttonEl.style.display =\n",
              "        google.colab.kernel.accessAllowed ? 'block' : 'none';\n",
              "\n",
              "      async function convertToInteractive(key) {\n",
              "        const element = document.querySelector('#df-ca7e74bd-2e89-4b25-8959-03556d1fa7ac');\n",
              "        const dataTable =\n",
              "          await google.colab.kernel.invokeFunction('convertToInteractive',\n",
              "                                                    [key], {});\n",
              "        if (!dataTable) return;\n",
              "\n",
              "        const docLinkHtml = 'Like what you see? Visit the ' +\n",
              "          '<a target=\"_blank\" href=https://colab.research.google.com/notebooks/data_table.ipynb>data table notebook</a>'\n",
              "          + ' to learn more about interactive tables.';\n",
              "        element.innerHTML = '';\n",
              "        dataTable['output_type'] = 'display_data';\n",
              "        await google.colab.output.renderOutput(dataTable, element);\n",
              "        const docLink = document.createElement('div');\n",
              "        docLink.innerHTML = docLinkHtml;\n",
              "        element.appendChild(docLink);\n",
              "      }\n",
              "    </script>\n",
              "  </div>\n",
              "\n",
              "\n",
              "<div id=\"df-e6fcaf0e-f3a6-4d5e-a8de-6b776eeac3a1\">\n",
              "  <button class=\"colab-df-quickchart\" onclick=\"quickchart('df-e6fcaf0e-f3a6-4d5e-a8de-6b776eeac3a1')\"\n",
              "            title=\"Suggest charts.\"\n",
              "            style=\"display:none;\">\n",
              "\n",
              "<svg xmlns=\"http://www.w3.org/2000/svg\" height=\"24px\"viewBox=\"0 0 24 24\"\n",
              "     width=\"24px\">\n",
              "    <g>\n",
              "        <path d=\"M19 3H5c-1.1 0-2 .9-2 2v14c0 1.1.9 2 2 2h14c1.1 0 2-.9 2-2V5c0-1.1-.9-2-2-2zM9 17H7v-7h2v7zm4 0h-2V7h2v10zm4 0h-2v-4h2v4z\"/>\n",
              "    </g>\n",
              "</svg>\n",
              "  </button>\n",
              "\n",
              "<style>\n",
              "  .colab-df-quickchart {\n",
              "      --bg-color: #E8F0FE;\n",
              "      --fill-color: #1967D2;\n",
              "      --hover-bg-color: #E2EBFA;\n",
              "      --hover-fill-color: #174EA6;\n",
              "      --disabled-fill-color: #AAA;\n",
              "      --disabled-bg-color: #DDD;\n",
              "  }\n",
              "\n",
              "  [theme=dark] .colab-df-quickchart {\n",
              "      --bg-color: #3B4455;\n",
              "      --fill-color: #D2E3FC;\n",
              "      --hover-bg-color: #434B5C;\n",
              "      --hover-fill-color: #FFFFFF;\n",
              "      --disabled-bg-color: #3B4455;\n",
              "      --disabled-fill-color: #666;\n",
              "  }\n",
              "\n",
              "  .colab-df-quickchart {\n",
              "    background-color: var(--bg-color);\n",
              "    border: none;\n",
              "    border-radius: 50%;\n",
              "    cursor: pointer;\n",
              "    display: none;\n",
              "    fill: var(--fill-color);\n",
              "    height: 32px;\n",
              "    padding: 0;\n",
              "    width: 32px;\n",
              "  }\n",
              "\n",
              "  .colab-df-quickchart:hover {\n",
              "    background-color: var(--hover-bg-color);\n",
              "    box-shadow: 0 1px 2px rgba(60, 64, 67, 0.3), 0 1px 3px 1px rgba(60, 64, 67, 0.15);\n",
              "    fill: var(--button-hover-fill-color);\n",
              "  }\n",
              "\n",
              "  .colab-df-quickchart-complete:disabled,\n",
              "  .colab-df-quickchart-complete:disabled:hover {\n",
              "    background-color: var(--disabled-bg-color);\n",
              "    fill: var(--disabled-fill-color);\n",
              "    box-shadow: none;\n",
              "  }\n",
              "\n",
              "  .colab-df-spinner {\n",
              "    border: 2px solid var(--fill-color);\n",
              "    border-color: transparent;\n",
              "    border-bottom-color: var(--fill-color);\n",
              "    animation:\n",
              "      spin 1s steps(1) infinite;\n",
              "  }\n",
              "\n",
              "  @keyframes spin {\n",
              "    0% {\n",
              "      border-color: transparent;\n",
              "      border-bottom-color: var(--fill-color);\n",
              "      border-left-color: var(--fill-color);\n",
              "    }\n",
              "    20% {\n",
              "      border-color: transparent;\n",
              "      border-left-color: var(--fill-color);\n",
              "      border-top-color: var(--fill-color);\n",
              "    }\n",
              "    30% {\n",
              "      border-color: transparent;\n",
              "      border-left-color: var(--fill-color);\n",
              "      border-top-color: var(--fill-color);\n",
              "      border-right-color: var(--fill-color);\n",
              "    }\n",
              "    40% {\n",
              "      border-color: transparent;\n",
              "      border-right-color: var(--fill-color);\n",
              "      border-top-color: var(--fill-color);\n",
              "    }\n",
              "    60% {\n",
              "      border-color: transparent;\n",
              "      border-right-color: var(--fill-color);\n",
              "    }\n",
              "    80% {\n",
              "      border-color: transparent;\n",
              "      border-right-color: var(--fill-color);\n",
              "      border-bottom-color: var(--fill-color);\n",
              "    }\n",
              "    90% {\n",
              "      border-color: transparent;\n",
              "      border-bottom-color: var(--fill-color);\n",
              "    }\n",
              "  }\n",
              "</style>\n",
              "\n",
              "  <script>\n",
              "    async function quickchart(key) {\n",
              "      const quickchartButtonEl =\n",
              "        document.querySelector('#' + key + ' button');\n",
              "      quickchartButtonEl.disabled = true;  // To prevent multiple clicks.\n",
              "      quickchartButtonEl.classList.add('colab-df-spinner');\n",
              "      try {\n",
              "        const charts = await google.colab.kernel.invokeFunction(\n",
              "            'suggestCharts', [key], {});\n",
              "      } catch (error) {\n",
              "        console.error('Error during call to suggestCharts:', error);\n",
              "      }\n",
              "      quickchartButtonEl.classList.remove('colab-df-spinner');\n",
              "      quickchartButtonEl.classList.add('colab-df-quickchart-complete');\n",
              "    }\n",
              "    (() => {\n",
              "      let quickchartButtonEl =\n",
              "        document.querySelector('#df-e6fcaf0e-f3a6-4d5e-a8de-6b776eeac3a1 button');\n",
              "      quickchartButtonEl.style.display =\n",
              "        google.colab.kernel.accessAllowed ? 'block' : 'none';\n",
              "    })();\n",
              "  </script>\n",
              "</div>\n",
              "    </div>\n",
              "  </div>\n"
            ]
          },
          "metadata": {},
          "execution_count": 8
        }
      ],
      "source": [
        "stats(df)"
      ]
    },
    {
      "cell_type": "code",
      "execution_count": 9,
      "metadata": {
        "colab": {
          "base_uri": "https://localhost:8080/",
          "height": 407
        },
        "id": "J2Ai79daL9iC",
        "outputId": "e7bdc9fa-2909-4697-f32a-81b26eb9b04d"
      },
      "outputs": [
        {
          "output_type": "display_data",
          "data": {
            "text/plain": [
              "<Figure size 2000x400 with 10 Axes>"
            ],
            "image/png": "[encoded data removed]"
          },
          "metadata": {}
        }
      ],
      "source": [
        "unique_month_counts = df['Month_Count'].unique()\n",
        "unique_month_counts.sort()\n",
        "unique_month_counts = unique_month_counts[:5]\n",
        "#unique_month_counts = np.arange(5)\n",
        "\n",
        "fig, axes = plt.subplots(nrows=1, ncols=5, figsize=(20, 4))\n",
        "\n",
        "\n",
        "palette = sns.color_palette(\"coolwarm\", as_cmap=True)\n",
        "\n",
        "max_count = df['Month_Count'].max()\n",
        "color_scale_upper_limit = max_count # + 1500 # Adjust this value based on your data\n",
        "\n",
        "for i, month_count in enumerate(unique_month_counts):\n",
        "    ax = axes[i]\n",
        "\n",
        "    filtered_data = df[df['Month_Count'] == month_count]\n",
        "\n",
        "    # Create scatter plot\n",
        "    sns.scatterplot(data=filtered_data, x='Longitude', y='Latitude', ax=ax, s=filtered_data['Month_Count'], color='blue')\n",
        "\n",
        "    # Create heatmap using histplot with the diverging color palette\n",
        "    sns.histplot(data=filtered_data, x='Longitude', y='Latitude', bins=20, cbar=True, ax=ax, cmap=palette, vmin=0, vmax=color_scale_upper_limit)\n",
        "\n",
        "    ax.set_title(f\"Month_Count: {month_count}\")\n",
        "\n",
        "plt.tight_layout()\n",
        "plt.show()"
      ]
    },
    {
      "cell_type": "code",
      "execution_count": 10,
      "metadata": {
        "colab": {
          "base_uri": "https://localhost:8080/",
          "height": 601
        },
        "id": "rDR8Dko-HSGS",
        "outputId": "393ff607-fba4-4793-9b94-0d1c0b8c1b27"
      },
      "outputs": [
        {
          "output_type": "display_data",
          "data": {
            "text/plain": [
              "<Figure size 1000x600 with 1 Axes>"
            ],
            "image/png": "[encoded data removed]"
          },
          "metadata": {}
        }
      ],
      "source": [
        "df_sorted = df.sort_values(by='Month_Count')\n",
        "sns.set(style=\"whitegrid\")\n",
        "\n",
        "# Set the size of the plot\n",
        "plt.figure(figsize=(10, 6))\n",
        "\n",
        "# Create the bar plot\n",
        "sns.countplot(data=df_sorted, x='Month_Count', palette='viridis')\n",
        "\n",
        "# Rotate x-axis labels for better visibility\n",
        "plt.xticks(rotation=90, ha='right')\n",
        "\n",
        "# Add labels and title\n",
        "plt.xlabel('Date')\n",
        "plt.ylabel('Frequency')\n",
        "plt.title('Bar Plot of Date Frequencies')\n",
        "\n",
        "# Show the plot\n",
        "plt.tight_layout()\n",
        "plt.show()"
      ]
    },
    {
      "cell_type": "code",
      "execution_count": 11,
      "metadata": {
        "id": "d8jDs7GrnBat"
      },
      "outputs": [],
      "source": [
        "# Longitude_col = df['Longitude'].nunique()\n",
        "# Latitude_col = df['Latitude'].nunique()\n",
        "# Month_col = df['Month_Count'].nunique()\n",
        "\n",
        "# # Create a mapping between distinct values and indices for each column\n",
        "# unique_longitudes = sorted(df['Longitude'].unique())\n",
        "# unique_latitudes = sorted(df['Latitude'].unique())\n",
        "# unique_month_counts = sorted(df['Month_Count'].unique())\n",
        "\n",
        "# value_to_index_Longitude_col = {value: index for index, value in enumerate(unique_longitudes)}\n",
        "# value_to_index_Latitude_col = {value: index for index, value in enumerate(unique_latitudes)}\n",
        "# value_to_index_Month_col = {value: index for index, value in enumerate(unique_month_counts)}\n",
        "\n",
        "# # Create a 3D NumPy matrix to store the counts\n",
        "# matrix_shape = (Latitude_col, Longitude_col, Month_col)\n",
        "\n",
        "# count_matrix = np.zeros(matrix_shape, dtype=int)\n",
        "\n",
        "# # Iterate through each row and update counts using the mapped indices\n",
        "# for _, row in df.iterrows():\n",
        "#     idx_Latitude_col = value_to_index_Latitude_col[row['Latitude']]\n",
        "#     idx_Longitude_col = value_to_index_Longitude_col[row['Longitude']]\n",
        "#     idx_Month_col = value_to_index_Month_col[row['Month_Count']]\n",
        "\n",
        "#     # Update the count_matrix using the obtained indices\n",
        "#     count_matrix[idx_Latitude_col, idx_Longitude_col, idx_Month_col] += 1\n",
        "\n",
        "# #print(count_matrix)\n",
        "# #count_matrix.shape\n",
        "# #max_value = np.max(count_matrix)\n",
        "# #max_value"
      ]
    },
    {
      "cell_type": "code",
      "source": [
        "# print(count_matrix)\n",
        "# count_matrix.shape\n",
        "# max_value = np.max(count_matrix)\n",
        "# max_value"
      ],
      "metadata": {
        "id": "bgNGV6D-z4jA"
      },
      "execution_count": 12,
      "outputs": []
    },
    {
      "cell_type": "code",
      "execution_count": 13,
      "metadata": {
        "colab": {
          "base_uri": "https://localhost:8080/"
        },
        "id": "T3ZCL4lXje56",
        "outputId": "9b37e89d-faea-4486-83d6-7147f6240275"
      },
      "outputs": [
        {
          "output_type": "execute_result",
          "data": {
            "text/plain": [
              "361"
            ]
          },
          "metadata": {},
          "execution_count": 13
        }
      ],
      "source": [
        "Longitude_col = df['Longitude'].nunique()\n",
        "Latitude_col = df['Latitude'].nunique()\n",
        "Month_col = df['Month_Count'].nunique()\n",
        "\n",
        "# Create a mapping between distinct values and indices for each column\n",
        "unique_longitudes = sorted(df['Longitude'].unique())\n",
        "unique_latitudes = sorted(df['Latitude'].unique())\n",
        "unique_month_counts = sorted(df['Month_Count'].unique())\n",
        "\n",
        "value_to_index_Longitude_col = {value: index + 1 for index, value in enumerate(unique_longitudes)}\n",
        "value_to_index_Latitude_col = {value: index + 1 for index, value in enumerate(unique_latitudes)}\n",
        "value_to_index_Month_col = {value: index + 1 for index, value in enumerate(unique_month_counts)}\n",
        "\n",
        "# Create a 3D NumPy matrix to store the counts\n",
        "matrix_shape = (Latitude_col, Longitude_col, Month_col)\n",
        "\n",
        "count_matrix = np.zeros(matrix_shape, dtype=int)\n",
        "\n",
        "# Iterate through each row and update counts using the mapped indices\n",
        "for _, row in df.iterrows():\n",
        "    idx_Latitude_col = value_to_index_Latitude_col[row['Latitude']]\n",
        "    idx_Longitude_col = value_to_index_Longitude_col[row['Longitude']]\n",
        "    idx_Month_col = value_to_index_Month_col[row['Month_Count']]\n",
        "\n",
        "    # Update the count_matrix using the obtained indices\n",
        "    count_matrix[idx_Latitude_col - 1, idx_Longitude_col - 1, idx_Month_col - 1] += 1\n",
        "\n",
        "#print(count_matrix)\n",
        "count_matrix.shape\n",
        "max_value = np.max(count_matrix)\n",
        "max_value"
      ]
    },
    {
      "cell_type": "code",
      "execution_count": 14,
      "metadata": {
        "id": "InNXt7_U09UT"
      },
      "outputs": [],
      "source": [
        "# chunk_size = 1  # Set the desired chunk size\n",
        "# for i in range(0, len(count_matrix), chunk_size):\n",
        "#     print(count_matrix[i:i+chunk_size])"
      ]
    },
    {
      "cell_type": "code",
      "execution_count": 15,
      "metadata": {
        "colab": {
          "base_uri": "https://localhost:8080/"
        },
        "id": "vCQg57JCOa9I",
        "outputId": "6f1ee4c3-2076-4f79-e2ce-507705e4a5be"
      },
      "outputs": [
        {
          "output_type": "stream",
          "name": "stdout",
          "text": [
            "Sum of all values in the matrix: 1892815\n"
          ]
        }
      ],
      "source": [
        "total_sum = np.sum(count_matrix)\n",
        "\n",
        "print(\"Sum of all values in the matrix:\", total_sum)"
      ]
    },
    {
      "cell_type": "code",
      "execution_count": 16,
      "metadata": {
        "colab": {
          "base_uri": "https://localhost:8080/"
        },
        "id": "JyGbkFT9PzHM",
        "outputId": "32ced447-4776-4149-970f-0a4bd94f43d4"
      },
      "outputs": [
        {
          "output_type": "stream",
          "name": "stdout",
          "text": [
            "Sum of values with axis 2 value 1: 74539\n"
          ]
        }
      ],
      "source": [
        "selected_values = count_matrix[:, :, 0]  # Assuming 1 is the index of the desired value\n",
        "\n",
        "# Calculate the sum of selected values\n",
        "sum_selected_values = np.sum(selected_values)\n",
        "\n",
        "print(\"Sum of values with axis 2 value 1:\", sum_selected_values)"
      ]
    },
    {
      "cell_type": "code",
      "execution_count": 17,
      "metadata": {
        "id": "0-VxH8luJs5i"
      },
      "outputs": [],
      "source": [
        "# rows = []\n",
        "# for lat_idx, lat_value in enumerate(unique_latitudes):\n",
        "#     for lon_idx, lon_value in enumerate(unique_longitudes):\n",
        "#         for month_idx, month_value in enumerate(unique_month_counts):\n",
        "#             count = count_matrix[lat_idx, lon_idx, month_idx]\n",
        "#             if count > 0:\n",
        "#                 rows.append({'Latitude': lat_value, 'Longitude': lon_value, 'Month_Count': month_value, 'Count': count})\n",
        "\n",
        "# # Create a new DataFrame\n",
        "# reversed_df = pd.DataFrame(rows)\n",
        "\n",
        "# reversed_df"
      ]
    },
    {
      "cell_type": "code",
      "execution_count": 18,
      "metadata": {
        "id": "n5_VfAm_Mztu"
      },
      "outputs": [],
      "source": [
        "# stats(reversed_df)"
      ]
    },
    {
      "cell_type": "code",
      "execution_count": 19,
      "metadata": {
        "id": "jDU1Du9zKO73"
      },
      "outputs": [],
      "source": [
        "# df_sorted = reversed_df.sort_values(by='Month_Count')\n",
        "# sns.set(style=\"whitegrid\")\n",
        "\n",
        "# # Set the size of the plot\n",
        "# plt.figure(figsize=(10, 6))\n",
        "\n",
        "# # Create the bar plot\n",
        "# sns.countplot(data=df_sorted, x='Month_Count', palette='viridis')\n",
        "\n",
        "# # Rotate x-axis labels for better visibility\n",
        "# plt.xticks(rotation=90, ha='right')\n",
        "\n",
        "# # Add labels and title\n",
        "# plt.xlabel('Date')\n",
        "# plt.ylabel('Frequency')\n",
        "# plt.title('Bar Plot of Date Frequencies')\n",
        "\n",
        "# # Show the plot\n",
        "# plt.tight_layout()\n",
        "# #plt.show()"
      ]
    },
    {
      "cell_type": "code",
      "execution_count": 20,
      "metadata": {
        "id": "zIiwXISfSBC7"
      },
      "outputs": [],
      "source": [
        "# unique_month_counts = reversed_df['Month_Count'].unique()\n",
        "# unique_month_counts.sort()\n",
        "# unique_month_counts = unique_month_counts[:5]\n",
        "# #unique_month_counts = np.arange(5)\n",
        "\n",
        "# fig, axes = plt.subplots(nrows=1, ncols=5, figsize=(20, 4))\n",
        "\n",
        "# # Determine the color palette\n",
        "# palette = sns.color_palette(\"coolwarm\", as_cmap=True)\n",
        "\n",
        "# # Calculate a reasonable upper limit for color scale\n",
        "# max_count = reversed_df['Month_Count'].max()\n",
        "# color_scale_upper_limit = max_count + 2000  # Adjust this value based on your data\n",
        "\n",
        "# for i, month_count in enumerate(unique_month_counts):\n",
        "#     ax = axes[i]\n",
        "\n",
        "#     filtered_data = reversed_df[reversed_df['Month_Count'] == month_count]\n",
        "\n",
        "#     # Create scatter plot\n",
        "#     sns.scatterplot(data=filtered_data, x='Longitude', y='Latitude', ax=ax, s=filtered_data['Month_Count'], color='blue')\n",
        "\n",
        "#     # Create heatmap using histplot with the diverging color palette\n",
        "#     sns.histplot(data=filtered_data, x='Longitude', y='Latitude', bins=20, cbar=True, ax=ax, cmap=palette, vmin=0, vmax=color_scale_upper_limit)\n",
        "\n",
        "#     ax.set_title(f\"Month_Count: {month_count}\")\n",
        "\n",
        "# plt.tight_layout()\n",
        "# plt.show()"
      ]
    },
    {
      "cell_type": "code",
      "execution_count": 21,
      "metadata": {
        "colab": {
          "base_uri": "https://localhost:8080/"
        },
        "id": "RJb1oKWiOOnj",
        "outputId": "b2c78244-ef26-49c8-e83b-d5b0bc70a1a0"
      },
      "outputs": [
        {
          "output_type": "stream",
          "name": "stdout",
          "text": [
            "48\n"
          ]
        }
      ],
      "source": [
        "series = pd.Series(unique_month_counts)\n",
        "\n",
        "num_unique = series.nunique()\n",
        "print(num_unique)"
      ]
    },
    {
      "cell_type": "code",
      "execution_count": 22,
      "metadata": {
        "id": "54kWGwcSti0V"
      },
      "outputs": [],
      "source": [
        "# unique_month_counts = np.arange(5)  # Assuming you want to select the first 5 months\n",
        "# #unique_month_counts = unique_month_counts[:5]\n",
        "# fig, axes = plt.subplots(nrows=1, ncols=5, figsize=(20, 4))\n",
        "\n",
        "# # Determine the color palette\n",
        "# palette = sns.color_palette(\"coolwarm\", as_cmap=True)\n",
        "\n",
        "# # Calculate a reasonable upper limit for color scale\n",
        "# max_count = np.max(count_matrix[:, :, unique_month_counts])\n",
        "# color_scale_upper_limit = max_count + 2000  # Adjust this value based on your data\n",
        "\n",
        "# for i, month_count in enumerate(unique_month_counts):\n",
        "#     ax = axes[i]\n",
        "\n",
        "#     # Select the data for the specific month count\n",
        "#     filtered_data = count_matrix[:, :, month_count]\n",
        "\n",
        "#     # Create scatter plot for the first two axes\n",
        "#     x, y = np.meshgrid(np.arange(filtered_data.shape[1]), np.arange(filtered_data.shape[0]))\n",
        "#     x = x.flatten()\n",
        "#     y = y.flatten()\n",
        "#     s = filtered_data.flatten()  # Use values as scatter point sizes\n",
        "#     sns.scatterplot(x=x, y=y, s=s, color='blue', ax=ax)\n",
        "\n",
        "#     # Create heatmap-like representation using histplot with the diverging color palette\n",
        "#     sns.histplot(x=x, y=y, weights=s, bins=20, cbar=True, ax=ax, cmap=palette, vmin=0, vmax=color_scale_upper_limit)\n",
        "\n",
        "#     ax.set_title(f\"Month_Count: {month_count + 1}\")\n",
        "\n",
        "# plt.tight_layout()\n",
        "# plt.show()\n",
        "\n"
      ]
    },
    {
      "cell_type": "code",
      "execution_count": 23,
      "metadata": {
        "colab": {
          "base_uri": "https://localhost:8080/",
          "height": 401
        },
        "id": "oruFPeQc4B89",
        "outputId": "d47343ab-6e69-4bbe-86b5-9318ef6eb2b7"
      },
      "outputs": [
        {
          "output_type": "display_data",
          "data": {
            "text/plain": [
              "<Figure size 2000x400 with 10 Axes>"
            ],
            "image/png": "[encoded data removed]"
          },
          "metadata": {}
        }
      ],
      "source": [
        "unique_month_counts = np.arange(5)\n",
        "\n",
        "fig, axes = plt.subplots(nrows=1, ncols=5, figsize=(20, 4))\n",
        "\n",
        "# Determine the color palette\n",
        "palette = sns.color_palette(\"coolwarm\", as_cmap=True)\n",
        "\n",
        "# Calculate a reasonable upper limit for color scale\n",
        "max_count = np.max(count_matrix)\n",
        "color_scale_upper_limit = max_count # Adjust this value based on your data\n",
        "\n",
        "for i, month_count in enumerate(unique_month_counts):\n",
        "    ax = axes[i]\n",
        "\n",
        "    # Select the data for the specific month count\n",
        "    filtered_data = count_matrix[:, :, month_count]\n",
        "\n",
        "    # Get the corresponding longitude and latitude values\n",
        "    unique_longitudes = sorted(df['Longitude'].unique())\n",
        "    unique_latitudes = sorted(df['Latitude'].unique())\n",
        "\n",
        "    # Create scatter plot for the first two axes\n",
        "    x, y = np.meshgrid(unique_longitudes, unique_latitudes)\n",
        "    x = x.flatten()\n",
        "    y = y.flatten()\n",
        "    s = filtered_data.flatten()  # Use values as scatter point sizes\n",
        "    sns.scatterplot(x=x, y=y, s=s, color='blue', ax=ax)\n",
        "\n",
        "    # Create heatmap-like representation using histplot with the diverging color palette\n",
        "    sns.histplot(x=x, y=y, weights=s, bins=20, cbar=True, ax=ax, cmap=palette, vmin=0, vmax=color_scale_upper_limit)\n",
        "\n",
        "    ax.set_title(f\"Month_Count: {month_count + 1}\")\n",
        "\n",
        "plt.tight_layout()\n",
        "plt.show()"
      ]
    },
    {
      "cell_type": "code",
      "source": [
        "unique_month_counts = df['Month_Count'].unique()\n",
        "unique_month_counts.sort()\n",
        "unique_month_counts = unique_month_counts[:5]\n",
        "#unique_month_counts = np.arange(5)\n",
        "\n",
        "fig, axes = plt.subplots(nrows=1, ncols=5, figsize=(20, 4))\n",
        "\n",
        "# Determine the color palette\n",
        "palette = sns.color_palette(\"coolwarm\", as_cmap=True)\n",
        "\n",
        "# Calculate a reasonable upper limit for color scale\n",
        "max_count = df['Month_Count'].max()\n",
        "color_scale_upper_limit = max_count +310 # Adjust this value based on your data\n",
        "\n",
        "for i, month_count in enumerate(unique_month_counts):\n",
        "    ax = axes[i]\n",
        "\n",
        "    filtered_data = df[df['Month_Count'] == month_count]\n",
        "\n",
        "    # Create scatter plot\n",
        "    sns.scatterplot(data=filtered_data, x='Longitude', y='Latitude', ax=ax, s=filtered_data['Month_Count'], color='blue')\n",
        "\n",
        "    # Create heatmap using histplot with the diverging color palette\n",
        "    sns.histplot(data=filtered_data, x='Longitude', y='Latitude', bins=20, cbar=True, ax=ax, cmap=palette, vmin=0, vmax=color_scale_upper_limit)\n",
        "\n",
        "    ax.set_title(f\"Month_Count: {month_count}\")\n",
        "\n",
        "plt.tight_layout()\n",
        "plt.show()"
      ],
      "metadata": {
        "colab": {
          "base_uri": "https://localhost:8080/",
          "height": 401
        },
        "id": "cFJQ1n-4lnCi",
        "outputId": "f8dcae8d-6453-4602-ab61-1db4f9f2d469"
      },
      "execution_count": 24,
      "outputs": [
        {
          "output_type": "display_data",
          "data": {
            "text/plain": [
              "<Figure size 2000x400 with 10 Axes>"
            ],
            "image/png": "[encoded data removed]"
          },
          "metadata": {}
        }
      ]
    },
    {
      "cell_type": "code",
      "execution_count": 25,
      "metadata": {
        "id": "JnG3eyDyBCQl"
      },
      "outputs": [],
      "source": [
        "# for i in range(num_plots):\n",
        "#     ax = axes[i]\n",
        "\n",
        "#     # Print the heatmap data for troubleshooting\n",
        "#     print(f\"Heatmap for Month_Count Value {i+1}:\\n\", count_matrix[:, :, i])\n",
        "\n",
        "#     heatmap = count_matrix[:, :, i]\n",
        "#     cax = ax.matshow(heatmap, cmap='YlOrRd', vmin=0, vmax=max_count)\n",
        "#     ax.set_title(f'Column 3 Value {i+1}')\n",
        "#     ax.set_xlabel('Column 2')\n",
        "#     ax.set_ylabel('Column 1')\n",
        "#     fig.colorbar(cax, ax=ax)\n",
        "\n",
        "# plt.tight_layout()\n",
        "# plt.show()"
      ]
    },
    {
      "cell_type": "code",
      "execution_count": 26,
      "metadata": {
        "id": "VTuUfagQJOxt"
      },
      "outputs": [],
      "source": [
        "# # from sklearn.model_selection import train_test_split\n",
        "\n",
        "# # Assuming you've already created and populated the count_matrix\n",
        "\n",
        "# # Perform train-test split on the third axis\n",
        "# X_train = count_matrix[:, :, :-5]  # All values except the last 5\n",
        "# X_test = count_matrix[:, :, -5:]   # Last 5 values\n",
        "\n",
        "# y_train = count_matrix[:, :, :-5].flatten().tolist()\n",
        "\n",
        "# # Extract all values for the last 5 values along the 3rd axis\n",
        "# y_test = count_matrix[:, :, -5:].flatten().tolist()\n",
        "\n",
        "\n",
        "# X_test.shape"
      ]
    },
    {
      "cell_type": "code",
      "source": [
        "# print(\"Training Features:\")\n",
        "# print(X_train)\n",
        "# print(\"Training Targets:\")\n",
        "# #print(y_train)\n",
        "# print(\"Test Features:\")\n",
        "# #print(X_test)\n",
        "# print(\"Test Targets:\")\n",
        "# #print(y_test)"
      ],
      "metadata": {
        "id": "uSde-V9uuYHu"
      },
      "execution_count": 27,
      "outputs": []
    },
    {
      "cell_type": "code",
      "source": [
        "Latitude_col = df['Latitude'].nunique()\n",
        "Longitude_col = df['Longitude'].nunique()\n",
        "Month_col = df['Month_Count'].nunique()\n",
        "\n",
        "# Create a mapping between distinct values and indices for each column\n",
        "unique_latitudes = sorted(df['Latitude'].unique())\n",
        "\n",
        "unique_longitudes = sorted(df['Longitude'].unique())\n",
        "unique_month_counts = sorted(df['Month_Count'].unique())\n",
        "\n",
        "value_to_index_Latitude_col = {value: index + 1 for index, value in enumerate(unique_latitudes)}\n",
        "value_to_index_Longitude_col = {value: index + 1 for index, value in enumerate(unique_longitudes)}\n",
        "value_to_index_Month_col = {value: index + 1 for index, value in enumerate(unique_month_counts)}\n",
        "\n",
        "# Create a 3D NumPy matrix to store the counts\n",
        "matrix_shape = (Latitude_col, Longitude_col, Month_col)\n",
        "\n",
        "count_matrix = np.zeros(matrix_shape, dtype=int)\n",
        "\n",
        "# Iterate through each row and update counts using the mapped indices\n",
        "for _, row in df.iterrows():\n",
        "    idx_Latitude_col = value_to_index_Latitude_col[row['Latitude']]\n",
        "    idx_Longitude_col = value_to_index_Longitude_col[row['Longitude']]\n",
        "    idx_Month_col = value_to_index_Month_col[row['Month_Count']]\n",
        "\n",
        "    # Update the count_matrix using the obtained indices\n",
        "    count_matrix[idx_Latitude_col - 1, idx_Longitude_col - 1, idx_Month_col - 1] += 1\n",
        "\n",
        "#print(count_matrix)\n",
        "count_matrix.shape\n",
        "# max_value = np.max(count_matrix)\n",
        "# max_value"
      ],
      "metadata": {
        "colab": {
          "base_uri": "https://localhost:8080/"
        },
        "id": "wWEk74Z1xfII",
        "outputId": "4e8e546e-4b34-4c75-cb26-f749cb141a02"
      },
      "execution_count": 28,
      "outputs": [
        {
          "output_type": "execute_result",
          "data": {
            "text/plain": [
              "(379, 343, 48)"
            ]
          },
          "metadata": {},
          "execution_count": 28
        }
      ]
    },
    {
      "cell_type": "code",
      "source": [
        "count_matrix.shape\n"
      ],
      "metadata": {
        "colab": {
          "base_uri": "https://localhost:8080/"
        },
        "id": "CbIRkTpLx-uE",
        "outputId": "9b128a9e-fff9-4b3e-bc97-8892d302b6b3"
      },
      "execution_count": 29,
      "outputs": [
        {
          "output_type": "execute_result",
          "data": {
            "text/plain": [
              "(379, 343, 48)"
            ]
          },
          "metadata": {},
          "execution_count": 29
        }
      ]
    },
    {
      "cell_type": "code",
      "source": [
        "max_value = np.max(count_matrix)\n",
        "max_value"
      ],
      "metadata": {
        "colab": {
          "base_uri": "https://localhost:8080/"
        },
        "id": "0Xe0dZxd1Tjr",
        "outputId": "7603faaa-8ef9-4a79-ed7e-1c130f9c0871"
      },
      "execution_count": 30,
      "outputs": [
        {
          "output_type": "execute_result",
          "data": {
            "text/plain": [
              "361"
            ]
          },
          "metadata": {},
          "execution_count": 30
        }
      ]
    },
    {
      "cell_type": "code",
      "execution_count": 31,
      "metadata": {
        "colab": {
          "base_uri": "https://localhost:8080/"
        },
        "id": "gf1lCnzzLPON",
        "outputId": "ea3a79a3-463e-4e23-efbf-33e49441f68d"
      },
      "outputs": [
        {
          "output_type": "stream",
          "name": "stdout",
          "text": [
            "Training Features:\n",
            "[[  0   0   1]\n",
            " [  0   0   2]\n",
            " [  0   0   3]\n",
            " ...\n",
            " [378 342  41]\n",
            " [378 342  42]\n",
            " [378 342  43]]\n",
            "Training Targets:\n",
            "[0 0 0 ... 0 0 0]\n",
            "Test Features:\n",
            "[[  0   0  44]\n",
            " [  0   0  45]\n",
            " [  0   0  46]\n",
            " ...\n",
            " [378 342  46]\n",
            " [378 342  47]\n",
            " [378 342  48]]\n",
            "Test Targets:\n",
            "[0 0 0 ... 0 0 0]\n"
          ]
        }
      ],
      "source": [
        "split_index = 44\n",
        "# Latitude_dim = count_matrix.shape[0]\n",
        "# Longitude_dim = count_matrix.shape[1]\n",
        "# time_dim = count_matrix.shape[2]\n",
        "\n",
        "\n",
        "split_value_index = 5 # Index of the last value along the third axis\n",
        "\n",
        "def extract_features_targets(matrix,split_index=1 ):\n",
        "    Latitude_dim, Longitude_dim, time_dim = matrix.shape\n",
        "    features = []\n",
        "    targets = []\n",
        "    for i in range(Latitude_dim):\n",
        "        for j in range(Longitude_dim):\n",
        "            for k in range(time_dim):\n",
        "                features.append([i , j , k +split_index])  # Indices as features, adjusted for split_index\n",
        "                targets.append(matrix[i, j, k])  # Values as targets\n",
        "    return np.array(features), np.array(targets)\n",
        "\n",
        "\n",
        "# Index of the last value along the third axis\n",
        "\n",
        "#batch_size = 1\n",
        "#channels = 1\n",
        "#count_matrix = count_matrix.reshape(batch_size, channels, Latitude_dim, Longitude_dim, time_dim)\n",
        "\n",
        "train_matrix =  count_matrix[ :, :, split_value_index:]\n",
        "test_matrix = count_matrix[:, :, :split_value_index]\n",
        "\n",
        "#train_matrix=(train_matrix-train_matrix.min())/(train_matrix.max()-train_matrix.min())\n",
        "\n",
        "\n",
        "train_features, train_targets = extract_features_targets(train_matrix)\n",
        "test_features, test_targets = extract_features_targets(test_matrix, split_index)\n",
        "\n",
        "\n",
        "\n",
        "\n",
        "print(\"Training Features:\")\n",
        "print(train_features)\n",
        "print(\"Training Targets:\")\n",
        "print(train_targets)\n",
        "print(\"Test Features:\")\n",
        "print(test_features)\n",
        "print(\"Test Targets:\")\n",
        "print(test_targets)"
      ]
    },
    {
      "cell_type": "code",
      "source": [
        "train_matrix.shape"
      ],
      "metadata": {
        "colab": {
          "base_uri": "https://localhost:8080/"
        },
        "id": "7Jrhk9vep4g4",
        "outputId": "24831858-8969-4c32-8159-e5758036128f"
      },
      "execution_count": 32,
      "outputs": [
        {
          "output_type": "execute_result",
          "data": {
            "text/plain": [
              "(379, 343, 43)"
            ]
          },
          "metadata": {},
          "execution_count": 32
        }
      ]
    },
    {
      "cell_type": "code",
      "source": [
        "test_matrix.shape"
      ],
      "metadata": {
        "colab": {
          "base_uri": "https://localhost:8080/"
        },
        "id": "YnLC2Pjpp4bX",
        "outputId": "cd662e9b-0bb4-4767-8463-a14e6078a505"
      },
      "execution_count": 33,
      "outputs": [
        {
          "output_type": "execute_result",
          "data": {
            "text/plain": [
              "(379, 343, 5)"
            ]
          },
          "metadata": {},
          "execution_count": 33
        }
      ]
    },
    {
      "cell_type": "code",
      "source": [
        "features_min = min(train_features.min(), test_features.min())\n",
        "features_max = max(train_features.max(), test_features.max())\n",
        "train_features = (train_features - features_min) / (features_max - features_min)\n",
        "test_features = (test_features - features_min) / (features_max - features_min)\n",
        "\n",
        "targets_min = min(train_targets.min(), test_targets.min())\n",
        "targets_max = max(train_targets.max(), test_targets.max())\n",
        "train_targets =(train_targets-targets_min)/(targets_max-targets_min)\n",
        "test_targets =(test_targets-targets_min)/(targets_max-targets_min)\n",
        "\n",
        "print(\"Training Features:\")\n",
        "print(train_features)\n",
        "print(\"Training Targets:\")\n",
        "print(train_targets)\n",
        "print(\"Test Features:\")\n",
        "print(test_features)\n",
        "print(\"Test Targets:\")\n",
        "print(test_targets)\n"
      ],
      "metadata": {
        "colab": {
          "base_uri": "https://localhost:8080/"
        },
        "id": "1zwMNxmYSOAu",
        "outputId": "890837bf-fcef-4404-dba6-676f1139ffa8"
      },
      "execution_count": 34,
      "outputs": [
        {
          "output_type": "stream",
          "name": "stdout",
          "text": [
            "Training Features:\n",
            "[[0.         0.         0.0026455 ]\n",
            " [0.         0.         0.00529101]\n",
            " [0.         0.         0.00793651]\n",
            " ...\n",
            " [1.         0.9047619  0.10846561]\n",
            " [1.         0.9047619  0.11111111]\n",
            " [1.         0.9047619  0.11375661]]\n",
            "Training Targets:\n",
            "[0. 0. 0. ... 0. 0. 0.]\n",
            "Test Features:\n",
            "[[0.         0.         0.11640212]\n",
            " [0.         0.         0.11904762]\n",
            " [0.         0.         0.12169312]\n",
            " ...\n",
            " [1.         0.9047619  0.12169312]\n",
            " [1.         0.9047619  0.12433862]\n",
            " [1.         0.9047619  0.12698413]]\n",
            "Test Targets:\n",
            "[0. 0. 0. ... 0. 0. 0.]\n"
          ]
        }
      ]
    },
    {
      "cell_type": "code",
      "source": [
        "new_order = [2, 0, 1]\n",
        "train_features = train_features[:, new_order]\n",
        "test_features = test_features[:, new_order]"
      ],
      "metadata": {
        "id": "Qj60nYEd4Du_"
      },
      "execution_count": 35,
      "outputs": []
    },
    {
      "cell_type": "code",
      "source": [
        "train_features.shape"
      ],
      "metadata": {
        "colab": {
          "base_uri": "https://localhost:8080/"
        },
        "id": "8iLhGbtQ4Db4",
        "outputId": "280851ba-0a8c-4b1b-b537-95bde7a59faa"
      },
      "execution_count": 36,
      "outputs": [
        {
          "output_type": "execute_result",
          "data": {
            "text/plain": [
              "(5589871, 3)"
            ]
          },
          "metadata": {},
          "execution_count": 36
        }
      ]
    },
    {
      "cell_type": "code",
      "source": [
        "print(train_features)"
      ],
      "metadata": {
        "colab": {
          "base_uri": "https://localhost:8080/"
        },
        "id": "3RG-Zd-G4DDt",
        "outputId": "4e7968c7-3682-42a0-956d-cec7259371f0"
      },
      "execution_count": 37,
      "outputs": [
        {
          "output_type": "stream",
          "name": "stdout",
          "text": [
            "[[0.0026455  0.         0.        ]\n",
            " [0.00529101 0.         0.        ]\n",
            " [0.00793651 0.         0.        ]\n",
            " ...\n",
            " [0.10846561 1.         0.9047619 ]\n",
            " [0.11111111 1.         0.9047619 ]\n",
            " [0.11375661 1.         0.9047619 ]]\n"
          ]
        }
      ]
    },
    {
      "cell_type": "code",
      "source": [
        "input_shape= (1, train_features[2], train_features[0], train_features[1], 1)\n",
        "train_features.shape"
      ],
      "metadata": {
        "colab": {
          "base_uri": "https://localhost:8080/"
        },
        "id": "t5rEcPJB6hwd",
        "outputId": "ce6c57da-55a2-42ef-fb23-cea3ba2f779a"
      },
      "execution_count": 38,
      "outputs": [
        {
          "output_type": "execute_result",
          "data": {
            "text/plain": [
              "(5589871, 3)"
            ]
          },
          "metadata": {},
          "execution_count": 38
        }
      ]
    },
    {
      "cell_type": "code",
      "source": [
        "new_column1 = np.ones(train_features.shape[0])\n",
        "new_column2 = np.ones(test_features.shape[0])\n",
        "train_features = np.column_stack((train_features, new_column1))\n",
        "train_features = np.insert(train_features, 0, new_column1, axis=1)\n",
        "test_features = np.column_stack((test_features, new_column2))\n",
        "test_features = np.insert(test_features, 0, new_column2, axis=1)"
      ],
      "metadata": {
        "id": "GZABKOmkZl_d"
      },
      "execution_count": 39,
      "outputs": []
    },
    {
      "cell_type": "code",
      "source": [
        "train_features.shape"
      ],
      "metadata": {
        "colab": {
          "base_uri": "https://localhost:8080/"
        },
        "id": "MGkMH662eQ7c",
        "outputId": "c28e0503-c9ef-43d2-c458-1ca45c0a818d"
      },
      "execution_count": 40,
      "outputs": [
        {
          "output_type": "execute_result",
          "data": {
            "text/plain": [
              "(5589871, 5)"
            ]
          },
          "metadata": {},
          "execution_count": 40
        }
      ]
    },
    {
      "cell_type": "code",
      "source": [
        "print(train_features)"
      ],
      "metadata": {
        "colab": {
          "base_uri": "https://localhost:8080/"
        },
        "id": "OK38_eHIeYlD",
        "outputId": "2543640a-3d36-4191-e5bd-a635949f1dfb"
      },
      "execution_count": 41,
      "outputs": [
        {
          "output_type": "stream",
          "name": "stdout",
          "text": [
            "[[1.         0.0026455  0.         0.         1.        ]\n",
            " [1.         0.00529101 0.         0.         1.        ]\n",
            " [1.         0.00793651 0.         0.         1.        ]\n",
            " ...\n",
            " [1.         0.10846561 1.         0.9047619  1.        ]\n",
            " [1.         0.11111111 1.         0.9047619  1.        ]\n",
            " [1.         0.11375661 1.         0.9047619  1.        ]]\n"
          ]
        }
      ]
    },
    {
      "cell_type": "code",
      "source": [
        "train_targets.shape"
      ],
      "metadata": {
        "colab": {
          "base_uri": "https://localhost:8080/"
        },
        "id": "B9po5wyuZnwr",
        "outputId": "341d69a4-f45e-4121-b25c-ee68e0636f51"
      },
      "execution_count": 42,
      "outputs": [
        {
          "output_type": "execute_result",
          "data": {
            "text/plain": [
              "(5589871,)"
            ]
          },
          "metadata": {},
          "execution_count": 42
        }
      ]
    },
    {
      "cell_type": "code",
      "source": [],
      "metadata": {
        "id": "HFU1DvjW4p2m"
      },
      "execution_count": null,
      "outputs": []
    },
    {
      "cell_type": "code",
      "source": [],
      "metadata": {
        "id": "BO_csknU4pue"
      },
      "execution_count": null,
      "outputs": []
    },
    {
      "cell_type": "code",
      "source": [],
      "metadata": {
        "id": "Dn42MwUy4pl7"
      },
      "execution_count": null,
      "outputs": []
    },
    {
      "cell_type": "code",
      "source": [],
      "metadata": {
        "id": "SL90wc6j4pdG"
      },
      "execution_count": null,
      "outputs": []
    },
    {
      "cell_type": "code",
      "source": [
        "import tensorflow as tf\n",
        "from tensorflow.keras.models import Sequential\n",
        "from tensorflow.keras.layers import ConvLSTM2D, Dense\n",
        "\n",
        "# Define the model\n",
        "model = Sequential()\n",
        "\n",
        "# Add ConvLSTM3D layer\n",
        "model.add(ConvLSTM2D(12, kernel_size=(3, 3), activation='tanh', recurrent_activation='hard_sigmoid',\n",
        "                        kernel_initializer='glorot_uniform', recurrent_initializer='orthogonal',\n",
        "                        kernel_constraint=None, recurrent_constraint=None, bias_constraint=None,\n",
        "                        return_sequences=False,\n",
        "                        padding='same',\n",
        "                        #data_format='channels_last',\n",
        "                        dropout=0.0, recurrent_dropout=0.0))\n",
        "\n",
        "# Add more ConvLSTM3D layers or other layers as needed\n",
        "# model.add(ConvLSTM3D(filters=128, kernel_size=(3, 3, 3), padding='same', return_sequences=True))\n",
        "\n",
        "# Flatten the output for fully connected layers\n",
        "model.add(tf.keras.layers.Flatten())\n",
        "\n",
        "# Add Dense layers for regression\n",
        "model.add(Dense(64, activation='relu'))\n",
        "model.add(Dense(1, activation='linear'))  # 1 output neuron for regression\n",
        "\n",
        "# Compile the model\n",
        "model.compile(optimizer='adam', loss='mean_squared_error')  # Use appropriate loss function for regression\n",
        "\n",
        "# Train the model\n",
        "model.fit(train_features, train_targets, validation_data=(test_features, test_targets), epochs=10, batch_size=32)\n",
        "model.summary()"
      ],
      "metadata": {
        "colab": {
          "base_uri": "https://localhost:8080/",
          "height": 774
        },
        "id": "U6peBoWzIsLY",
        "outputId": "59e83943-37a5-4a26-96b0-502f16a79f69"
      },
      "execution_count": 63,
      "outputs": [
        {
          "output_type": "stream",
          "name": "stdout",
          "text": [
            "Epoch 1/10\n"
          ]
        },
        {
          "output_type": "error",
          "ename": "ValueError",
          "evalue": "ignored",
          "traceback": [
            "\u001b[0;31m---------------------------------------------------------------------------\u001b[0m",
            "\u001b[0;31mValueError\u001b[0m                                Traceback (most recent call last)",
            "\u001b[0;32m<ipython-input-63-7d3d4cec0807>\u001b[0m in \u001b[0;36m<cell line: 31>\u001b[0;34m()\u001b[0m\n\u001b[1;32m     29\u001b[0m \u001b[0;34m\u001b[0m\u001b[0m\n\u001b[1;32m     30\u001b[0m \u001b[0;31m# Train the model\u001b[0m\u001b[0;34m\u001b[0m\u001b[0;34m\u001b[0m\u001b[0m\n\u001b[0;32m---> 31\u001b[0;31m \u001b[0mmodel\u001b[0m\u001b[0;34m.\u001b[0m\u001b[0mfit\u001b[0m\u001b[0;34m(\u001b[0m\u001b[0mtrain_features\u001b[0m\u001b[0;34m,\u001b[0m \u001b[0mtrain_targets\u001b[0m\u001b[0;34m,\u001b[0m \u001b[0mvalidation_data\u001b[0m\u001b[0;34m=\u001b[0m\u001b[0;34m(\u001b[0m\u001b[0mtest_features\u001b[0m\u001b[0;34m,\u001b[0m \u001b[0mtest_targets\u001b[0m\u001b[0;34m)\u001b[0m\u001b[0;34m,\u001b[0m \u001b[0mepochs\u001b[0m\u001b[0;34m=\u001b[0m\u001b[0;36m10\u001b[0m\u001b[0;34m,\u001b[0m \u001b[0mbatch_size\u001b[0m\u001b[0;34m=\u001b[0m\u001b[0;36m32\u001b[0m\u001b[0;34m)\u001b[0m\u001b[0;34m\u001b[0m\u001b[0;34m\u001b[0m\u001b[0m\n\u001b[0m\u001b[1;32m     32\u001b[0m \u001b[0mmodel\u001b[0m\u001b[0;34m.\u001b[0m\u001b[0msummary\u001b[0m\u001b[0;34m(\u001b[0m\u001b[0;34m)\u001b[0m\u001b[0;34m\u001b[0m\u001b[0;34m\u001b[0m\u001b[0m\n",
            "\u001b[0;32m/usr/local/lib/python3.10/dist-packages/keras/src/utils/traceback_utils.py\u001b[0m in \u001b[0;36merror_handler\u001b[0;34m(*args, **kwargs)\u001b[0m\n\u001b[1;32m     68\u001b[0m             \u001b[0;31m# To get the full stack trace, call:\u001b[0m\u001b[0;34m\u001b[0m\u001b[0;34m\u001b[0m\u001b[0m\n\u001b[1;32m     69\u001b[0m             \u001b[0;31m# `tf.debugging.disable_traceback_filtering()`\u001b[0m\u001b[0;34m\u001b[0m\u001b[0;34m\u001b[0m\u001b[0m\n\u001b[0;32m---> 70\u001b[0;31m             \u001b[0;32mraise\u001b[0m \u001b[0me\u001b[0m\u001b[0;34m.\u001b[0m\u001b[0mwith_traceback\u001b[0m\u001b[0;34m(\u001b[0m\u001b[0mfiltered_tb\u001b[0m\u001b[0;34m)\u001b[0m \u001b[0;32mfrom\u001b[0m \u001b[0;32mNone\u001b[0m\u001b[0;34m\u001b[0m\u001b[0;34m\u001b[0m\u001b[0m\n\u001b[0m\u001b[1;32m     71\u001b[0m         \u001b[0;32mfinally\u001b[0m\u001b[0;34m:\u001b[0m\u001b[0;34m\u001b[0m\u001b[0;34m\u001b[0m\u001b[0m\n\u001b[1;32m     72\u001b[0m             \u001b[0;32mdel\u001b[0m \u001b[0mfiltered_tb\u001b[0m\u001b[0;34m\u001b[0m\u001b[0;34m\u001b[0m\u001b[0m\n",
            "\u001b[0;32m/usr/local/lib/python3.10/dist-packages/keras/src/engine/training.py\u001b[0m in \u001b[0;36mtf__train_function\u001b[0;34m(iterator)\u001b[0m\n\u001b[1;32m     13\u001b[0m                 \u001b[0;32mtry\u001b[0m\u001b[0;34m:\u001b[0m\u001b[0;34m\u001b[0m\u001b[0;34m\u001b[0m\u001b[0m\n\u001b[1;32m     14\u001b[0m                     \u001b[0mdo_return\u001b[0m \u001b[0;34m=\u001b[0m \u001b[0;32mTrue\u001b[0m\u001b[0;34m\u001b[0m\u001b[0;34m\u001b[0m\u001b[0m\n\u001b[0;32m---> 15\u001b[0;31m                     \u001b[0mretval_\u001b[0m \u001b[0;34m=\u001b[0m \u001b[0mag__\u001b[0m\u001b[0;34m.\u001b[0m\u001b[0mconverted_call\u001b[0m\u001b[0;34m(\u001b[0m\u001b[0mag__\u001b[0m\u001b[0;34m.\u001b[0m\u001b[0mld\u001b[0m\u001b[0;34m(\u001b[0m\u001b[0mstep_function\u001b[0m\u001b[0;34m)\u001b[0m\u001b[0;34m,\u001b[0m \u001b[0;34m(\u001b[0m\u001b[0mag__\u001b[0m\u001b[0;34m.\u001b[0m\u001b[0mld\u001b[0m\u001b[0;34m(\u001b[0m\u001b[0mself\u001b[0m\u001b[0;34m)\u001b[0m\u001b[0;34m,\u001b[0m \u001b[0mag__\u001b[0m\u001b[0;34m.\u001b[0m\u001b[0mld\u001b[0m\u001b[0;34m(\u001b[0m\u001b[0miterator\u001b[0m\u001b[0;34m)\u001b[0m\u001b[0;34m)\u001b[0m\u001b[0;34m,\u001b[0m \u001b[0;32mNone\u001b[0m\u001b[0;34m,\u001b[0m \u001b[0mfscope\u001b[0m\u001b[0;34m)\u001b[0m\u001b[0;34m\u001b[0m\u001b[0;34m\u001b[0m\u001b[0m\n\u001b[0m\u001b[1;32m     16\u001b[0m                 \u001b[0;32mexcept\u001b[0m\u001b[0;34m:\u001b[0m\u001b[0;34m\u001b[0m\u001b[0;34m\u001b[0m\u001b[0m\n\u001b[1;32m     17\u001b[0m                     \u001b[0mdo_return\u001b[0m \u001b[0;34m=\u001b[0m \u001b[0;32mFalse\u001b[0m\u001b[0;34m\u001b[0m\u001b[0;34m\u001b[0m\u001b[0m\n",
            "\u001b[0;31mValueError\u001b[0m: in user code:\n\n    File \"/usr/local/lib/python3.10/dist-packages/keras/src/engine/training.py\", line 1377, in train_function  *\n        return step_function(self, iterator)\n    File \"/usr/local/lib/python3.10/dist-packages/keras/src/engine/training.py\", line 1360, in step_function  **\n        outputs = model.distribute_strategy.run(run_step, args=(data,))\n    File \"/usr/local/lib/python3.10/dist-packages/keras/src/engine/training.py\", line 1349, in run_step  **\n        outputs = model.train_step(data)\n    File \"/usr/local/lib/python3.10/dist-packages/keras/src/engine/training.py\", line 1126, in train_step\n        y_pred = self(x, training=True)\n    File \"/usr/local/lib/python3.10/dist-packages/keras/src/utils/traceback_utils.py\", line 70, in error_handler\n        raise e.with_traceback(filtered_tb) from None\n    File \"/usr/local/lib/python3.10/dist-packages/keras/src/engine/input_spec.py\", line 235, in assert_input_compatibility\n        raise ValueError(\n\n    ValueError: Exception encountered when calling layer 'sequential' (type Sequential).\n    \n    Input 0 of layer \"conv_lstm2d\" is incompatible with the layer: expected ndim=5, found ndim=2. Full shape received: (None, 5)\n    \n    Call arguments received by layer 'sequential' (type Sequential):\n      • inputs=tf.Tensor(shape=(None, 5), dtype=float32)\n      • training=True\n      • mask=None\n"
          ]
        }
      ]
    },
    {
      "cell_type": "code",
      "source": [],
      "metadata": {
        "id": "MH0BbY_9IsFY"
      },
      "execution_count": null,
      "outputs": []
    },
    {
      "cell_type": "code",
      "execution_count": null,
      "metadata": {
        "colab": {
          "base_uri": "https://localhost:8080/",
          "height": 246
        },
        "id": "JYQuvTaED6Hg",
        "outputId": "9d93d6b2-92e3-44ed-a1b6-88ba9202f439"
      },
      "outputs": [
        {
          "ename": "SyntaxError",
          "evalue": "ignored",
          "output_type": "error",
          "traceback": [
            "\u001b[0;31m---------------------------------------------------------------------------\u001b[0m",
            "\u001b[0;31mSyntaxError\u001b[0m                               Traceback (most recent call last)",
            "\u001b[0;32m/usr/local/lib/python3.10/dist-packages/IPython/core/compilerop.py\u001b[0m in \u001b[0;36mast_parse\u001b[0;34m(self, source, filename, symbol)\u001b[0m\n\u001b[1;32m     99\u001b[0m         \u001b[0mArguments\u001b[0m \u001b[0mare\u001b[0m \u001b[0mexactly\u001b[0m \u001b[0mthe\u001b[0m \u001b[0msame\u001b[0m \u001b[0;32mas\u001b[0m \u001b[0mast\u001b[0m\u001b[0;34m.\u001b[0m\u001b[0mparse\u001b[0m \u001b[0;34m(\u001b[0m\u001b[0;32min\u001b[0m \u001b[0mthe\u001b[0m \u001b[0mstandard\u001b[0m \u001b[0mlibrary\u001b[0m\u001b[0;34m)\u001b[0m\u001b[0;34m,\u001b[0m\u001b[0;34m\u001b[0m\u001b[0;34m\u001b[0m\u001b[0m\n\u001b[1;32m    100\u001b[0m         and are passed to the built-in compile function.\"\"\"\n\u001b[0;32m--> 101\u001b[0;31m         \u001b[0;32mreturn\u001b[0m \u001b[0mcompile\u001b[0m\u001b[0;34m(\u001b[0m\u001b[0msource\u001b[0m\u001b[0;34m,\u001b[0m \u001b[0mfilename\u001b[0m\u001b[0;34m,\u001b[0m \u001b[0msymbol\u001b[0m\u001b[0;34m,\u001b[0m \u001b[0mself\u001b[0m\u001b[0;34m.\u001b[0m\u001b[0mflags\u001b[0m \u001b[0;34m|\u001b[0m \u001b[0mPyCF_ONLY_AST\u001b[0m\u001b[0;34m,\u001b[0m \u001b[0;36m1\u001b[0m\u001b[0;34m)\u001b[0m\u001b[0;34m\u001b[0m\u001b[0;34m\u001b[0m\u001b[0m\n\u001b[0m\u001b[1;32m    102\u001b[0m \u001b[0;34m\u001b[0m\u001b[0m\n\u001b[1;32m    103\u001b[0m     \u001b[0;32mdef\u001b[0m \u001b[0mreset_compiler_flags\u001b[0m\u001b[0;34m(\u001b[0m\u001b[0mself\u001b[0m\u001b[0;34m)\u001b[0m\u001b[0;34m:\u001b[0m\u001b[0;34m\u001b[0m\u001b[0;34m\u001b[0m\u001b[0m\n",
            "\u001b[0;31mSyntaxError\u001b[0m: invalid syntax (<ipython-input-44-e6680c63093d>, line 11)"
          ]
        }
      ],
      "source": [
        "\n",
        "\n",
        "\n",
        "\n",
        "\n",
        "\n",
        "\n",
        "from keras.models import Sequential\n",
        "from keras.layers import ConvLSTM2D, Conv3D, Dense, Flatten\n",
        "\n",
        "model = Sequential()\n",
        "\n",
        "# Reshape X_train and X_test to include a channel dimension\n",
        "X_train = X_train.reshape(X_train.shape[0], X_train.shape[1], X_train.shape[2], 1)\n",
        "X_test = X_test.reshape(X_test.shape[0], X_test.shape[1], X_test.shape[2], 1)\n",
        "\n",
        "# Add ConvLSTM2D layer\n",
        "model.add(ConvLSTM2D(filters=32, kernel_size=(3, 3), input_shape=(X_train.shape[0], X_train.shape[1], , X_train.shape[2]), padding='same', activation='relu'))\n",
        "\n",
        "# Reshape ConvLSTM2D output to match Conv3D input\n",
        "model.add(Reshape((X_train.shape[1], X_train.shape[2], 32, 1)))\n",
        "\n",
        "# Add Conv3D layer\n",
        "model.add(Conv3D(filters=64, kernel_size=(3, 3, 3), activation='relu'))\n",
        "\n",
        "# Flatten the output before passing to dense layers\n",
        "model.add(Flatten())\n",
        "\n",
        "# Add dense layers for classification or regression tasks\n",
        "model.add(Dense(units=128, activation='relu'))\n",
        "model.add(Dense(units=1, activation='linear'))  # Adjust the output units and activation function as needed\n",
        "\n",
        "# Compile the model\n",
        "model.compile(optimizer='adam', loss='mean_squared_error', metrics=['mae'])\n",
        "\n",
        "# Print model summary\n",
        "model.summary()\n",
        "\n",
        "# Train the model\n",
        "model.fit(X_train, y_train, epochs=10, batch_size=32, validation_data=(X_test, y_test))\n",
        "\n"
      ]
    },
    {
      "cell_type": "code",
      "execution_count": null,
      "metadata": {
        "colab": {
          "base_uri": "https://localhost:8080/",
          "height": 513
        },
        "id": "o7FDLFeVc6jo",
        "outputId": "3f885851-bdcc-4bad-9830-1a610ef70ec0"
      },
      "outputs": [
        {
          "ename": "ValueError",
          "evalue": "ignored",
          "output_type": "error",
          "traceback": [
            "\u001b[0;31m---------------------------------------------------------------------------\u001b[0m",
            "\u001b[0;31mValueError\u001b[0m                                Traceback (most recent call last)",
            "\u001b[0;32m<ipython-input-51-19978f34b8ab>\u001b[0m in \u001b[0;36m<cell line: 15>\u001b[0;34m()\u001b[0m\n\u001b[1;32m     13\u001b[0m \u001b[0;31m# You can't add a Conv3D layer directly after ConvLSTM2D; you need to use TimeDistributed wrapper\u001b[0m\u001b[0;34m\u001b[0m\u001b[0;34m\u001b[0m\u001b[0m\n\u001b[1;32m     14\u001b[0m \u001b[0;32mfrom\u001b[0m \u001b[0mkeras\u001b[0m\u001b[0;34m.\u001b[0m\u001b[0mlayers\u001b[0m \u001b[0;32mimport\u001b[0m \u001b[0mTimeDistributed\u001b[0m\u001b[0;34m\u001b[0m\u001b[0;34m\u001b[0m\u001b[0m\n\u001b[0;32m---> 15\u001b[0;31m \u001b[0mmodel\u001b[0m\u001b[0;34m.\u001b[0m\u001b[0madd\u001b[0m\u001b[0;34m(\u001b[0m\u001b[0mTimeDistributed\u001b[0m\u001b[0;34m(\u001b[0m\u001b[0mConv3D\u001b[0m\u001b[0;34m(\u001b[0m\u001b[0mfilters\u001b[0m\u001b[0;34m=\u001b[0m\u001b[0;36m64\u001b[0m\u001b[0;34m,\u001b[0m \u001b[0mkernel_size\u001b[0m\u001b[0;34m=\u001b[0m\u001b[0;34m(\u001b[0m\u001b[0;36m3\u001b[0m\u001b[0;34m,\u001b[0m \u001b[0;36m3\u001b[0m\u001b[0;34m,\u001b[0m \u001b[0;36m3\u001b[0m\u001b[0;34m)\u001b[0m\u001b[0;34m,\u001b[0m \u001b[0mactivation\u001b[0m\u001b[0;34m=\u001b[0m\u001b[0;34m'relu'\u001b[0m\u001b[0;34m)\u001b[0m\u001b[0;34m)\u001b[0m\u001b[0;34m)\u001b[0m\u001b[0;34m\u001b[0m\u001b[0;34m\u001b[0m\u001b[0m\n\u001b[0m\u001b[1;32m     16\u001b[0m \u001b[0;34m\u001b[0m\u001b[0m\n\u001b[1;32m     17\u001b[0m \u001b[0;31m# Flatten the output before passing to dense layers\u001b[0m\u001b[0;34m\u001b[0m\u001b[0;34m\u001b[0m\u001b[0m\n",
            "\u001b[0;32m/usr/local/lib/python3.10/dist-packages/tensorflow/python/trackable/base.py\u001b[0m in \u001b[0;36m_method_wrapper\u001b[0;34m(self, *args, **kwargs)\u001b[0m\n\u001b[1;32m    203\u001b[0m     \u001b[0mself\u001b[0m\u001b[0;34m.\u001b[0m\u001b[0m_self_setattr_tracking\u001b[0m \u001b[0;34m=\u001b[0m \u001b[0;32mFalse\u001b[0m  \u001b[0;31m# pylint: disable=protected-access\u001b[0m\u001b[0;34m\u001b[0m\u001b[0;34m\u001b[0m\u001b[0m\n\u001b[1;32m    204\u001b[0m     \u001b[0;32mtry\u001b[0m\u001b[0;34m:\u001b[0m\u001b[0;34m\u001b[0m\u001b[0;34m\u001b[0m\u001b[0m\n\u001b[0;32m--> 205\u001b[0;31m       \u001b[0mresult\u001b[0m \u001b[0;34m=\u001b[0m \u001b[0mmethod\u001b[0m\u001b[0;34m(\u001b[0m\u001b[0mself\u001b[0m\u001b[0;34m,\u001b[0m \u001b[0;34m*\u001b[0m\u001b[0margs\u001b[0m\u001b[0;34m,\u001b[0m \u001b[0;34m**\u001b[0m\u001b[0mkwargs\u001b[0m\u001b[0;34m)\u001b[0m\u001b[0;34m\u001b[0m\u001b[0;34m\u001b[0m\u001b[0m\n\u001b[0m\u001b[1;32m    206\u001b[0m     \u001b[0;32mfinally\u001b[0m\u001b[0;34m:\u001b[0m\u001b[0;34m\u001b[0m\u001b[0;34m\u001b[0m\u001b[0m\n\u001b[1;32m    207\u001b[0m       \u001b[0mself\u001b[0m\u001b[0;34m.\u001b[0m\u001b[0m_self_setattr_tracking\u001b[0m \u001b[0;34m=\u001b[0m \u001b[0mprevious_value\u001b[0m  \u001b[0;31m# pylint: disable=protected-access\u001b[0m\u001b[0;34m\u001b[0m\u001b[0;34m\u001b[0m\u001b[0m\n",
            "\u001b[0;32m/usr/local/lib/python3.10/dist-packages/keras/utils/traceback_utils.py\u001b[0m in \u001b[0;36merror_handler\u001b[0;34m(*args, **kwargs)\u001b[0m\n\u001b[1;32m     68\u001b[0m             \u001b[0;31m# To get the full stack trace, call:\u001b[0m\u001b[0;34m\u001b[0m\u001b[0;34m\u001b[0m\u001b[0m\n\u001b[1;32m     69\u001b[0m             \u001b[0;31m# `tf.debugging.disable_traceback_filtering()`\u001b[0m\u001b[0;34m\u001b[0m\u001b[0;34m\u001b[0m\u001b[0m\n\u001b[0;32m---> 70\u001b[0;31m             \u001b[0;32mraise\u001b[0m \u001b[0me\u001b[0m\u001b[0;34m.\u001b[0m\u001b[0mwith_traceback\u001b[0m\u001b[0;34m(\u001b[0m\u001b[0mfiltered_tb\u001b[0m\u001b[0;34m)\u001b[0m \u001b[0;32mfrom\u001b[0m \u001b[0;32mNone\u001b[0m\u001b[0;34m\u001b[0m\u001b[0;34m\u001b[0m\u001b[0m\n\u001b[0m\u001b[1;32m     71\u001b[0m         \u001b[0;32mfinally\u001b[0m\u001b[0;34m:\u001b[0m\u001b[0;34m\u001b[0m\u001b[0;34m\u001b[0m\u001b[0m\n\u001b[1;32m     72\u001b[0m             \u001b[0;32mdel\u001b[0m \u001b[0mfiltered_tb\u001b[0m\u001b[0;34m\u001b[0m\u001b[0;34m\u001b[0m\u001b[0m\n",
            "\u001b[0;32m/usr/local/lib/python3.10/dist-packages/keras/engine/input_spec.py\u001b[0m in \u001b[0;36massert_input_compatibility\u001b[0;34m(input_spec, inputs, layer_name)\u001b[0m\n\u001b[1;32m    251\u001b[0m             \u001b[0mndim\u001b[0m \u001b[0;34m=\u001b[0m \u001b[0mx\u001b[0m\u001b[0;34m.\u001b[0m\u001b[0mshape\u001b[0m\u001b[0;34m.\u001b[0m\u001b[0mrank\u001b[0m\u001b[0;34m\u001b[0m\u001b[0;34m\u001b[0m\u001b[0m\n\u001b[1;32m    252\u001b[0m             \u001b[0;32mif\u001b[0m \u001b[0mndim\u001b[0m \u001b[0;32mis\u001b[0m \u001b[0;32mnot\u001b[0m \u001b[0;32mNone\u001b[0m \u001b[0;32mand\u001b[0m \u001b[0mndim\u001b[0m \u001b[0;34m<\u001b[0m \u001b[0mspec\u001b[0m\u001b[0;34m.\u001b[0m\u001b[0mmin_ndim\u001b[0m\u001b[0;34m:\u001b[0m\u001b[0;34m\u001b[0m\u001b[0;34m\u001b[0m\u001b[0m\n\u001b[0;32m--> 253\u001b[0;31m                 raise ValueError(\n\u001b[0m\u001b[1;32m    254\u001b[0m                     \u001b[0;34mf'Input {input_index} of layer \"{layer_name}\" '\u001b[0m\u001b[0;34m\u001b[0m\u001b[0;34m\u001b[0m\u001b[0m\n\u001b[1;32m    255\u001b[0m                     \u001b[0;34m\"is incompatible with the layer: \"\u001b[0m\u001b[0;34m\u001b[0m\u001b[0;34m\u001b[0m\u001b[0m\n",
            "\u001b[0;31mValueError\u001b[0m: Exception encountered when calling layer \"time_distributed_6\" (type TimeDistributed).\n\nInput 0 of layer \"conv3d_11\" is incompatible with the layer: expected min_ndim=5, found ndim=3. Full shape received: (None, 343, 32)\n\nCall arguments received by layer \"time_distributed_6\" (type TimeDistributed):\n  • inputs=tf.Tensor(shape=(None, 379, 343, 32), dtype=float32)\n  • training=None\n  • mask=None"
          ]
        }
      ],
      "source": [
        "from keras.models import Sequential\n",
        "from keras.layers import ConvLSTM2D, Conv3D, Dense, Flatten\n",
        "\n",
        "model = Sequential()\n",
        "\n",
        "# Reshape X_train and X_test to include a channel dimension\n",
        "X_train = X_train.reshape(X_train.shape[0], X_train.shape[1], X_train.shape[2],1)\n",
        "X_test = X_test.reshape(X_test.shape[0], X_test.shape[1], X_test.shape[2],1)\n",
        "\n",
        "# Add ConvLSTM2D layer\n",
        "model.add(ConvLSTM2D(filters=32, kernel_size=(3, 3), input_shape=(1,X_train.shape[0], X_train.shape[1], X_train.shape[2]), padding='same', activation='relu'))\n",
        "\n",
        "# You can't add a Conv3D layer directly after ConvLSTM2D; you need to use TimeDistributed wrapper\n",
        "from keras.layers import TimeDistributed\n",
        "model.add(TimeDistributed(Conv3D(filters=64, kernel_size=(3, 3, 3), activation='relu')))\n",
        "\n",
        "# Flatten the output before passing to dense layers\n",
        "model.add(TimeDistributed(Flatten()))\n",
        "\n",
        "# Add dense layers for classification or regression tasks\n",
        "model.add(Dense(units=128, activation='relu'))\n",
        "model.add(Dense(units=1, activation='linear'))  # Adjust the output units and activation function as needed\n",
        "\n",
        "# Compile the model\n",
        "model.compile(optimizer='adam', loss='mean_squared_error', metrics=['mae'])\n",
        "\n",
        "# Print model summary\n",
        "model.summary()\n",
        "\n",
        "# Train the model\n",
        "model.fit(X_train, y_train, epochs=10, batch_size=32, validation_data=(X_test, y_test))"
      ]
    },
    {
      "cell_type": "code",
      "execution_count": null,
      "metadata": {
        "colab": {
          "base_uri": "https://localhost:8080/",
          "height": 392
        },
        "id": "xpx5zM8Zc6ba",
        "outputId": "429b4b29-939d-40f9-c2ca-b08fc997ca1c"
      },
      "outputs": [
        {
          "ename": "ValueError",
          "evalue": "ignored",
          "output_type": "error",
          "traceback": [
            "\u001b[0;31m---------------------------------------------------------------------------\u001b[0m",
            "\u001b[0;31mValueError\u001b[0m                                Traceback (most recent call last)",
            "\u001b[0;32m<ipython-input-56-40da9e3a697a>\u001b[0m in \u001b[0;36m<cell line: 14>\u001b[0;34m()\u001b[0m\n\u001b[1;32m     12\u001b[0m \u001b[0;34m\u001b[0m\u001b[0m\n\u001b[1;32m     13\u001b[0m \u001b[0;31m# Add Conv3D layer\u001b[0m\u001b[0;34m\u001b[0m\u001b[0;34m\u001b[0m\u001b[0m\n\u001b[0;32m---> 14\u001b[0;31m \u001b[0mmodel\u001b[0m\u001b[0;34m.\u001b[0m\u001b[0madd\u001b[0m\u001b[0;34m(\u001b[0m\u001b[0mConv3D\u001b[0m\u001b[0;34m(\u001b[0m\u001b[0mfilters\u001b[0m\u001b[0;34m=\u001b[0m\u001b[0;36m64\u001b[0m\u001b[0;34m,\u001b[0m \u001b[0mkernel_size\u001b[0m\u001b[0;34m=\u001b[0m\u001b[0;34m(\u001b[0m\u001b[0;36m3\u001b[0m\u001b[0;34m,\u001b[0m \u001b[0;36m3\u001b[0m\u001b[0;34m,\u001b[0m \u001b[0;36m3\u001b[0m\u001b[0;34m)\u001b[0m\u001b[0;34m,\u001b[0m \u001b[0mactivation\u001b[0m\u001b[0;34m=\u001b[0m\u001b[0;34m'relu'\u001b[0m\u001b[0;34m)\u001b[0m\u001b[0;34m)\u001b[0m\u001b[0;34m\u001b[0m\u001b[0;34m\u001b[0m\u001b[0m\n\u001b[0m\u001b[1;32m     15\u001b[0m \u001b[0;34m\u001b[0m\u001b[0m\n\u001b[1;32m     16\u001b[0m \u001b[0;31m# Flatten the output before passing to dense layers\u001b[0m\u001b[0;34m\u001b[0m\u001b[0;34m\u001b[0m\u001b[0m\n",
            "\u001b[0;32m/usr/local/lib/python3.10/dist-packages/tensorflow/python/trackable/base.py\u001b[0m in \u001b[0;36m_method_wrapper\u001b[0;34m(self, *args, **kwargs)\u001b[0m\n\u001b[1;32m    203\u001b[0m     \u001b[0mself\u001b[0m\u001b[0;34m.\u001b[0m\u001b[0m_self_setattr_tracking\u001b[0m \u001b[0;34m=\u001b[0m \u001b[0;32mFalse\u001b[0m  \u001b[0;31m# pylint: disable=protected-access\u001b[0m\u001b[0;34m\u001b[0m\u001b[0;34m\u001b[0m\u001b[0m\n\u001b[1;32m    204\u001b[0m     \u001b[0;32mtry\u001b[0m\u001b[0;34m:\u001b[0m\u001b[0;34m\u001b[0m\u001b[0;34m\u001b[0m\u001b[0m\n\u001b[0;32m--> 205\u001b[0;31m       \u001b[0mresult\u001b[0m \u001b[0;34m=\u001b[0m \u001b[0mmethod\u001b[0m\u001b[0;34m(\u001b[0m\u001b[0mself\u001b[0m\u001b[0;34m,\u001b[0m \u001b[0;34m*\u001b[0m\u001b[0margs\u001b[0m\u001b[0;34m,\u001b[0m \u001b[0;34m**\u001b[0m\u001b[0mkwargs\u001b[0m\u001b[0;34m)\u001b[0m\u001b[0;34m\u001b[0m\u001b[0;34m\u001b[0m\u001b[0m\n\u001b[0m\u001b[1;32m    206\u001b[0m     \u001b[0;32mfinally\u001b[0m\u001b[0;34m:\u001b[0m\u001b[0;34m\u001b[0m\u001b[0;34m\u001b[0m\u001b[0m\n\u001b[1;32m    207\u001b[0m       \u001b[0mself\u001b[0m\u001b[0;34m.\u001b[0m\u001b[0m_self_setattr_tracking\u001b[0m \u001b[0;34m=\u001b[0m \u001b[0mprevious_value\u001b[0m  \u001b[0;31m# pylint: disable=protected-access\u001b[0m\u001b[0;34m\u001b[0m\u001b[0;34m\u001b[0m\u001b[0m\n",
            "\u001b[0;32m/usr/local/lib/python3.10/dist-packages/keras/utils/traceback_utils.py\u001b[0m in \u001b[0;36merror_handler\u001b[0;34m(*args, **kwargs)\u001b[0m\n\u001b[1;32m     68\u001b[0m             \u001b[0;31m# To get the full stack trace, call:\u001b[0m\u001b[0;34m\u001b[0m\u001b[0;34m\u001b[0m\u001b[0m\n\u001b[1;32m     69\u001b[0m             \u001b[0;31m# `tf.debugging.disable_traceback_filtering()`\u001b[0m\u001b[0;34m\u001b[0m\u001b[0;34m\u001b[0m\u001b[0m\n\u001b[0;32m---> 70\u001b[0;31m             \u001b[0;32mraise\u001b[0m \u001b[0me\u001b[0m\u001b[0;34m.\u001b[0m\u001b[0mwith_traceback\u001b[0m\u001b[0;34m(\u001b[0m\u001b[0mfiltered_tb\u001b[0m\u001b[0;34m)\u001b[0m \u001b[0;32mfrom\u001b[0m \u001b[0;32mNone\u001b[0m\u001b[0;34m\u001b[0m\u001b[0;34m\u001b[0m\u001b[0m\n\u001b[0m\u001b[1;32m     71\u001b[0m         \u001b[0;32mfinally\u001b[0m\u001b[0;34m:\u001b[0m\u001b[0;34m\u001b[0m\u001b[0;34m\u001b[0m\u001b[0m\n\u001b[1;32m     72\u001b[0m             \u001b[0;32mdel\u001b[0m \u001b[0mfiltered_tb\u001b[0m\u001b[0;34m\u001b[0m\u001b[0;34m\u001b[0m\u001b[0m\n",
            "\u001b[0;32m/usr/local/lib/python3.10/dist-packages/keras/engine/input_spec.py\u001b[0m in \u001b[0;36massert_input_compatibility\u001b[0;34m(input_spec, inputs, layer_name)\u001b[0m\n\u001b[1;32m    251\u001b[0m             \u001b[0mndim\u001b[0m \u001b[0;34m=\u001b[0m \u001b[0mx\u001b[0m\u001b[0;34m.\u001b[0m\u001b[0mshape\u001b[0m\u001b[0;34m.\u001b[0m\u001b[0mrank\u001b[0m\u001b[0;34m\u001b[0m\u001b[0;34m\u001b[0m\u001b[0m\n\u001b[1;32m    252\u001b[0m             \u001b[0;32mif\u001b[0m \u001b[0mndim\u001b[0m \u001b[0;32mis\u001b[0m \u001b[0;32mnot\u001b[0m \u001b[0;32mNone\u001b[0m \u001b[0;32mand\u001b[0m \u001b[0mndim\u001b[0m \u001b[0;34m<\u001b[0m \u001b[0mspec\u001b[0m\u001b[0;34m.\u001b[0m\u001b[0mmin_ndim\u001b[0m\u001b[0;34m:\u001b[0m\u001b[0;34m\u001b[0m\u001b[0;34m\u001b[0m\u001b[0m\n\u001b[0;32m--> 253\u001b[0;31m                 raise ValueError(\n\u001b[0m\u001b[1;32m    254\u001b[0m                     \u001b[0;34mf'Input {input_index} of layer \"{layer_name}\" '\u001b[0m\u001b[0;34m\u001b[0m\u001b[0;34m\u001b[0m\u001b[0m\n\u001b[1;32m    255\u001b[0m                     \u001b[0;34m\"is incompatible with the layer: \"\u001b[0m\u001b[0;34m\u001b[0m\u001b[0;34m\u001b[0m\u001b[0m\n",
            "\u001b[0;31mValueError\u001b[0m: Input 0 of layer \"conv3d_13\" is incompatible with the layer: expected min_ndim=5, found ndim=4. Full shape received: (None, 379, 343, 32)"
          ]
        }
      ],
      "source": [
        "from keras.models import Sequential\n",
        "from keras.layers import ConvLSTM2D, Conv3D, Dense, Flatten\n",
        "\n",
        "model = Sequential()\n",
        "\n",
        "# Reshape X_train and X_test to include a channel dimension\n",
        "X_train = X_train.reshape(X_train.shape[0], X_train.shape[1], X_train.shape[2], 1)\n",
        "X_test = X_test.reshape(X_test.shape[0], X_test.shape[1], X_test.shape[2], 1)\n",
        "\n",
        "# Add ConvLSTM2D layer\n",
        "model.add(ConvLSTM2D(filters=32, kernel_size=(3, 3), input_shape=(1,X_train.shape[0],X_train.shape[1], X_train.shape[2],), padding='same', activation='relu'))\n",
        "\n",
        "# Add Conv3D layer\n",
        "model.add(Conv3D(filters=64, kernel_size=(3, 3, 3), activation='relu'))\n",
        "\n",
        "# Flatten the output before passing to dense layers\n",
        "model.add(Flatten())\n",
        "\n",
        "# Add dense layers for classification or regression tasks\n",
        "model.add(Dense(units=128, activation='relu'))\n",
        "model.add(Dense(units=1, activation='linear'))  # Adjust the output units and activation function as needed\n",
        "\n",
        "# Compile the model\n",
        "model.compile(optimizer='adam', loss='mean_squared_error', metrics=['mae'])\n",
        "\n",
        "# Print model summary\n",
        "model.summary()\n",
        "\n",
        "# Train the model\n",
        "model.fit(X_train, y_train, epochs=10, batch_size=32, validation_data=(X_test, y_test))\n"
      ]
    },
    {
      "cell_type": "code",
      "execution_count": null,
      "metadata": {
        "id": "ARmOBLV1c6R5"
      },
      "outputs": [],
      "source": []
    },
    {
      "cell_type": "code",
      "execution_count": null,
      "metadata": {
        "id": "kuJclEaHc6HG"
      },
      "outputs": [],
      "source": []
    },
    {
      "cell_type": "code",
      "execution_count": null,
      "metadata": {
        "id": "O-qOajzSc58T"
      },
      "outputs": [],
      "source": []
    },
    {
      "cell_type": "code",
      "execution_count": null,
      "metadata": {
        "colab": {
          "base_uri": "https://localhost:8080/",
          "height": 194
        },
        "id": "urhqNmV1JOrb",
        "outputId": "50adafd2-a8b8-4742-9264-54db65051628"
      },
      "outputs": [
        {
          "output_type": "error",
          "ename": "NameError",
          "evalue": "ignored",
          "traceback": [
            "\u001b[0;31m---------------------------------------------------------------------------\u001b[0m",
            "\u001b[0;31mNameError\u001b[0m                                 Traceback (most recent call last)",
            "\u001b[0;32m<ipython-input-27-30741629d618>\u001b[0m in \u001b[0;36m<cell line: 1>\u001b[0;34m()\u001b[0m\n\u001b[0;32m----> 1\u001b[0;31m \u001b[0mtrain_data\u001b[0m \u001b[0;34m=\u001b[0m \u001b[0mtrain_matrix\u001b[0m\u001b[0;34m.\u001b[0m\u001b[0mreshape\u001b[0m\u001b[0;34m(\u001b[0m\u001b[0;34m-\u001b[0m\u001b[0;36m1\u001b[0m\u001b[0;34m,\u001b[0m \u001b[0mMonth_col\u001b[0m \u001b[0;34m-\u001b[0m \u001b[0;36m5\u001b[0m\u001b[0;34m)\u001b[0m\u001b[0;34m\u001b[0m\u001b[0;34m\u001b[0m\u001b[0m\n\u001b[0m\u001b[1;32m      2\u001b[0m \u001b[0mtrain_data\u001b[0m\u001b[0;34m.\u001b[0m\u001b[0mshape\u001b[0m\u001b[0;34m\u001b[0m\u001b[0;34m\u001b[0m\u001b[0m\n",
            "\u001b[0;31mNameError\u001b[0m: name 'train_matrix' is not defined"
          ]
        }
      ],
      "source": [
        "train_data = train_matrix.reshape(-1, Month_col - 5)\n",
        "train_data.shape"
      ]
    },
    {
      "cell_type": "code",
      "execution_count": null,
      "metadata": {
        "colab": {
          "base_uri": "https://localhost:8080/"
        },
        "id": "6HVAGrBQJOkq",
        "outputId": "2a33b87a-314e-4d1b-e092-804a45e52b5b"
      },
      "outputs": [
        {
          "data": {
            "text/plain": [
              "(129997, 5)"
            ]
          },
          "execution_count": 27,
          "metadata": {},
          "output_type": "execute_result"
        }
      ],
      "source": [
        "test_data = test_matrix.reshape(-1, 5)\n",
        "test_data.shape"
      ]
    },
    {
      "cell_type": "code",
      "execution_count": null,
      "metadata": {
        "id": "oKDpRqPm0sY5"
      },
      "outputs": [],
      "source": []
    },
    {
      "cell_type": "code",
      "execution_count": null,
      "metadata": {
        "colab": {
          "base_uri": "https://localhost:8080/"
        },
        "id": "w5BaASUWJOeO",
        "outputId": "25b397e9-cf0b-4ab1-a8b2-35aa381572f4"
      },
      "outputs": [
        {
          "output_type": "execute_result",
          "data": {
            "text/plain": [
              "361"
            ]
          },
          "metadata": {},
          "execution_count": 28
        }
      ],
      "source": [
        "y_train = count_matrix[:, :, :-5].flatten().tolist()\n",
        "\n",
        "# Extract all values for the last 5 values along the 3rd axis\n",
        "y_test = count_matrix[:, :, -5:].flatten().tolist()\n",
        "\n",
        "x=max(y_train)\n",
        "x"
      ]
    },
    {
      "cell_type": "code",
      "execution_count": null,
      "metadata": {
        "colab": {
          "base_uri": "https://localhost:8080/"
        },
        "id": "PWW_g-b1JOW-",
        "outputId": "a2cae75b-bf53-4881-f2e1-184aef62dcfa"
      },
      "outputs": [
        {
          "output_type": "execute_result",
          "data": {
            "text/plain": [
              "5589871"
            ]
          },
          "metadata": {},
          "execution_count": 29
        }
      ],
      "source": [
        "y=len(y_train)\n",
        "y"
      ]
    },
    {
      "cell_type": "code",
      "execution_count": null,
      "metadata": {
        "colab": {
          "base_uri": "https://localhost:8080/"
        },
        "id": "UzoFI837JN2W",
        "outputId": "71b662ed-d3b6-4419-e284-215cc0671c42"
      },
      "outputs": [
        {
          "output_type": "execute_result",
          "data": {
            "text/plain": [
              "118"
            ]
          },
          "metadata": {},
          "execution_count": 30
        }
      ],
      "source": [
        "x=max(y_test)\n",
        "x"
      ]
    },
    {
      "cell_type": "code",
      "execution_count": null,
      "metadata": {
        "colab": {
          "base_uri": "https://localhost:8080/"
        },
        "id": "xJaakFS1JNtT",
        "outputId": "ac20fb3f-ea11-4405-c112-c9671a33d227"
      },
      "outputs": [
        {
          "output_type": "execute_result",
          "data": {
            "text/plain": [
              "649985"
            ]
          },
          "metadata": {},
          "execution_count": 31
        }
      ],
      "source": [
        "y=len(y_test)\n",
        "y"
      ]
    },
    {
      "cell_type": "code",
      "execution_count": null,
      "metadata": {
        "colab": {
          "base_uri": "https://localhost:8080/"
        },
        "id": "bBXmTbxiJNj_",
        "outputId": "ddb54d4f-d7c5-4706-8102-a02c0ce37223"
      },
      "outputs": [
        {
          "output_type": "stream",
          "name": "stdout",
          "text": [
            "Training Features:\n",
            "[[  1   1  44]\n",
            " [  1   1  45]\n",
            " [  1   1  46]\n",
            " ...\n",
            " [379 343  84]\n",
            " [379 343  85]\n",
            " [379 343  86]]\n",
            "Training Targets:\n",
            "[0 0 0 ... 0 0 0]\n",
            "Test Features:\n",
            "[[  1   1  44]\n",
            " [  1   1  45]\n",
            " [  1   1  46]\n",
            " ...\n",
            " [379 343  46]\n",
            " [379 343  47]\n",
            " [379 343  48]]\n",
            "Test Targets:\n",
            "[0 0 0 ... 0 0 0]\n"
          ]
        }
      ],
      "source": [
        "# split_index = 44\n",
        "\n",
        "# def extract_features_targets(matrix, split_index=44):\n",
        "#     num_dim1, num_dim2, num_dim3 = matrix.shape\n",
        "#     features = []\n",
        "#     targets = []\n",
        "#     for i in range(num_dim1):\n",
        "#         for j in range(num_dim2):\n",
        "#             for k in range(num_dim3):\n",
        "#                 features.append([i + 1, j + 1, k + split_index])  # Indices as features, adjusted for split_index\n",
        "#                 targets.append(matrix[i, j, k])  # Values as targets\n",
        "#     return np.array(features), np.array(targets)\n",
        "\n",
        "# split_value_index = 5  # Index of the last value along the third axis\n",
        "\n",
        "# train_matrix = count_matrix[:, :, split_value_index:]\n",
        "# test_matrix = count_matrix[:, :, :split_value_index]\n",
        "\n",
        "# train_features, train_targets = extract_features_targets(train_matrix)\n",
        "# test_features, test_targets = extract_features_targets(test_matrix, split_index)\n",
        "\n",
        "# print(\"Training Features:\")\n",
        "# print(train_features)\n",
        "# print(\"Training Targets:\")\n",
        "# print(train_targets)\n",
        "# print(\"Test Features:\")\n",
        "# print(test_features)\n",
        "# print(\"Test Targets:\")\n",
        "# print(test_targets)"
      ]
    },
    {
      "cell_type": "code",
      "execution_count": null,
      "metadata": {
        "colab": {
          "base_uri": "https://localhost:8080/"
        },
        "id": "gcc8OvURolOV",
        "outputId": "acf2b197-e69d-4065-e56a-fdf254e5edf0"
      },
      "outputs": [
        {
          "output_type": "stream",
          "name": "stdout",
          "text": [
            "Training Features:\n",
            "[[  0   0   0]\n",
            " [  0   0   1]\n",
            " [  0   0   2]\n",
            " ...\n",
            " [378 342  40]\n",
            " [378 342  41]\n",
            " [378 342  42]]\n",
            "Training Targets:\n",
            "[0 0 0 ... 0 0 0]\n",
            "Test Features:\n",
            "[[  0   0  44]\n",
            " [  0   0  45]\n",
            " [  0   0  46]\n",
            " ...\n",
            " [378 342  46]\n",
            " [378 342  47]\n",
            " [378 342  48]]\n",
            "Test Targets:\n",
            "[0 0 0 ... 0 0 0]\n"
          ]
        }
      ],
      "source": [
        "split_index=44\n",
        "def extract_features_targets(matrix, split_index=0):\n",
        "    num_dim1, num_dim2, num_dim3 = matrix.shape\n",
        "    features = []\n",
        "    targets = []\n",
        "    for i in range(num_dim1):\n",
        "        for j in range(num_dim2):\n",
        "            for k in range(num_dim3):\n",
        "                features.append([i, j, k + split_index])  # Indices as features, adjusted for split_index\n",
        "                targets.append(matrix[i, j, k ])  # Values as targets\n",
        "    return np.array(features), np.array(targets)\n",
        "\n",
        "\n",
        "split_value_index = 5  # Index of the last value along the third axis\n",
        "\n",
        "train_matrix = count_matrix[:, :, split_value_index:]\n",
        "test_matrix = count_matrix[:, :, :split_value_index]\n",
        "\n",
        "train_features, train_targets = extract_features_targets(train_matrix)\n",
        "test_features, test_targets = extract_features_targets(test_matrix, split_index)\n",
        "\n",
        "print(\"Training Features:\")\n",
        "print(train_features)\n",
        "print(\"Training Targets:\")\n",
        "print(train_targets)\n",
        "print(\"Test Features:\")\n",
        "print(test_features)\n",
        "print(\"Test Targets:\")\n",
        "print(test_targets)"
      ]
    },
    {
      "cell_type": "code",
      "execution_count": null,
      "metadata": {
        "colab": {
          "base_uri": "https://localhost:8080/"
        },
        "id": "vAe2pYYy7RpP",
        "outputId": "78eb1562-93dc-4081-fd31-8cae46188fc8"
      },
      "outputs": [
        {
          "output_type": "execute_result",
          "data": {
            "text/plain": [
              "361"
            ]
          },
          "metadata": {},
          "execution_count": 43
        }
      ],
      "source": [
        "x=np.max(train_targets)\n",
        "x"
      ]
    },
    {
      "cell_type": "code",
      "execution_count": null,
      "metadata": {
        "colab": {
          "base_uri": "https://localhost:8080/"
        },
        "id": "rHOmRWzcHwa6",
        "outputId": "a0f114de-f4c2-4f73-f653-1cb62266181b"
      },
      "outputs": [
        {
          "output_type": "execute_result",
          "data": {
            "text/plain": [
              "(5589871, 3)"
            ]
          },
          "metadata": {},
          "execution_count": 44
        }
      ],
      "source": [
        "train_features.shape"
      ]
    },
    {
      "cell_type": "code",
      "execution_count": null,
      "metadata": {
        "colab": {
          "base_uri": "https://localhost:8080/"
        },
        "id": "NxEgQlK5HwTU",
        "outputId": "df23084f-dab3-4851-da1c-b488577f14e6"
      },
      "outputs": [
        {
          "output_type": "execute_result",
          "data": {
            "text/plain": [
              "array([[  0,   0,   0],\n",
              "       [  0,   0,   1],\n",
              "       [  0,   0,   2],\n",
              "       ...,\n",
              "       [378, 342,  40],\n",
              "       [378, 342,  41],\n",
              "       [378, 342,  42]])"
            ]
          },
          "metadata": {},
          "execution_count": 45
        }
      ],
      "source": [
        "train_features"
      ]
    },
    {
      "cell_type": "code",
      "execution_count": null,
      "metadata": {
        "colab": {
          "base_uri": "https://localhost:8080/"
        },
        "id": "2TQYpnW_HwKR",
        "outputId": "d1f59191-6d23-47c7-a6ed-b0f23107793d"
      },
      "outputs": [
        {
          "output_type": "execute_result",
          "data": {
            "text/plain": [
              "array([[  0,   0,  44],\n",
              "       [  0,   0,  45],\n",
              "       [  0,   0,  46],\n",
              "       ...,\n",
              "       [378, 342,  46],\n",
              "       [378, 342,  47],\n",
              "       [378, 342,  48]])"
            ]
          },
          "metadata": {},
          "execution_count": 46
        }
      ],
      "source": [
        "test_features"
      ]
    },
    {
      "cell_type": "code",
      "execution_count": null,
      "metadata": {
        "colab": {
          "base_uri": "https://localhost:8080/"
        },
        "id": "QOZQpSkxr4TR",
        "outputId": "9e56065d-99d1-454f-a4b4-7c29b5a365a2"
      },
      "outputs": [
        {
          "output_type": "execute_result",
          "data": {
            "text/plain": [
              "292"
            ]
          },
          "metadata": {},
          "execution_count": 47
        }
      ],
      "source": [
        "x=np.max(test_targets)\n",
        "x"
      ]
    },
    {
      "cell_type": "code",
      "execution_count": null,
      "metadata": {
        "colab": {
          "base_uri": "https://localhost:8080/"
        },
        "id": "_oVs_aaar3Te",
        "outputId": "fb0cc93f-e48f-4590-8961-60bbaa100983"
      },
      "outputs": [
        {
          "output_type": "execute_result",
          "data": {
            "text/plain": [
              "(649985, 3)"
            ]
          },
          "metadata": {},
          "execution_count": 48
        }
      ],
      "source": [
        "test_features.shape"
      ]
    },
    {
      "cell_type": "code",
      "execution_count": null,
      "metadata": {
        "colab": {
          "base_uri": "https://localhost:8080/"
        },
        "id": "JMiin_8qsokf",
        "outputId": "2e679920-5c87-4c16-c508-5e282747bbe9"
      },
      "outputs": [
        {
          "output_type": "execute_result",
          "data": {
            "text/plain": [
              "0.42294822188204345"
            ]
          },
          "metadata": {},
          "execution_count": 49
        }
      ],
      "source": [
        "x=np.mean(test_targets)\n",
        "x"
      ]
    },
    {
      "cell_type": "code",
      "execution_count": null,
      "metadata": {
        "colab": {
          "base_uri": "https://localhost:8080/"
        },
        "id": "3YsamAwBeQPa",
        "outputId": "bed5ac70-76c4-476f-dfc1-0eb747f42f0e"
      },
      "outputs": [
        {
          "output_type": "stream",
          "name": "stdout",
          "text": [
            "Main Part: [0 1 2 3 4 5 6 7]\n",
            "Last Two Values: [8 9]\n"
          ]
        }
      ],
      "source": [
        "matrix = np.arange(10)\n",
        "\n",
        "# Split the matrix into two parts: the main part and the last two values\n",
        "main_part = matrix[:-2]\n",
        "last_two_values = matrix[-2:]\n",
        "\n",
        "print(\"Main Part:\", main_part)\n",
        "print(\"Last Two Values:\", last_two_values)"
      ]
    },
    {
      "cell_type": "code",
      "execution_count": null,
      "metadata": {
        "colab": {
          "base_uri": "https://localhost:8080/"
        },
        "id": "CneeHDaVHwC0",
        "outputId": "7739c98d-49ac-4e90-87e5-0155090cd1a4"
      },
      "outputs": [
        {
          "output_type": "stream",
          "name": "stdout",
          "text": [
            "Training Features:\n",
            "[[  0   0   0]\n",
            " [  0   0   1]\n",
            " [  0   0   2]\n",
            " ...\n",
            " [378 342  40]\n",
            " [378 342  41]\n",
            " [378 342  42]]\n",
            "Training Targets:\n",
            "[0 0 0 ... 0 0 0]\n",
            "Test Features:\n",
            "[[  0   0   0]\n",
            " [  0   0   1]\n",
            " [  0   0   2]\n",
            " ...\n",
            " [378 342   3]\n",
            " [378 342   4]\n",
            " [378 342   5]]\n",
            "Test Targets:\n",
            "[0 0 0 ... 0 0 0]\n"
          ]
        }
      ],
      "source": [
        "# import numpy as np\n",
        "\n",
        "# def extract_features_targets(matrix):\n",
        "#     num_dim1, num_dim2, num_dim3 = matrix.shape\n",
        "#     features = []\n",
        "#     targets = []\n",
        "#     for i in range(num_dim1):\n",
        "#         for j in range(num_dim2):\n",
        "#             for k in range(num_dim3):\n",
        "#                 features.append([i, j, k])  # Indices as features\n",
        "#                 targets.append(matrix[i, j, k])  # Values as targets\n",
        "#     return np.array(features), np.array(targets)\n",
        "\n",
        "# split_value_index = 5  # Index of the last value along the third axis\n",
        "# train_matrix = count_matrix[:, :, split_value_index:]\n",
        "\n",
        "# # Adjust the test_matrix slicing to have values from 42 to 47\n",
        "# test_split_value_index = 42\n",
        "# test_matrix = count_matrix[:, :, test_split_value_index:test_split_value_index + 6]  # Get values from 42 to 47\n",
        "\n",
        "# train_features, train_targets = extract_features_targets(train_matrix)\n",
        "# test_features, test_targets = extract_features_targets(test_matrix)\n",
        "\n",
        "# print(\"Training Features:\")\n",
        "# print(train_features)\n",
        "# print(\"Training Targets:\")\n",
        "# print(train_targets)\n",
        "# print(\"Test Features:\")\n",
        "# print(test_features)\n",
        "# print(\"Test Targets:\")\n",
        "# print(test_targets)"
      ]
    },
    {
      "cell_type": "code",
      "execution_count": null,
      "metadata": {
        "colab": {
          "base_uri": "https://localhost:8080/"
        },
        "id": "jL3MFjImHv7e",
        "outputId": "9170b17b-05f9-491e-ca30-2e4bd0832b87"
      },
      "outputs": [
        {
          "output_type": "stream",
          "name": "stdout",
          "text": [
            "[0 0 0 ... 0 0 0]\n"
          ]
        }
      ],
      "source": [
        "# def extract_features_targets(matrix):\n",
        "#     num_dim1, num_dim2, num_dim3 = matrix.shape\n",
        "#     features = []\n",
        "#     targets = []\n",
        "#     for i in range(num_dim1):\n",
        "#         for j in range(num_dim2):\n",
        "#             for k in range(num_dim3):\n",
        "#                 features.append([i, j, k])  # Indices as features\n",
        "#                 targets.append(matrix[i, j, k])  # Values as targets\n",
        "#     return np.array(features), np.array(targets)\n",
        "\n",
        "# split_value_index = 5  # Index of the last value along the third axis\n",
        "# train_matrix = count_matrix[:, :, split_value_index:]\n",
        "\n",
        "# # Adjust the test_matrix slicing to have values from 42 to 47\n",
        "# test_split_value_index = 42\n",
        "# test_matrix = count_matrix[:, :, test_split_value_index:test_split_value_index + 6]  # Get values from 42 to 47\n",
        "\n",
        "# train_features, train_targets = extract_features_targets(train_matrix)\n",
        "# test_features, test_targets = extract_features_targets(test_matrix)\n",
        "\n",
        "# print(\"Training Features:\")\n",
        "# print(train_features)\n",
        "# print(\"Training Targets:\")\n",
        "# print(train_targets)\n",
        "# print(\"Test Features:\")\n",
        "# print(test_features)\n",
        "# print(\"Test Targets:\")\n",
        "print(test_targets)"
      ]
    },
    {
      "cell_type": "code",
      "execution_count": null,
      "metadata": {
        "id": "kKCngJLuHvzn"
      },
      "outputs": [],
      "source": [
        "\n",
        "# def extract_features_targets(matrix):\n",
        "#     num_dim1, num_dim2, num_dim3 = matrix.shape\n",
        "#     features = []\n",
        "#     targets = []\n",
        "#     for i in range(num_dim1):\n",
        "#         for j in range(num_dim2):\n",
        "#             for k in range(num_dim3):\n",
        "#                 features.append([i, j, k])  # Indices as features\n",
        "#                 targets.append(matrix[i, j, k])  # Values as targets\n",
        "#     return np.array(features), np.array(targets)\n",
        "\n",
        "# split_value_index = 5  # Index of the last value along the third axis\n",
        "# train_matrix = count_matrix[:, :, split_value_index:]\n",
        "\n",
        "# # Calculate test_matrix indices to include values from 42 to 47\n",
        "# test_start_index = split_value_index + 42\n",
        "# test_end_index = split_value_index + 47\n",
        "# test_matrix = count_matrix[:, :, test_start_index:test_end_index]\n",
        "\n",
        "# train_features, train_targets = extract_features_targets(train_matrix)\n",
        "# test_features, test_targets = extract_features_targets(test_matrix)\n",
        "\n",
        "# print(\"Training Features:\")\n",
        "# print(train_features)\n",
        "# print(\"Training Targets:\")\n",
        "# print(train_targets)\n",
        "# print(\"Test Features:\")\n",
        "# print(test_features)\n",
        "# print(\"Test Targets:\")\n",
        "# print(test_targets)\n",
        "\n"
      ]
    },
    {
      "cell_type": "code",
      "execution_count": null,
      "metadata": {
        "id": "fgD3UuxGHvqM"
      },
      "outputs": [],
      "source": []
    },
    {
      "cell_type": "code",
      "execution_count": null,
      "metadata": {
        "id": "J7CiItqhDd55"
      },
      "outputs": [],
      "source": []
    },
    {
      "cell_type": "code",
      "execution_count": null,
      "metadata": {
        "id": "j15U7ebsDdyN"
      },
      "outputs": [],
      "source": []
    },
    {
      "cell_type": "code",
      "execution_count": null,
      "metadata": {
        "id": "CnxEz9WhDdpD"
      },
      "outputs": [],
      "source": []
    },
    {
      "cell_type": "code",
      "execution_count": 145,
      "metadata": {
        "id": "20sMiAeJDdeB"
      },
      "outputs": [],
      "source": [
        "min_lat, max_lat = min(df[\"Latitude\"]), max(df[\"Latitude\"])\n",
        "min_lng, max_lng = min(df[\"Longitude\"]), max(df[\"Longitude\"])\n",
        "GRID_LNG_DIM = 100\n",
        "GRID_LAT_DIM = 120\n",
        "lng_step = (max_lng - min_lng) / (GRID_LNG_DIM - 1)\n",
        "lat_step = (max_lat - min_lat) / (GRID_LAT_DIM - 1)\n",
        "def to_grid_lat(lat):\n",
        "    return (lat - min_lat) // lat_step\n",
        "def to_grid_lng(lng):\n",
        "    return (lng - min_lng) // lng_step"
      ]
    },
    {
      "cell_type": "code",
      "execution_count": 146,
      "metadata": {
        "colab": {
          "base_uri": "https://localhost:8080/",
          "height": 424
        },
        "id": "uGPLXBSUPM7o",
        "outputId": "5edbeea5-4c08-4eb6-ccd6-72bf573bbf6e"
      },
      "outputs": [
        {
          "output_type": "execute_result",
          "data": {
            "text/plain": [
              "                       Date  Latitude  Longitude  Month_Count  GridLat  \\\n",
              "1524362 2001-01-03 09:25:00    41.967    -87.655            1      101   \n",
              "1534181 2001-01-16 00:13:00    41.899    -87.689            1       79   \n",
              "1534180 2001-01-15 12:20:00    41.874    -87.644            1       72   \n",
              "1534179 2001-01-15 11:46:14    41.775    -87.574            1       40   \n",
              "1534178 2001-01-15 18:28:27    41.866    -87.725            1       69   \n",
              "...                     ...       ...        ...          ...      ...   \n",
              "1894258 2004-12-11 20:00:00    41.753    -87.598           48       33   \n",
              "1894259 2004-12-12 11:55:00    41.830    -87.613           48       58   \n",
              "1894260 2004-12-12 11:24:08    41.774    -87.685           48       40   \n",
              "1894262 2004-12-16 10:55:00    41.799    -87.596           48       48   \n",
              "1895165 2004-12-16 17:00:00    41.994    -87.713           48      109   \n",
              "\n",
              "         GridLng  \n",
              "1524362       66  \n",
              "1534181       58  \n",
              "1534180       69  \n",
              "1534179       86  \n",
              "1534178       49  \n",
              "...          ...  \n",
              "1894258       80  \n",
              "1894259       77  \n",
              "1894260       59  \n",
              "1894262       81  \n",
              "1895165       52  \n",
              "\n",
              "[1892815 rows x 6 columns]"
            ],
            "text/html": [
              "\n",
              "  <div id=\"df-0e9ad4e4-6971-43e5-b4f7-bf29cb42e9ec\" class=\"colab-df-container\">\n",
              "    <div>\n",
              "<style scoped>\n",
              "    .dataframe tbody tr th:only-of-type {\n",
              "        vertical-align: middle;\n",
              "    }\n",
              "\n",
              "    .dataframe tbody tr th {\n",
              "        vertical-align: top;\n",
              "    }\n",
              "\n",
              "    .dataframe thead th {\n",
              "        text-align: right;\n",
              "    }\n",
              "</style>\n",
              "<table border=\"1\" class=\"dataframe\">\n",
              "  <thead>\n",
              "    <tr style=\"text-align: right;\">\n",
              "      <th></th>\n",
              "      <th>Date</th>\n",
              "      <th>Latitude</th>\n",
              "      <th>Longitude</th>\n",
              "      <th>Month_Count</th>\n",
              "      <th>GridLat</th>\n",
              "      <th>GridLng</th>\n",
              "    </tr>\n",
              "  </thead>\n",
              "  <tbody>\n",
              "    <tr>\n",
              "      <th>1524362</th>\n",
              "      <td>2001-01-03 09:25:00</td>\n",
              "      <td>41.967</td>\n",
              "      <td>-87.655</td>\n",
              "      <td>1</td>\n",
              "      <td>101</td>\n",
              "      <td>66</td>\n",
              "    </tr>\n",
              "    <tr>\n",
              "      <th>1534181</th>\n",
              "      <td>2001-01-16 00:13:00</td>\n",
              "      <td>41.899</td>\n",
              "      <td>-87.689</td>\n",
              "      <td>1</td>\n",
              "      <td>79</td>\n",
              "      <td>58</td>\n",
              "    </tr>\n",
              "    <tr>\n",
              "      <th>1534180</th>\n",
              "      <td>2001-01-15 12:20:00</td>\n",
              "      <td>41.874</td>\n",
              "      <td>-87.644</td>\n",
              "      <td>1</td>\n",
              "      <td>72</td>\n",
              "      <td>69</td>\n",
              "    </tr>\n",
              "    <tr>\n",
              "      <th>1534179</th>\n",
              "      <td>2001-01-15 11:46:14</td>\n",
              "      <td>41.775</td>\n",
              "      <td>-87.574</td>\n",
              "      <td>1</td>\n",
              "      <td>40</td>\n",
              "      <td>86</td>\n",
              "    </tr>\n",
              "    <tr>\n",
              "      <th>1534178</th>\n",
              "      <td>2001-01-15 18:28:27</td>\n",
              "      <td>41.866</td>\n",
              "      <td>-87.725</td>\n",
              "      <td>1</td>\n",
              "      <td>69</td>\n",
              "      <td>49</td>\n",
              "    </tr>\n",
              "    <tr>\n",
              "      <th>...</th>\n",
              "      <td>...</td>\n",
              "      <td>...</td>\n",
              "      <td>...</td>\n",
              "      <td>...</td>\n",
              "      <td>...</td>\n",
              "      <td>...</td>\n",
              "    </tr>\n",
              "    <tr>\n",
              "      <th>1894258</th>\n",
              "      <td>2004-12-11 20:00:00</td>\n",
              "      <td>41.753</td>\n",
              "      <td>-87.598</td>\n",
              "      <td>48</td>\n",
              "      <td>33</td>\n",
              "      <td>80</td>\n",
              "    </tr>\n",
              "    <tr>\n",
              "      <th>1894259</th>\n",
              "      <td>2004-12-12 11:55:00</td>\n",
              "      <td>41.830</td>\n",
              "      <td>-87.613</td>\n",
              "      <td>48</td>\n",
              "      <td>58</td>\n",
              "      <td>77</td>\n",
              "    </tr>\n",
              "    <tr>\n",
              "      <th>1894260</th>\n",
              "      <td>2004-12-12 11:24:08</td>\n",
              "      <td>41.774</td>\n",
              "      <td>-87.685</td>\n",
              "      <td>48</td>\n",
              "      <td>40</td>\n",
              "      <td>59</td>\n",
              "    </tr>\n",
              "    <tr>\n",
              "      <th>1894262</th>\n",
              "      <td>2004-12-16 10:55:00</td>\n",
              "      <td>41.799</td>\n",
              "      <td>-87.596</td>\n",
              "      <td>48</td>\n",
              "      <td>48</td>\n",
              "      <td>81</td>\n",
              "    </tr>\n",
              "    <tr>\n",
              "      <th>1895165</th>\n",
              "      <td>2004-12-16 17:00:00</td>\n",
              "      <td>41.994</td>\n",
              "      <td>-87.713</td>\n",
              "      <td>48</td>\n",
              "      <td>109</td>\n",
              "      <td>52</td>\n",
              "    </tr>\n",
              "  </tbody>\n",
              "</table>\n",
              "<p>1892815 rows × 6 columns</p>\n",
              "</div>\n",
              "    <div class=\"colab-df-buttons\">\n",
              "\n",
              "  <div class=\"colab-df-container\">\n",
              "    <button class=\"colab-df-convert\" onclick=\"convertToInteractive('df-0e9ad4e4-6971-43e5-b4f7-bf29cb42e9ec')\"\n",
              "            title=\"Convert this dataframe to an interactive table.\"\n",
              "            style=\"display:none;\">\n",
              "\n",
              "  <svg xmlns=\"http://www.w3.org/2000/svg\" height=\"24px\" viewBox=\"0 -960 960 960\">\n",
              "    <path d=\"M120-120v-720h720v720H120Zm60-500h600v-160H180v160Zm220 220h160v-160H400v160Zm0 220h160v-160H400v160ZM180-400h160v-160H180v160Zm440 0h160v-160H620v160ZM180-180h160v-160H180v160Zm440 0h160v-160H620v160Z\"/>\n",
              "  </svg>\n",
              "    </button>\n",
              "\n",
              "  <style>\n",
              "    .colab-df-container {\n",
              "      display:flex;\n",
              "      gap: 12px;\n",
              "    }\n",
              "\n",
              "    .colab-df-convert {\n",
              "      background-color: #E8F0FE;\n",
              "      border: none;\n",
              "      border-radius: 50%;\n",
              "      cursor: pointer;\n",
              "      display: none;\n",
              "      fill: #1967D2;\n",
              "      height: 32px;\n",
              "      padding: 0 0 0 0;\n",
              "      width: 32px;\n",
              "    }\n",
              "\n",
              "    .colab-df-convert:hover {\n",
              "      background-color: #E2EBFA;\n",
              "      box-shadow: 0px 1px 2px rgba(60, 64, 67, 0.3), 0px 1px 3px 1px rgba(60, 64, 67, 0.15);\n",
              "      fill: #174EA6;\n",
              "    }\n",
              "\n",
              "    .colab-df-buttons div {\n",
              "      margin-bottom: 4px;\n",
              "    }\n",
              "\n",
              "    [theme=dark] .colab-df-convert {\n",
              "      background-color: #3B4455;\n",
              "      fill: #D2E3FC;\n",
              "    }\n",
              "\n",
              "    [theme=dark] .colab-df-convert:hover {\n",
              "      background-color: #434B5C;\n",
              "      box-shadow: 0px 1px 3px 1px rgba(0, 0, 0, 0.15);\n",
              "      filter: drop-shadow(0px 1px 2px rgba(0, 0, 0, 0.3));\n",
              "      fill: #FFFFFF;\n",
              "    }\n",
              "  </style>\n",
              "\n",
              "    <script>\n",
              "      const buttonEl =\n",
              "        document.querySelector('#df-0e9ad4e4-6971-43e5-b4f7-bf29cb42e9ec button.colab-df-convert');\n",
              "      buttonEl.style.display =\n",
              "        google.colab.kernel.accessAllowed ? 'block' : 'none';\n",
              "\n",
              "      async function convertToInteractive(key) {\n",
              "        const element = document.querySelector('#df-0e9ad4e4-6971-43e5-b4f7-bf29cb42e9ec');\n",
              "        const dataTable =\n",
              "          await google.colab.kernel.invokeFunction('convertToInteractive',\n",
              "                                                    [key], {});\n",
              "        if (!dataTable) return;\n",
              "\n",
              "        const docLinkHtml = 'Like what you see? Visit the ' +\n",
              "          '<a target=\"_blank\" href=https://colab.research.google.com/notebooks/data_table.ipynb>data table notebook</a>'\n",
              "          + ' to learn more about interactive tables.';\n",
              "        element.innerHTML = '';\n",
              "        dataTable['output_type'] = 'display_data';\n",
              "        await google.colab.output.renderOutput(dataTable, element);\n",
              "        const docLink = document.createElement('div');\n",
              "        docLink.innerHTML = docLinkHtml;\n",
              "        element.appendChild(docLink);\n",
              "      }\n",
              "    </script>\n",
              "  </div>\n",
              "\n",
              "\n",
              "<div id=\"df-3cb28f83-e7fa-41c8-8782-a7bd371e35ec\">\n",
              "  <button class=\"colab-df-quickchart\" onclick=\"quickchart('df-3cb28f83-e7fa-41c8-8782-a7bd371e35ec')\"\n",
              "            title=\"Suggest charts.\"\n",
              "            style=\"display:none;\">\n",
              "\n",
              "<svg xmlns=\"http://www.w3.org/2000/svg\" height=\"24px\"viewBox=\"0 0 24 24\"\n",
              "     width=\"24px\">\n",
              "    <g>\n",
              "        <path d=\"M19 3H5c-1.1 0-2 .9-2 2v14c0 1.1.9 2 2 2h14c1.1 0 2-.9 2-2V5c0-1.1-.9-2-2-2zM9 17H7v-7h2v7zm4 0h-2V7h2v10zm4 0h-2v-4h2v4z\"/>\n",
              "    </g>\n",
              "</svg>\n",
              "  </button>\n",
              "\n",
              "<style>\n",
              "  .colab-df-quickchart {\n",
              "      --bg-color: #E8F0FE;\n",
              "      --fill-color: #1967D2;\n",
              "      --hover-bg-color: #E2EBFA;\n",
              "      --hover-fill-color: #174EA6;\n",
              "      --disabled-fill-color: #AAA;\n",
              "      --disabled-bg-color: #DDD;\n",
              "  }\n",
              "\n",
              "  [theme=dark] .colab-df-quickchart {\n",
              "      --bg-color: #3B4455;\n",
              "      --fill-color: #D2E3FC;\n",
              "      --hover-bg-color: #434B5C;\n",
              "      --hover-fill-color: #FFFFFF;\n",
              "      --disabled-bg-color: #3B4455;\n",
              "      --disabled-fill-color: #666;\n",
              "  }\n",
              "\n",
              "  .colab-df-quickchart {\n",
              "    background-color: var(--bg-color);\n",
              "    border: none;\n",
              "    border-radius: 50%;\n",
              "    cursor: pointer;\n",
              "    display: none;\n",
              "    fill: var(--fill-color);\n",
              "    height: 32px;\n",
              "    padding: 0;\n",
              "    width: 32px;\n",
              "  }\n",
              "\n",
              "  .colab-df-quickchart:hover {\n",
              "    background-color: var(--hover-bg-color);\n",
              "    box-shadow: 0 1px 2px rgba(60, 64, 67, 0.3), 0 1px 3px 1px rgba(60, 64, 67, 0.15);\n",
              "    fill: var(--button-hover-fill-color);\n",
              "  }\n",
              "\n",
              "  .colab-df-quickchart-complete:disabled,\n",
              "  .colab-df-quickchart-complete:disabled:hover {\n",
              "    background-color: var(--disabled-bg-color);\n",
              "    fill: var(--disabled-fill-color);\n",
              "    box-shadow: none;\n",
              "  }\n",
              "\n",
              "  .colab-df-spinner {\n",
              "    border: 2px solid var(--fill-color);\n",
              "    border-color: transparent;\n",
              "    border-bottom-color: var(--fill-color);\n",
              "    animation:\n",
              "      spin 1s steps(1) infinite;\n",
              "  }\n",
              "\n",
              "  @keyframes spin {\n",
              "    0% {\n",
              "      border-color: transparent;\n",
              "      border-bottom-color: var(--fill-color);\n",
              "      border-left-color: var(--fill-color);\n",
              "    }\n",
              "    20% {\n",
              "      border-color: transparent;\n",
              "      border-left-color: var(--fill-color);\n",
              "      border-top-color: var(--fill-color);\n",
              "    }\n",
              "    30% {\n",
              "      border-color: transparent;\n",
              "      border-left-color: var(--fill-color);\n",
              "      border-top-color: var(--fill-color);\n",
              "      border-right-color: var(--fill-color);\n",
              "    }\n",
              "    40% {\n",
              "      border-color: transparent;\n",
              "      border-right-color: var(--fill-color);\n",
              "      border-top-color: var(--fill-color);\n",
              "    }\n",
              "    60% {\n",
              "      border-color: transparent;\n",
              "      border-right-color: var(--fill-color);\n",
              "    }\n",
              "    80% {\n",
              "      border-color: transparent;\n",
              "      border-right-color: var(--fill-color);\n",
              "      border-bottom-color: var(--fill-color);\n",
              "    }\n",
              "    90% {\n",
              "      border-color: transparent;\n",
              "      border-bottom-color: var(--fill-color);\n",
              "    }\n",
              "  }\n",
              "</style>\n",
              "\n",
              "  <script>\n",
              "    async function quickchart(key) {\n",
              "      const quickchartButtonEl =\n",
              "        document.querySelector('#' + key + ' button');\n",
              "      quickchartButtonEl.disabled = true;  // To prevent multiple clicks.\n",
              "      quickchartButtonEl.classList.add('colab-df-spinner');\n",
              "      try {\n",
              "        const charts = await google.colab.kernel.invokeFunction(\n",
              "            'suggestCharts', [key], {});\n",
              "      } catch (error) {\n",
              "        console.error('Error during call to suggestCharts:', error);\n",
              "      }\n",
              "      quickchartButtonEl.classList.remove('colab-df-spinner');\n",
              "      quickchartButtonEl.classList.add('colab-df-quickchart-complete');\n",
              "    }\n",
              "    (() => {\n",
              "      let quickchartButtonEl =\n",
              "        document.querySelector('#df-3cb28f83-e7fa-41c8-8782-a7bd371e35ec button');\n",
              "      quickchartButtonEl.style.display =\n",
              "        google.colab.kernel.accessAllowed ? 'block' : 'none';\n",
              "    })();\n",
              "  </script>\n",
              "</div>\n",
              "    </div>\n",
              "  </div>\n"
            ]
          },
          "metadata": {},
          "execution_count": 146
        }
      ],
      "source": [
        "df[\"GridLat\"] = to_grid_lat(df['Latitude'])\n",
        "df[\"GridLng\"] = to_grid_lng(df['Longitude'])\n",
        "df[\"Month_Count\"] = df[\"Month_Count\"].astype(\"int8\")\n",
        "df[\"GridLat\"] = df[\"GridLat\"].astype(\"int8\")\n",
        "df[\"GridLng\"] = df[\"GridLng\"].astype(\"int8\")\n",
        "df.sort_values(by=[\"Month_Count\"])\n"
      ]
    },
    {
      "cell_type": "code",
      "execution_count": 147,
      "metadata": {
        "colab": {
          "base_uri": "https://localhost:8080/",
          "height": 237
        },
        "id": "i7rQNzTNiupX",
        "outputId": "f6f4b3d3-8f5f-466a-beec-72948b34f0a2"
      },
      "outputs": [
        {
          "output_type": "execute_result",
          "data": {
            "text/plain": [
              "             nunique      len           types  Nulls  Value counts Max  \\\n",
              "Date          731248  1892815  datetime64[ns]      0               211   \n",
              "Latitude         379  1892815         float64      0             17689   \n",
              "Longitude        343  1892815         float64      0             27740   \n",
              "GridLat          120  1892815            int8      0             52011   \n",
              "GridLng           92  1892815            int8      0             84547   \n",
              "Month_Count       48  1892815            int8      0             74539   \n",
              "\n",
              "             Value counts Min  \n",
              "Date                        1  \n",
              "Latitude                   77  \n",
              "Longitude                   1  \n",
              "GridLat                   383  \n",
              "GridLng                     1  \n",
              "Month_Count              3872  "
            ],
            "text/html": [
              "\n",
              "  <div id=\"df-974329c5-56a0-43f9-b43d-975cc2c632ff\" class=\"colab-df-container\">\n",
              "    <div>\n",
              "<style scoped>\n",
              "    .dataframe tbody tr th:only-of-type {\n",
              "        vertical-align: middle;\n",
              "    }\n",
              "\n",
              "    .dataframe tbody tr th {\n",
              "        vertical-align: top;\n",
              "    }\n",
              "\n",
              "    .dataframe thead th {\n",
              "        text-align: right;\n",
              "    }\n",
              "</style>\n",
              "<table border=\"1\" class=\"dataframe\">\n",
              "  <thead>\n",
              "    <tr style=\"text-align: right;\">\n",
              "      <th></th>\n",
              "      <th>nunique</th>\n",
              "      <th>len</th>\n",
              "      <th>types</th>\n",
              "      <th>Nulls</th>\n",
              "      <th>Value counts Max</th>\n",
              "      <th>Value counts Min</th>\n",
              "    </tr>\n",
              "  </thead>\n",
              "  <tbody>\n",
              "    <tr>\n",
              "      <th>Date</th>\n",
              "      <td>731248</td>\n",
              "      <td>1892815</td>\n",
              "      <td>datetime64[ns]</td>\n",
              "      <td>0</td>\n",
              "      <td>211</td>\n",
              "      <td>1</td>\n",
              "    </tr>\n",
              "    <tr>\n",
              "      <th>Latitude</th>\n",
              "      <td>379</td>\n",
              "      <td>1892815</td>\n",
              "      <td>float64</td>\n",
              "      <td>0</td>\n",
              "      <td>17689</td>\n",
              "      <td>77</td>\n",
              "    </tr>\n",
              "    <tr>\n",
              "      <th>Longitude</th>\n",
              "      <td>343</td>\n",
              "      <td>1892815</td>\n",
              "      <td>float64</td>\n",
              "      <td>0</td>\n",
              "      <td>27740</td>\n",
              "      <td>1</td>\n",
              "    </tr>\n",
              "    <tr>\n",
              "      <th>GridLat</th>\n",
              "      <td>120</td>\n",
              "      <td>1892815</td>\n",
              "      <td>int8</td>\n",
              "      <td>0</td>\n",
              "      <td>52011</td>\n",
              "      <td>383</td>\n",
              "    </tr>\n",
              "    <tr>\n",
              "      <th>GridLng</th>\n",
              "      <td>92</td>\n",
              "      <td>1892815</td>\n",
              "      <td>int8</td>\n",
              "      <td>0</td>\n",
              "      <td>84547</td>\n",
              "      <td>1</td>\n",
              "    </tr>\n",
              "    <tr>\n",
              "      <th>Month_Count</th>\n",
              "      <td>48</td>\n",
              "      <td>1892815</td>\n",
              "      <td>int8</td>\n",
              "      <td>0</td>\n",
              "      <td>74539</td>\n",
              "      <td>3872</td>\n",
              "    </tr>\n",
              "  </tbody>\n",
              "</table>\n",
              "</div>\n",
              "    <div class=\"colab-df-buttons\">\n",
              "\n",
              "  <div class=\"colab-df-container\">\n",
              "    <button class=\"colab-df-convert\" onclick=\"convertToInteractive('df-974329c5-56a0-43f9-b43d-975cc2c632ff')\"\n",
              "            title=\"Convert this dataframe to an interactive table.\"\n",
              "            style=\"display:none;\">\n",
              "\n",
              "  <svg xmlns=\"http://www.w3.org/2000/svg\" height=\"24px\" viewBox=\"0 -960 960 960\">\n",
              "    <path d=\"M120-120v-720h720v720H120Zm60-500h600v-160H180v160Zm220 220h160v-160H400v160Zm0 220h160v-160H400v160ZM180-400h160v-160H180v160Zm440 0h160v-160H620v160ZM180-180h160v-160H180v160Zm440 0h160v-160H620v160Z\"/>\n",
              "  </svg>\n",
              "    </button>\n",
              "\n",
              "  <style>\n",
              "    .colab-df-container {\n",
              "      display:flex;\n",
              "      gap: 12px;\n",
              "    }\n",
              "\n",
              "    .colab-df-convert {\n",
              "      background-color: #E8F0FE;\n",
              "      border: none;\n",
              "      border-radius: 50%;\n",
              "      cursor: pointer;\n",
              "      display: none;\n",
              "      fill: #1967D2;\n",
              "      height: 32px;\n",
              "      padding: 0 0 0 0;\n",
              "      width: 32px;\n",
              "    }\n",
              "\n",
              "    .colab-df-convert:hover {\n",
              "      background-color: #E2EBFA;\n",
              "      box-shadow: 0px 1px 2px rgba(60, 64, 67, 0.3), 0px 1px 3px 1px rgba(60, 64, 67, 0.15);\n",
              "      fill: #174EA6;\n",
              "    }\n",
              "\n",
              "    .colab-df-buttons div {\n",
              "      margin-bottom: 4px;\n",
              "    }\n",
              "\n",
              "    [theme=dark] .colab-df-convert {\n",
              "      background-color: #3B4455;\n",
              "      fill: #D2E3FC;\n",
              "    }\n",
              "\n",
              "    [theme=dark] .colab-df-convert:hover {\n",
              "      background-color: #434B5C;\n",
              "      box-shadow: 0px 1px 3px 1px rgba(0, 0, 0, 0.15);\n",
              "      filter: drop-shadow(0px 1px 2px rgba(0, 0, 0, 0.3));\n",
              "      fill: #FFFFFF;\n",
              "    }\n",
              "  </style>\n",
              "\n",
              "    <script>\n",
              "      const buttonEl =\n",
              "        document.querySelector('#df-974329c5-56a0-43f9-b43d-975cc2c632ff button.colab-df-convert');\n",
              "      buttonEl.style.display =\n",
              "        google.colab.kernel.accessAllowed ? 'block' : 'none';\n",
              "\n",
              "      async function convertToInteractive(key) {\n",
              "        const element = document.querySelector('#df-974329c5-56a0-43f9-b43d-975cc2c632ff');\n",
              "        const dataTable =\n",
              "          await google.colab.kernel.invokeFunction('convertToInteractive',\n",
              "                                                    [key], {});\n",
              "        if (!dataTable) return;\n",
              "\n",
              "        const docLinkHtml = 'Like what you see? Visit the ' +\n",
              "          '<a target=\"_blank\" href=https://colab.research.google.com/notebooks/data_table.ipynb>data table notebook</a>'\n",
              "          + ' to learn more about interactive tables.';\n",
              "        element.innerHTML = '';\n",
              "        dataTable['output_type'] = 'display_data';\n",
              "        await google.colab.output.renderOutput(dataTable, element);\n",
              "        const docLink = document.createElement('div');\n",
              "        docLink.innerHTML = docLinkHtml;\n",
              "        element.appendChild(docLink);\n",
              "      }\n",
              "    </script>\n",
              "  </div>\n",
              "\n",
              "\n",
              "<div id=\"df-bf912438-261f-4e36-8e3b-e643f00f16a1\">\n",
              "  <button class=\"colab-df-quickchart\" onclick=\"quickchart('df-bf912438-261f-4e36-8e3b-e643f00f16a1')\"\n",
              "            title=\"Suggest charts.\"\n",
              "            style=\"display:none;\">\n",
              "\n",
              "<svg xmlns=\"http://www.w3.org/2000/svg\" height=\"24px\"viewBox=\"0 0 24 24\"\n",
              "     width=\"24px\">\n",
              "    <g>\n",
              "        <path d=\"M19 3H5c-1.1 0-2 .9-2 2v14c0 1.1.9 2 2 2h14c1.1 0 2-.9 2-2V5c0-1.1-.9-2-2-2zM9 17H7v-7h2v7zm4 0h-2V7h2v10zm4 0h-2v-4h2v4z\"/>\n",
              "    </g>\n",
              "</svg>\n",
              "  </button>\n",
              "\n",
              "<style>\n",
              "  .colab-df-quickchart {\n",
              "      --bg-color: #E8F0FE;\n",
              "      --fill-color: #1967D2;\n",
              "      --hover-bg-color: #E2EBFA;\n",
              "      --hover-fill-color: #174EA6;\n",
              "      --disabled-fill-color: #AAA;\n",
              "      --disabled-bg-color: #DDD;\n",
              "  }\n",
              "\n",
              "  [theme=dark] .colab-df-quickchart {\n",
              "      --bg-color: #3B4455;\n",
              "      --fill-color: #D2E3FC;\n",
              "      --hover-bg-color: #434B5C;\n",
              "      --hover-fill-color: #FFFFFF;\n",
              "      --disabled-bg-color: #3B4455;\n",
              "      --disabled-fill-color: #666;\n",
              "  }\n",
              "\n",
              "  .colab-df-quickchart {\n",
              "    background-color: var(--bg-color);\n",
              "    border: none;\n",
              "    border-radius: 50%;\n",
              "    cursor: pointer;\n",
              "    display: none;\n",
              "    fill: var(--fill-color);\n",
              "    height: 32px;\n",
              "    padding: 0;\n",
              "    width: 32px;\n",
              "  }\n",
              "\n",
              "  .colab-df-quickchart:hover {\n",
              "    background-color: var(--hover-bg-color);\n",
              "    box-shadow: 0 1px 2px rgba(60, 64, 67, 0.3), 0 1px 3px 1px rgba(60, 64, 67, 0.15);\n",
              "    fill: var(--button-hover-fill-color);\n",
              "  }\n",
              "\n",
              "  .colab-df-quickchart-complete:disabled,\n",
              "  .colab-df-quickchart-complete:disabled:hover {\n",
              "    background-color: var(--disabled-bg-color);\n",
              "    fill: var(--disabled-fill-color);\n",
              "    box-shadow: none;\n",
              "  }\n",
              "\n",
              "  .colab-df-spinner {\n",
              "    border: 2px solid var(--fill-color);\n",
              "    border-color: transparent;\n",
              "    border-bottom-color: var(--fill-color);\n",
              "    animation:\n",
              "      spin 1s steps(1) infinite;\n",
              "  }\n",
              "\n",
              "  @keyframes spin {\n",
              "    0% {\n",
              "      border-color: transparent;\n",
              "      border-bottom-color: var(--fill-color);\n",
              "      border-left-color: var(--fill-color);\n",
              "    }\n",
              "    20% {\n",
              "      border-color: transparent;\n",
              "      border-left-color: var(--fill-color);\n",
              "      border-top-color: var(--fill-color);\n",
              "    }\n",
              "    30% {\n",
              "      border-color: transparent;\n",
              "      border-left-color: var(--fill-color);\n",
              "      border-top-color: var(--fill-color);\n",
              "      border-right-color: var(--fill-color);\n",
              "    }\n",
              "    40% {\n",
              "      border-color: transparent;\n",
              "      border-right-color: var(--fill-color);\n",
              "      border-top-color: var(--fill-color);\n",
              "    }\n",
              "    60% {\n",
              "      border-color: transparent;\n",
              "      border-right-color: var(--fill-color);\n",
              "    }\n",
              "    80% {\n",
              "      border-color: transparent;\n",
              "      border-right-color: var(--fill-color);\n",
              "      border-bottom-color: var(--fill-color);\n",
              "    }\n",
              "    90% {\n",
              "      border-color: transparent;\n",
              "      border-bottom-color: var(--fill-color);\n",
              "    }\n",
              "  }\n",
              "</style>\n",
              "\n",
              "  <script>\n",
              "    async function quickchart(key) {\n",
              "      const quickchartButtonEl =\n",
              "        document.querySelector('#' + key + ' button');\n",
              "      quickchartButtonEl.disabled = true;  // To prevent multiple clicks.\n",
              "      quickchartButtonEl.classList.add('colab-df-spinner');\n",
              "      try {\n",
              "        const charts = await google.colab.kernel.invokeFunction(\n",
              "            'suggestCharts', [key], {});\n",
              "      } catch (error) {\n",
              "        console.error('Error during call to suggestCharts:', error);\n",
              "      }\n",
              "      quickchartButtonEl.classList.remove('colab-df-spinner');\n",
              "      quickchartButtonEl.classList.add('colab-df-quickchart-complete');\n",
              "    }\n",
              "    (() => {\n",
              "      let quickchartButtonEl =\n",
              "        document.querySelector('#df-bf912438-261f-4e36-8e3b-e643f00f16a1 button');\n",
              "      quickchartButtonEl.style.display =\n",
              "        google.colab.kernel.accessAllowed ? 'block' : 'none';\n",
              "    })();\n",
              "  </script>\n",
              "</div>\n",
              "    </div>\n",
              "  </div>\n"
            ]
          },
          "metadata": {},
          "execution_count": 147
        }
      ],
      "source": [
        "stats(df)"
      ]
    },
    {
      "cell_type": "code",
      "execution_count": 148,
      "metadata": {
        "id": "2TkA1t655BWJ"
      },
      "outputs": [],
      "source": [
        "df=df[['Month_Count','GridLat','GridLng']]"
      ]
    },
    {
      "cell_type": "code",
      "execution_count": 149,
      "metadata": {
        "colab": {
          "base_uri": "https://localhost:8080/",
          "height": 424
        },
        "id": "qx7PtMITPNN1",
        "outputId": "6b677fdf-43fa-407e-ba94-73c7e3142654"
      },
      "outputs": [
        {
          "output_type": "execute_result",
          "data": {
            "text/plain": [
              "        Month_Count  GridLat  GridLng  count\n",
              "0                 1        0       76      8\n",
              "1                 1        0       77      2\n",
              "2                 1        0       86      2\n",
              "3                 1        0       89      8\n",
              "4                 1        0       94      6\n",
              "...             ...      ...      ...    ...\n",
              "182871           48      118       61      1\n",
              "182872           48      118       62     21\n",
              "182873           48      118       63      9\n",
              "182874           48      118       64      7\n",
              "182875           48      119       62      4\n",
              "\n",
              "[182876 rows x 4 columns]"
            ],
            "text/html": [
              "\n",
              "  <div id=\"df-0b6ba9a6-df51-4bda-b855-528a5f844f8d\" class=\"colab-df-container\">\n",
              "    <div>\n",
              "<style scoped>\n",
              "    .dataframe tbody tr th:only-of-type {\n",
              "        vertical-align: middle;\n",
              "    }\n",
              "\n",
              "    .dataframe tbody tr th {\n",
              "        vertical-align: top;\n",
              "    }\n",
              "\n",
              "    .dataframe thead th {\n",
              "        text-align: right;\n",
              "    }\n",
              "</style>\n",
              "<table border=\"1\" class=\"dataframe\">\n",
              "  <thead>\n",
              "    <tr style=\"text-align: right;\">\n",
              "      <th></th>\n",
              "      <th>Month_Count</th>\n",
              "      <th>GridLat</th>\n",
              "      <th>GridLng</th>\n",
              "      <th>count</th>\n",
              "    </tr>\n",
              "  </thead>\n",
              "  <tbody>\n",
              "    <tr>\n",
              "      <th>0</th>\n",
              "      <td>1</td>\n",
              "      <td>0</td>\n",
              "      <td>76</td>\n",
              "      <td>8</td>\n",
              "    </tr>\n",
              "    <tr>\n",
              "      <th>1</th>\n",
              "      <td>1</td>\n",
              "      <td>0</td>\n",
              "      <td>77</td>\n",
              "      <td>2</td>\n",
              "    </tr>\n",
              "    <tr>\n",
              "      <th>2</th>\n",
              "      <td>1</td>\n",
              "      <td>0</td>\n",
              "      <td>86</td>\n",
              "      <td>2</td>\n",
              "    </tr>\n",
              "    <tr>\n",
              "      <th>3</th>\n",
              "      <td>1</td>\n",
              "      <td>0</td>\n",
              "      <td>89</td>\n",
              "      <td>8</td>\n",
              "    </tr>\n",
              "    <tr>\n",
              "      <th>4</th>\n",
              "      <td>1</td>\n",
              "      <td>0</td>\n",
              "      <td>94</td>\n",
              "      <td>6</td>\n",
              "    </tr>\n",
              "    <tr>\n",
              "      <th>...</th>\n",
              "      <td>...</td>\n",
              "      <td>...</td>\n",
              "      <td>...</td>\n",
              "      <td>...</td>\n",
              "    </tr>\n",
              "    <tr>\n",
              "      <th>182871</th>\n",
              "      <td>48</td>\n",
              "      <td>118</td>\n",
              "      <td>61</td>\n",
              "      <td>1</td>\n",
              "    </tr>\n",
              "    <tr>\n",
              "      <th>182872</th>\n",
              "      <td>48</td>\n",
              "      <td>118</td>\n",
              "      <td>62</td>\n",
              "      <td>21</td>\n",
              "    </tr>\n",
              "    <tr>\n",
              "      <th>182873</th>\n",
              "      <td>48</td>\n",
              "      <td>118</td>\n",
              "      <td>63</td>\n",
              "      <td>9</td>\n",
              "    </tr>\n",
              "    <tr>\n",
              "      <th>182874</th>\n",
              "      <td>48</td>\n",
              "      <td>118</td>\n",
              "      <td>64</td>\n",
              "      <td>7</td>\n",
              "    </tr>\n",
              "    <tr>\n",
              "      <th>182875</th>\n",
              "      <td>48</td>\n",
              "      <td>119</td>\n",
              "      <td>62</td>\n",
              "      <td>4</td>\n",
              "    </tr>\n",
              "  </tbody>\n",
              "</table>\n",
              "<p>182876 rows × 4 columns</p>\n",
              "</div>\n",
              "    <div class=\"colab-df-buttons\">\n",
              "\n",
              "  <div class=\"colab-df-container\">\n",
              "    <button class=\"colab-df-convert\" onclick=\"convertToInteractive('df-0b6ba9a6-df51-4bda-b855-528a5f844f8d')\"\n",
              "            title=\"Convert this dataframe to an interactive table.\"\n",
              "            style=\"display:none;\">\n",
              "\n",
              "  <svg xmlns=\"http://www.w3.org/2000/svg\" height=\"24px\" viewBox=\"0 -960 960 960\">\n",
              "    <path d=\"M120-120v-720h720v720H120Zm60-500h600v-160H180v160Zm220 220h160v-160H400v160Zm0 220h160v-160H400v160ZM180-400h160v-160H180v160Zm440 0h160v-160H620v160ZM180-180h160v-160H180v160Zm440 0h160v-160H620v160Z\"/>\n",
              "  </svg>\n",
              "    </button>\n",
              "\n",
              "  <style>\n",
              "    .colab-df-container {\n",
              "      display:flex;\n",
              "      gap: 12px;\n",
              "    }\n",
              "\n",
              "    .colab-df-convert {\n",
              "      background-color: #E8F0FE;\n",
              "      border: none;\n",
              "      border-radius: 50%;\n",
              "      cursor: pointer;\n",
              "      display: none;\n",
              "      fill: #1967D2;\n",
              "      height: 32px;\n",
              "      padding: 0 0 0 0;\n",
              "      width: 32px;\n",
              "    }\n",
              "\n",
              "    .colab-df-convert:hover {\n",
              "      background-color: #E2EBFA;\n",
              "      box-shadow: 0px 1px 2px rgba(60, 64, 67, 0.3), 0px 1px 3px 1px rgba(60, 64, 67, 0.15);\n",
              "      fill: #174EA6;\n",
              "    }\n",
              "\n",
              "    .colab-df-buttons div {\n",
              "      margin-bottom: 4px;\n",
              "    }\n",
              "\n",
              "    [theme=dark] .colab-df-convert {\n",
              "      background-color: #3B4455;\n",
              "      fill: #D2E3FC;\n",
              "    }\n",
              "\n",
              "    [theme=dark] .colab-df-convert:hover {\n",
              "      background-color: #434B5C;\n",
              "      box-shadow: 0px 1px 3px 1px rgba(0, 0, 0, 0.15);\n",
              "      filter: drop-shadow(0px 1px 2px rgba(0, 0, 0, 0.3));\n",
              "      fill: #FFFFFF;\n",
              "    }\n",
              "  </style>\n",
              "\n",
              "    <script>\n",
              "      const buttonEl =\n",
              "        document.querySelector('#df-0b6ba9a6-df51-4bda-b855-528a5f844f8d button.colab-df-convert');\n",
              "      buttonEl.style.display =\n",
              "        google.colab.kernel.accessAllowed ? 'block' : 'none';\n",
              "\n",
              "      async function convertToInteractive(key) {\n",
              "        const element = document.querySelector('#df-0b6ba9a6-df51-4bda-b855-528a5f844f8d');\n",
              "        const dataTable =\n",
              "          await google.colab.kernel.invokeFunction('convertToInteractive',\n",
              "                                                    [key], {});\n",
              "        if (!dataTable) return;\n",
              "\n",
              "        const docLinkHtml = 'Like what you see? Visit the ' +\n",
              "          '<a target=\"_blank\" href=https://colab.research.google.com/notebooks/data_table.ipynb>data table notebook</a>'\n",
              "          + ' to learn more about interactive tables.';\n",
              "        element.innerHTML = '';\n",
              "        dataTable['output_type'] = 'display_data';\n",
              "        await google.colab.output.renderOutput(dataTable, element);\n",
              "        const docLink = document.createElement('div');\n",
              "        docLink.innerHTML = docLinkHtml;\n",
              "        element.appendChild(docLink);\n",
              "      }\n",
              "    </script>\n",
              "  </div>\n",
              "\n",
              "\n",
              "<div id=\"df-7c020acc-b3f8-4437-b519-78f6cf1d05fe\">\n",
              "  <button class=\"colab-df-quickchart\" onclick=\"quickchart('df-7c020acc-b3f8-4437-b519-78f6cf1d05fe')\"\n",
              "            title=\"Suggest charts.\"\n",
              "            style=\"display:none;\">\n",
              "\n",
              "<svg xmlns=\"http://www.w3.org/2000/svg\" height=\"24px\"viewBox=\"0 0 24 24\"\n",
              "     width=\"24px\">\n",
              "    <g>\n",
              "        <path d=\"M19 3H5c-1.1 0-2 .9-2 2v14c0 1.1.9 2 2 2h14c1.1 0 2-.9 2-2V5c0-1.1-.9-2-2-2zM9 17H7v-7h2v7zm4 0h-2V7h2v10zm4 0h-2v-4h2v4z\"/>\n",
              "    </g>\n",
              "</svg>\n",
              "  </button>\n",
              "\n",
              "<style>\n",
              "  .colab-df-quickchart {\n",
              "      --bg-color: #E8F0FE;\n",
              "      --fill-color: #1967D2;\n",
              "      --hover-bg-color: #E2EBFA;\n",
              "      --hover-fill-color: #174EA6;\n",
              "      --disabled-fill-color: #AAA;\n",
              "      --disabled-bg-color: #DDD;\n",
              "  }\n",
              "\n",
              "  [theme=dark] .colab-df-quickchart {\n",
              "      --bg-color: #3B4455;\n",
              "      --fill-color: #D2E3FC;\n",
              "      --hover-bg-color: #434B5C;\n",
              "      --hover-fill-color: #FFFFFF;\n",
              "      --disabled-bg-color: #3B4455;\n",
              "      --disabled-fill-color: #666;\n",
              "  }\n",
              "\n",
              "  .colab-df-quickchart {\n",
              "    background-color: var(--bg-color);\n",
              "    border: none;\n",
              "    border-radius: 50%;\n",
              "    cursor: pointer;\n",
              "    display: none;\n",
              "    fill: var(--fill-color);\n",
              "    height: 32px;\n",
              "    padding: 0;\n",
              "    width: 32px;\n",
              "  }\n",
              "\n",
              "  .colab-df-quickchart:hover {\n",
              "    background-color: var(--hover-bg-color);\n",
              "    box-shadow: 0 1px 2px rgba(60, 64, 67, 0.3), 0 1px 3px 1px rgba(60, 64, 67, 0.15);\n",
              "    fill: var(--button-hover-fill-color);\n",
              "  }\n",
              "\n",
              "  .colab-df-quickchart-complete:disabled,\n",
              "  .colab-df-quickchart-complete:disabled:hover {\n",
              "    background-color: var(--disabled-bg-color);\n",
              "    fill: var(--disabled-fill-color);\n",
              "    box-shadow: none;\n",
              "  }\n",
              "\n",
              "  .colab-df-spinner {\n",
              "    border: 2px solid var(--fill-color);\n",
              "    border-color: transparent;\n",
              "    border-bottom-color: var(--fill-color);\n",
              "    animation:\n",
              "      spin 1s steps(1) infinite;\n",
              "  }\n",
              "\n",
              "  @keyframes spin {\n",
              "    0% {\n",
              "      border-color: transparent;\n",
              "      border-bottom-color: var(--fill-color);\n",
              "      border-left-color: var(--fill-color);\n",
              "    }\n",
              "    20% {\n",
              "      border-color: transparent;\n",
              "      border-left-color: var(--fill-color);\n",
              "      border-top-color: var(--fill-color);\n",
              "    }\n",
              "    30% {\n",
              "      border-color: transparent;\n",
              "      border-left-color: var(--fill-color);\n",
              "      border-top-color: var(--fill-color);\n",
              "      border-right-color: var(--fill-color);\n",
              "    }\n",
              "    40% {\n",
              "      border-color: transparent;\n",
              "      border-right-color: var(--fill-color);\n",
              "      border-top-color: var(--fill-color);\n",
              "    }\n",
              "    60% {\n",
              "      border-color: transparent;\n",
              "      border-right-color: var(--fill-color);\n",
              "    }\n",
              "    80% {\n",
              "      border-color: transparent;\n",
              "      border-right-color: var(--fill-color);\n",
              "      border-bottom-color: var(--fill-color);\n",
              "    }\n",
              "    90% {\n",
              "      border-color: transparent;\n",
              "      border-bottom-color: var(--fill-color);\n",
              "    }\n",
              "  }\n",
              "</style>\n",
              "\n",
              "  <script>\n",
              "    async function quickchart(key) {\n",
              "      const quickchartButtonEl =\n",
              "        document.querySelector('#' + key + ' button');\n",
              "      quickchartButtonEl.disabled = true;  // To prevent multiple clicks.\n",
              "      quickchartButtonEl.classList.add('colab-df-spinner');\n",
              "      try {\n",
              "        const charts = await google.colab.kernel.invokeFunction(\n",
              "            'suggestCharts', [key], {});\n",
              "      } catch (error) {\n",
              "        console.error('Error during call to suggestCharts:', error);\n",
              "      }\n",
              "      quickchartButtonEl.classList.remove('colab-df-spinner');\n",
              "      quickchartButtonEl.classList.add('colab-df-quickchart-complete');\n",
              "    }\n",
              "    (() => {\n",
              "      let quickchartButtonEl =\n",
              "        document.querySelector('#df-7c020acc-b3f8-4437-b519-78f6cf1d05fe button');\n",
              "      quickchartButtonEl.style.display =\n",
              "        google.colab.kernel.accessAllowed ? 'block' : 'none';\n",
              "    })();\n",
              "  </script>\n",
              "</div>\n",
              "    </div>\n",
              "  </div>\n"
            ]
          },
          "metadata": {},
          "execution_count": 149
        }
      ],
      "source": [
        "grouped_counts = df.groupby(['Month_Count', 'GridLat', 'GridLng']).size().reset_index(name='count')\n",
        "grouped_counts"
      ]
    },
    {
      "cell_type": "code",
      "execution_count": 150,
      "metadata": {
        "colab": {
          "base_uri": "https://localhost:8080/",
          "height": 175
        },
        "id": "NOS7XGF1PNWL",
        "outputId": "cd51a457-9daa-49d3-e699-5f4ea87b1d83"
      },
      "outputs": [
        {
          "output_type": "execute_result",
          "data": {
            "text/plain": [
              "             nunique     len  types  Nulls  Value counts Max  Value counts Min\n",
              "count            187  182876  int64      0             21115                 1\n",
              "GridLat          120  182876  int64      0              2480                59\n",
              "GridLng           92  182876  int64      0              4851                 1\n",
              "Month_Count       48  182876  int64      0              3992              1636"
            ],
            "text/html": [
              "\n",
              "  <div id=\"df-98913f06-332d-4545-bdcf-f9b13d642a44\" class=\"colab-df-container\">\n",
              "    <div>\n",
              "<style scoped>\n",
              "    .dataframe tbody tr th:only-of-type {\n",
              "        vertical-align: middle;\n",
              "    }\n",
              "\n",
              "    .dataframe tbody tr th {\n",
              "        vertical-align: top;\n",
              "    }\n",
              "\n",
              "    .dataframe thead th {\n",
              "        text-align: right;\n",
              "    }\n",
              "</style>\n",
              "<table border=\"1\" class=\"dataframe\">\n",
              "  <thead>\n",
              "    <tr style=\"text-align: right;\">\n",
              "      <th></th>\n",
              "      <th>nunique</th>\n",
              "      <th>len</th>\n",
              "      <th>types</th>\n",
              "      <th>Nulls</th>\n",
              "      <th>Value counts Max</th>\n",
              "      <th>Value counts Min</th>\n",
              "    </tr>\n",
              "  </thead>\n",
              "  <tbody>\n",
              "    <tr>\n",
              "      <th>count</th>\n",
              "      <td>187</td>\n",
              "      <td>182876</td>\n",
              "      <td>int64</td>\n",
              "      <td>0</td>\n",
              "      <td>21115</td>\n",
              "      <td>1</td>\n",
              "    </tr>\n",
              "    <tr>\n",
              "      <th>GridLat</th>\n",
              "      <td>120</td>\n",
              "      <td>182876</td>\n",
              "      <td>int64</td>\n",
              "      <td>0</td>\n",
              "      <td>2480</td>\n",
              "      <td>59</td>\n",
              "    </tr>\n",
              "    <tr>\n",
              "      <th>GridLng</th>\n",
              "      <td>92</td>\n",
              "      <td>182876</td>\n",
              "      <td>int64</td>\n",
              "      <td>0</td>\n",
              "      <td>4851</td>\n",
              "      <td>1</td>\n",
              "    </tr>\n",
              "    <tr>\n",
              "      <th>Month_Count</th>\n",
              "      <td>48</td>\n",
              "      <td>182876</td>\n",
              "      <td>int64</td>\n",
              "      <td>0</td>\n",
              "      <td>3992</td>\n",
              "      <td>1636</td>\n",
              "    </tr>\n",
              "  </tbody>\n",
              "</table>\n",
              "</div>\n",
              "    <div class=\"colab-df-buttons\">\n",
              "\n",
              "  <div class=\"colab-df-container\">\n",
              "    <button class=\"colab-df-convert\" onclick=\"convertToInteractive('df-98913f06-332d-4545-bdcf-f9b13d642a44')\"\n",
              "            title=\"Convert this dataframe to an interactive table.\"\n",
              "            style=\"display:none;\">\n",
              "\n",
              "  <svg xmlns=\"http://www.w3.org/2000/svg\" height=\"24px\" viewBox=\"0 -960 960 960\">\n",
              "    <path d=\"M120-120v-720h720v720H120Zm60-500h600v-160H180v160Zm220 220h160v-160H400v160Zm0 220h160v-160H400v160ZM180-400h160v-160H180v160Zm440 0h160v-160H620v160ZM180-180h160v-160H180v160Zm440 0h160v-160H620v160Z\"/>\n",
              "  </svg>\n",
              "    </button>\n",
              "\n",
              "  <style>\n",
              "    .colab-df-container {\n",
              "      display:flex;\n",
              "      gap: 12px;\n",
              "    }\n",
              "\n",
              "    .colab-df-convert {\n",
              "      background-color: #E8F0FE;\n",
              "      border: none;\n",
              "      border-radius: 50%;\n",
              "      cursor: pointer;\n",
              "      display: none;\n",
              "      fill: #1967D2;\n",
              "      height: 32px;\n",
              "      padding: 0 0 0 0;\n",
              "      width: 32px;\n",
              "    }\n",
              "\n",
              "    .colab-df-convert:hover {\n",
              "      background-color: #E2EBFA;\n",
              "      box-shadow: 0px 1px 2px rgba(60, 64, 67, 0.3), 0px 1px 3px 1px rgba(60, 64, 67, 0.15);\n",
              "      fill: #174EA6;\n",
              "    }\n",
              "\n",
              "    .colab-df-buttons div {\n",
              "      margin-bottom: 4px;\n",
              "    }\n",
              "\n",
              "    [theme=dark] .colab-df-convert {\n",
              "      background-color: #3B4455;\n",
              "      fill: #D2E3FC;\n",
              "    }\n",
              "\n",
              "    [theme=dark] .colab-df-convert:hover {\n",
              "      background-color: #434B5C;\n",
              "      box-shadow: 0px 1px 3px 1px rgba(0, 0, 0, 0.15);\n",
              "      filter: drop-shadow(0px 1px 2px rgba(0, 0, 0, 0.3));\n",
              "      fill: #FFFFFF;\n",
              "    }\n",
              "  </style>\n",
              "\n",
              "    <script>\n",
              "      const buttonEl =\n",
              "        document.querySelector('#df-98913f06-332d-4545-bdcf-f9b13d642a44 button.colab-df-convert');\n",
              "      buttonEl.style.display =\n",
              "        google.colab.kernel.accessAllowed ? 'block' : 'none';\n",
              "\n",
              "      async function convertToInteractive(key) {\n",
              "        const element = document.querySelector('#df-98913f06-332d-4545-bdcf-f9b13d642a44');\n",
              "        const dataTable =\n",
              "          await google.colab.kernel.invokeFunction('convertToInteractive',\n",
              "                                                    [key], {});\n",
              "        if (!dataTable) return;\n",
              "\n",
              "        const docLinkHtml = 'Like what you see? Visit the ' +\n",
              "          '<a target=\"_blank\" href=https://colab.research.google.com/notebooks/data_table.ipynb>data table notebook</a>'\n",
              "          + ' to learn more about interactive tables.';\n",
              "        element.innerHTML = '';\n",
              "        dataTable['output_type'] = 'display_data';\n",
              "        await google.colab.output.renderOutput(dataTable, element);\n",
              "        const docLink = document.createElement('div');\n",
              "        docLink.innerHTML = docLinkHtml;\n",
              "        element.appendChild(docLink);\n",
              "      }\n",
              "    </script>\n",
              "  </div>\n",
              "\n",
              "\n",
              "<div id=\"df-3f51c1e8-534a-490f-ae30-cecc998cec4b\">\n",
              "  <button class=\"colab-df-quickchart\" onclick=\"quickchart('df-3f51c1e8-534a-490f-ae30-cecc998cec4b')\"\n",
              "            title=\"Suggest charts.\"\n",
              "            style=\"display:none;\">\n",
              "\n",
              "<svg xmlns=\"http://www.w3.org/2000/svg\" height=\"24px\"viewBox=\"0 0 24 24\"\n",
              "     width=\"24px\">\n",
              "    <g>\n",
              "        <path d=\"M19 3H5c-1.1 0-2 .9-2 2v14c0 1.1.9 2 2 2h14c1.1 0 2-.9 2-2V5c0-1.1-.9-2-2-2zM9 17H7v-7h2v7zm4 0h-2V7h2v10zm4 0h-2v-4h2v4z\"/>\n",
              "    </g>\n",
              "</svg>\n",
              "  </button>\n",
              "\n",
              "<style>\n",
              "  .colab-df-quickchart {\n",
              "      --bg-color: #E8F0FE;\n",
              "      --fill-color: #1967D2;\n",
              "      --hover-bg-color: #E2EBFA;\n",
              "      --hover-fill-color: #174EA6;\n",
              "      --disabled-fill-color: #AAA;\n",
              "      --disabled-bg-color: #DDD;\n",
              "  }\n",
              "\n",
              "  [theme=dark] .colab-df-quickchart {\n",
              "      --bg-color: #3B4455;\n",
              "      --fill-color: #D2E3FC;\n",
              "      --hover-bg-color: #434B5C;\n",
              "      --hover-fill-color: #FFFFFF;\n",
              "      --disabled-bg-color: #3B4455;\n",
              "      --disabled-fill-color: #666;\n",
              "  }\n",
              "\n",
              "  .colab-df-quickchart {\n",
              "    background-color: var(--bg-color);\n",
              "    border: none;\n",
              "    border-radius: 50%;\n",
              "    cursor: pointer;\n",
              "    display: none;\n",
              "    fill: var(--fill-color);\n",
              "    height: 32px;\n",
              "    padding: 0;\n",
              "    width: 32px;\n",
              "  }\n",
              "\n",
              "  .colab-df-quickchart:hover {\n",
              "    background-color: var(--hover-bg-color);\n",
              "    box-shadow: 0 1px 2px rgba(60, 64, 67, 0.3), 0 1px 3px 1px rgba(60, 64, 67, 0.15);\n",
              "    fill: var(--button-hover-fill-color);\n",
              "  }\n",
              "\n",
              "  .colab-df-quickchart-complete:disabled,\n",
              "  .colab-df-quickchart-complete:disabled:hover {\n",
              "    background-color: var(--disabled-bg-color);\n",
              "    fill: var(--disabled-fill-color);\n",
              "    box-shadow: none;\n",
              "  }\n",
              "\n",
              "  .colab-df-spinner {\n",
              "    border: 2px solid var(--fill-color);\n",
              "    border-color: transparent;\n",
              "    border-bottom-color: var(--fill-color);\n",
              "    animation:\n",
              "      spin 1s steps(1) infinite;\n",
              "  }\n",
              "\n",
              "  @keyframes spin {\n",
              "    0% {\n",
              "      border-color: transparent;\n",
              "      border-bottom-color: var(--fill-color);\n",
              "      border-left-color: var(--fill-color);\n",
              "    }\n",
              "    20% {\n",
              "      border-color: transparent;\n",
              "      border-left-color: var(--fill-color);\n",
              "      border-top-color: var(--fill-color);\n",
              "    }\n",
              "    30% {\n",
              "      border-color: transparent;\n",
              "      border-left-color: var(--fill-color);\n",
              "      border-top-color: var(--fill-color);\n",
              "      border-right-color: var(--fill-color);\n",
              "    }\n",
              "    40% {\n",
              "      border-color: transparent;\n",
              "      border-right-color: var(--fill-color);\n",
              "      border-top-color: var(--fill-color);\n",
              "    }\n",
              "    60% {\n",
              "      border-color: transparent;\n",
              "      border-right-color: var(--fill-color);\n",
              "    }\n",
              "    80% {\n",
              "      border-color: transparent;\n",
              "      border-right-color: var(--fill-color);\n",
              "      border-bottom-color: var(--fill-color);\n",
              "    }\n",
              "    90% {\n",
              "      border-color: transparent;\n",
              "      border-bottom-color: var(--fill-color);\n",
              "    }\n",
              "  }\n",
              "</style>\n",
              "\n",
              "  <script>\n",
              "    async function quickchart(key) {\n",
              "      const quickchartButtonEl =\n",
              "        document.querySelector('#' + key + ' button');\n",
              "      quickchartButtonEl.disabled = true;  // To prevent multiple clicks.\n",
              "      quickchartButtonEl.classList.add('colab-df-spinner');\n",
              "      try {\n",
              "        const charts = await google.colab.kernel.invokeFunction(\n",
              "            'suggestCharts', [key], {});\n",
              "      } catch (error) {\n",
              "        console.error('Error during call to suggestCharts:', error);\n",
              "      }\n",
              "      quickchartButtonEl.classList.remove('colab-df-spinner');\n",
              "      quickchartButtonEl.classList.add('colab-df-quickchart-complete');\n",
              "    }\n",
              "    (() => {\n",
              "      let quickchartButtonEl =\n",
              "        document.querySelector('#df-3f51c1e8-534a-490f-ae30-cecc998cec4b button');\n",
              "      quickchartButtonEl.style.display =\n",
              "        google.colab.kernel.accessAllowed ? 'block' : 'none';\n",
              "    })();\n",
              "  </script>\n",
              "</div>\n",
              "    </div>\n",
              "  </div>\n"
            ]
          },
          "metadata": {},
          "execution_count": 150
        }
      ],
      "source": [
        "stats(grouped_counts)"
      ]
    },
    {
      "cell_type": "code",
      "execution_count": 151,
      "metadata": {
        "colab": {
          "base_uri": "https://localhost:8080/"
        },
        "id": "ki6UdvZ4DZRk",
        "outputId": "4d5e639b-482d-4716-99b9-70c959660c93"
      },
      "outputs": [
        {
          "output_type": "execute_result",
          "data": {
            "text/plain": [
              "407"
            ]
          },
          "metadata": {},
          "execution_count": 151
        }
      ],
      "source": [
        "grouped_counts['count'].max()\n"
      ]
    },
    {
      "cell_type": "code",
      "execution_count": 152,
      "metadata": {
        "colab": {
          "base_uri": "https://localhost:8080/"
        },
        "id": "ervndp1suY_u",
        "outputId": "4d9b8056-460f-4c3e-9c43-4b00e10d0ff9"
      },
      "outputs": [
        {
          "output_type": "execute_result",
          "data": {
            "text/plain": [
              "120"
            ]
          },
          "metadata": {},
          "execution_count": 152
        }
      ],
      "source": [
        "grouped_counts['GridLat'].nunique()\n"
      ]
    },
    {
      "cell_type": "code",
      "execution_count": 153,
      "metadata": {
        "colab": {
          "base_uri": "https://localhost:8080/"
        },
        "id": "mTgy8jRXuYr1",
        "outputId": "94f239c4-74ae-4af1-ce87-d8d8e8588c86"
      },
      "outputs": [
        {
          "output_type": "execute_result",
          "data": {
            "text/plain": [
              "92"
            ]
          },
          "metadata": {},
          "execution_count": 153
        }
      ],
      "source": [
        "grouped_counts['GridLng'].nunique()"
      ]
    },
    {
      "cell_type": "code",
      "execution_count": 154,
      "metadata": {
        "id": "Sag5ALFmt7W6"
      },
      "outputs": [],
      "source": [
        "# unique_x = df['Month_Count'].unique()\n",
        "# unique_y = df['GridLng'].unique()\n",
        "# unique_z = df['GridLat'].unique()\n",
        "# unique_y.shape\n",
        "# matrix_shape = (len(unique_x), len(unique_y), len(unique_z))\n",
        "# matrix = np.zeros(matrix_shape, dtype=int)\n",
        "# x_mapping = {val: idx for idx, val in enumerate(unique_x)}\n",
        "# y_mapping = {val: idx for idx, val in enumerate(unique_y)}\n",
        "# z_mapping = {val: idx for idx, val in enumerate(unique_z)}\n",
        "# for _, row in df.iterrows():\n",
        "#     x_idx = x_mapping[row['Month_Count']]\n",
        "#     y_idx = y_mapping[row['GridLng']]\n",
        "#     z_idx = z_mapping[row['GridLat']]\n",
        "#     matrix[x_idx, y_idx, z_idx] += 1\n",
        "\n",
        "# print(matrix)\n",
        "# matrix.shape"
      ]
    },
    {
      "cell_type": "code",
      "execution_count": 155,
      "metadata": {
        "colab": {
          "base_uri": "https://localhost:8080/"
        },
        "id": "3p3zh4pNDY_c",
        "outputId": "891055db-9087-49d6-cbc7-afc5c18b8357"
      },
      "outputs": [
        {
          "output_type": "execute_result",
          "data": {
            "text/plain": [
              "(48, 4631)"
            ]
          },
          "metadata": {},
          "execution_count": 155
        }
      ],
      "source": [
        "# crime_grid = np.zeros((max(grouped_counts[\"Month_Count\"]) , GRID_LNG_DIM , GRID_LAT_DIM ))\n",
        "# crime_grid.shape\n",
        "\n",
        "crime_grid = pd.pivot_table(grouped_counts, values=\"count\", index=\"Month_Count\", columns=[\"GridLng\", \"GridLat\"], fill_value=0)\n",
        "crime_grid_array = crime_grid.to_numpy()\n",
        "crime_grid.shape\n"
      ]
    },
    {
      "cell_type": "code",
      "execution_count": 156,
      "metadata": {
        "colab": {
          "base_uri": "https://localhost:8080/"
        },
        "id": "jtqi0a-3XQ_Y",
        "outputId": "64e2daae-508e-4821-a1b4-7a232c1aa5dc"
      },
      "outputs": [
        {
          "output_type": "execute_result",
          "data": {
            "text/plain": [
              "(49, 101, 121)"
            ]
          },
          "metadata": {},
          "execution_count": 156
        }
      ],
      "source": [
        "crime_grid = np.zeros((max(df[\"Month_Count\"]) + 1, GRID_LNG_DIM + 1, GRID_LAT_DIM + 1))\n",
        "crime_grid.shape"
      ]
    },
    {
      "cell_type": "code",
      "execution_count": 157,
      "metadata": {
        "colab": {
          "base_uri": "https://localhost:8080/"
        },
        "id": "5lxDJL6gX3yz",
        "outputId": "5730782a-8e66-4acc-d112-fbc3dbfca184"
      },
      "outputs": [
        {
          "output_type": "stream",
          "name": "stdout",
          "text": [
            "[[[7169. 7148. 7201. ... 7105. 7677. 7482.]\n",
            "  [7119. 7501. 7407. ...    0.    0.    0.]\n",
            "  [   0.    0.    0. ...    0.    0.    0.]\n",
            "  ...\n",
            "  [   0.    0.    0. ...    0.    0.    0.]\n",
            "  [   0.    0.    0. ...    0.    0.    0.]\n",
            "  [   0.    0.    0. ...    0.    0.    0.]]\n",
            "\n",
            " [[   0.    0.    0. ...    0.    0.    0.]\n",
            "  [   0.    0.    0. ...    0.    0.    0.]\n",
            "  [   0.    0.    0. ...    0.    0.    0.]\n",
            "  ...\n",
            "  [   0.    0.    0. ...    0.    0.    0.]\n",
            "  [   0.    0.    0. ...    0.    0.    0.]\n",
            "  [   0.    0.    0. ...    0.    0.    0.]]\n",
            "\n",
            " [[   0.    0.    0. ...    0.    0.    0.]\n",
            "  [   0.    0.    0. ...    0.    0.    0.]\n",
            "  [   0.    0.    0. ...    0.    0.    0.]\n",
            "  ...\n",
            "  [   0.    0.    0. ...    0.    0.    0.]\n",
            "  [   0.    0.    0. ...    0.    0.    0.]\n",
            "  [   0.    0.    0. ...    0.    0.    0.]]\n",
            "\n",
            " ...\n",
            "\n",
            " [[   0.    0.    0. ...    0.    0.    0.]\n",
            "  [   0.    0.    0. ...    0.    0.    0.]\n",
            "  [   0.    0.    0. ...    0.    0.    0.]\n",
            "  ...\n",
            "  [   0.    0.    0. ...    0.    0.    0.]\n",
            "  [   0.    0.    0. ...    0.    0.    0.]\n",
            "  [   0.    0.    0. ...    0.    0.    0.]]\n",
            "\n",
            " [[   0.    0.    0. ...    0.    0.    0.]\n",
            "  [   0.    0.    0. ...    0.    0.    0.]\n",
            "  [   0.    0.    0. ...    0.    0.    0.]\n",
            "  ...\n",
            "  [   0.    0.    0. ...    0.    0.    0.]\n",
            "  [   0.    0.    0. ...    0.    0.    0.]\n",
            "  [   0.    0.    0. ...    0.    0.    0.]]\n",
            "\n",
            " [[   0.    0.    0. ...    0.    0.    0.]\n",
            "  [   0.    0.    0. ...    0.    0.    0.]\n",
            "  [   0.    0.    0. ...    0.    0.    0.]\n",
            "  ...\n",
            "  [   0.    0.    0. ...    0.    0.    0.]\n",
            "  [   0.    0.    0. ... 7322. 7679. 7306.]\n",
            "  [7079. 7226. 7478. ... 7231. 7107. 7637.]]]\n"
          ]
        }
      ],
      "source": [
        "indices = df[\"Month_Count\"] * (GRID_LNG_DIM + 1) * (GRID_LAT_DIM + 1) + df[\"GridLng\"] * (GRID_LAT_DIM + 1) + df[\"GridLat\"]\n",
        "\n",
        "# Count the occurrences of each index\n",
        "unique_indices, counts = np.unique(indices, return_counts=True)\n",
        "\n",
        "# Fill the crime_grid with the counts for each cell\n",
        "crime_grid[unique_indices // ((GRID_LNG_DIM + 1) * (GRID_LAT_DIM + 1)),\n",
        "           (unique_indices // (GRID_LAT_DIM + 1)) % (GRID_LNG_DIM + 1),\n",
        "           unique_indices % (GRID_LAT_DIM + 1)] = counts\n",
        "\n",
        "print(crime_grid)"
      ]
    },
    {
      "cell_type": "code",
      "execution_count": 158,
      "metadata": {
        "colab": {
          "base_uri": "https://localhost:8080/"
        },
        "id": "STzbR6GJEcgi",
        "outputId": "cd8a574e-e8ff-44c9-df20-e1e3be42af1b"
      },
      "outputs": [
        {
          "output_type": "stream",
          "name": "stdout",
          "text": [
            "[[[7.169e+03 7.148e+03 7.201e+03 ... 7.105e+03 7.677e+03 7.482e+03]\n",
            "  [7.119e+03 7.501e+03 7.407e+03 ... 0.000e+00 0.000e+00 0.000e+00]\n",
            "  [0.000e+00 0.000e+00 0.000e+00 ... 0.000e+00 0.000e+00 0.000e+00]\n",
            "  ...\n",
            "  [0.000e+00 0.000e+00 0.000e+00 ... 0.000e+00 0.000e+00 0.000e+00]\n",
            "  [0.000e+00 0.000e+00 0.000e+00 ... 0.000e+00 0.000e+00 0.000e+00]\n",
            "  [0.000e+00 0.000e+00 0.000e+00 ... 0.000e+00 0.000e+00 0.000e+00]]\n",
            "\n",
            " [[0.000e+00 0.000e+00 0.000e+00 ... 0.000e+00 0.000e+00 0.000e+00]\n",
            "  [0.000e+00 0.000e+00 0.000e+00 ... 0.000e+00 0.000e+00 0.000e+00]\n",
            "  [0.000e+00 0.000e+00 0.000e+00 ... 0.000e+00 0.000e+00 0.000e+00]\n",
            "  ...\n",
            "  [0.000e+00 0.000e+00 1.000e+00 ... 0.000e+00 0.000e+00 0.000e+00]\n",
            "  [0.000e+00 0.000e+00 0.000e+00 ... 0.000e+00 0.000e+00 0.000e+00]\n",
            "  [0.000e+00 0.000e+00 0.000e+00 ... 0.000e+00 0.000e+00 0.000e+00]]\n",
            "\n",
            " [[0.000e+00 0.000e+00 0.000e+00 ... 0.000e+00 0.000e+00 0.000e+00]\n",
            "  [0.000e+00 0.000e+00 0.000e+00 ... 0.000e+00 0.000e+00 0.000e+00]\n",
            "  [0.000e+00 0.000e+00 0.000e+00 ... 0.000e+00 0.000e+00 0.000e+00]\n",
            "  ...\n",
            "  [0.000e+00 0.000e+00 1.000e+00 ... 0.000e+00 0.000e+00 0.000e+00]\n",
            "  [0.000e+00 0.000e+00 0.000e+00 ... 0.000e+00 0.000e+00 0.000e+00]\n",
            "  [0.000e+00 0.000e+00 0.000e+00 ... 0.000e+00 0.000e+00 0.000e+00]]\n",
            "\n",
            " ...\n",
            "\n",
            " [[0.000e+00 0.000e+00 0.000e+00 ... 0.000e+00 0.000e+00 0.000e+00]\n",
            "  [0.000e+00 0.000e+00 0.000e+00 ... 0.000e+00 0.000e+00 0.000e+00]\n",
            "  [0.000e+00 0.000e+00 0.000e+00 ... 0.000e+00 0.000e+00 0.000e+00]\n",
            "  ...\n",
            "  [0.000e+00 1.000e+00 0.000e+00 ... 0.000e+00 0.000e+00 0.000e+00]\n",
            "  [0.000e+00 0.000e+00 0.000e+00 ... 0.000e+00 0.000e+00 0.000e+00]\n",
            "  [0.000e+00 0.000e+00 0.000e+00 ... 0.000e+00 0.000e+00 0.000e+00]]\n",
            "\n",
            " [[0.000e+00 0.000e+00 0.000e+00 ... 0.000e+00 0.000e+00 0.000e+00]\n",
            "  [0.000e+00 0.000e+00 0.000e+00 ... 0.000e+00 0.000e+00 0.000e+00]\n",
            "  [0.000e+00 0.000e+00 0.000e+00 ... 0.000e+00 0.000e+00 0.000e+00]\n",
            "  ...\n",
            "  [0.000e+00 1.000e+00 0.000e+00 ... 0.000e+00 0.000e+00 0.000e+00]\n",
            "  [0.000e+00 0.000e+00 0.000e+00 ... 0.000e+00 0.000e+00 0.000e+00]\n",
            "  [0.000e+00 0.000e+00 0.000e+00 ... 0.000e+00 0.000e+00 0.000e+00]]\n",
            "\n",
            " [[0.000e+00 0.000e+00 0.000e+00 ... 0.000e+00 0.000e+00 0.000e+00]\n",
            "  [0.000e+00 0.000e+00 0.000e+00 ... 0.000e+00 0.000e+00 0.000e+00]\n",
            "  [0.000e+00 0.000e+00 0.000e+00 ... 0.000e+00 0.000e+00 0.000e+00]\n",
            "  ...\n",
            "  [0.000e+00 1.000e+00 1.000e+00 ... 0.000e+00 0.000e+00 0.000e+00]\n",
            "  [0.000e+00 0.000e+00 0.000e+00 ... 7.322e+03 7.679e+03 7.306e+03]\n",
            "  [7.079e+03 7.226e+03 7.478e+03 ... 7.231e+03 7.107e+03 7.637e+03]]]\n"
          ]
        }
      ],
      "source": [
        "indices = grouped_counts[\"Month_Count\"] * (GRID_LNG_DIM) * (GRID_LAT_DIM) + grouped_counts[\"GridLng\"] * (GRID_LAT_DIM) + grouped_counts[\"GridLat\"]\n",
        "\n",
        "# Count the occurrences of each index\n",
        "unique_indices, counts = np.unique(indices, return_counts=True)\n",
        "\n",
        "# Fill the crime_grid with the counts for each cell\n",
        "crime_grid[unique_indices // ((GRID_LNG_DIM ) * (GRID_LAT_DIM )),\n",
        "           (unique_indices // (GRID_LAT_DIM )) % (GRID_LNG_DIM ),\n",
        "           unique_indices % (GRID_LAT_DIM )] = counts\n",
        "\n",
        "print(crime_grid)\n"
      ]
    },
    {
      "cell_type": "code",
      "execution_count": 159,
      "metadata": {
        "colab": {
          "base_uri": "https://localhost:8080/"
        },
        "id": "PkmUFW7Uecye",
        "outputId": "874b0043-9fb8-44c6-a060-b05ba46dcf6c"
      },
      "outputs": [
        {
          "output_type": "execute_result",
          "data": {
            "text/plain": [
              "(49, 101, 121)"
            ]
          },
          "metadata": {},
          "execution_count": 159
        }
      ],
      "source": [
        "crime_grid.shape"
      ]
    },
    {
      "cell_type": "code",
      "execution_count": 160,
      "metadata": {
        "colab": {
          "base_uri": "https://localhost:8080/"
        },
        "id": "v4DHtxKsecs1",
        "outputId": "371e5cd5-3500-4b2d-e36a-c31072801d19"
      },
      "outputs": [
        {
          "output_type": "execute_result",
          "data": {
            "text/plain": [
              "8089.0"
            ]
          },
          "metadata": {},
          "execution_count": 160
        }
      ],
      "source": [
        "max_value = np.max(crime_grid)\n",
        "max_value"
      ]
    },
    {
      "cell_type": "code",
      "execution_count": 160,
      "metadata": {
        "id": "5y20yUHHeccb"
      },
      "outputs": [],
      "source": []
    },
    {
      "cell_type": "code",
      "execution_count": null,
      "metadata": {
        "id": "cJVub8lvZvez"
      },
      "outputs": [],
      "source": [
        "# unique_x = df['GridLng'].unique()\n",
        "# unique_y = df['GridLat'].unique()\n",
        "# unique_z = df['Month_Count'].unique()\n",
        "\n",
        "# # Create dictionaries to map unique values to their respective indices\n",
        "# x_mapping = {val: idx for idx, val in enumerate(unique_x)}\n",
        "# y_mapping = {val: idx for idx, val in enumerate(unique_y)}\n",
        "# z_mapping = {val: idx for idx, val in enumerate(unique_z)}\n",
        "\n",
        "# # # Create a 3D matrix filled with zeros\n",
        "# crime_grid = np.zeros((len(unique_z), GRID_LNG_DIM, GRID_LAT_DIM), dtype=int)\n",
        "\n",
        "# # Populate the matrix with counts\n",
        "# for _, row in df.iterrows():\n",
        "#     x_idx = x_mapping[row['GridLng']]\n",
        "#     y_idx = y_mapping[row['GridLat']]\n",
        "#     z_idx = z_mapping[row['Month_Count']]\n",
        "#     crime_grid[x_idx, y_idx, z_idx] += 1\n",
        "\n",
        "# print(crime_grid)"
      ]
    },
    {
      "cell_type": "code",
      "execution_count": null,
      "metadata": {
        "id": "QUEpFyXcEd_i"
      },
      "outputs": [],
      "source": [
        "jj"
      ]
    },
    {
      "cell_type": "code",
      "execution_count": null,
      "metadata": {
        "id": "AQyiJ8AMF64V"
      },
      "outputs": [],
      "source": [
        "from keras.models import Sequential\n",
        "from keras.layers import ConvLSTM2D\n",
        "from keras.callbacks import ModelCheckpoint, ReduceLROnPlateau\n",
        "from keras.optimizers import Adam\n",
        "from keras.models import Model\n",
        "\n",
        "\n",
        "model = Sequential()\n",
        "model.add(ConvLSTM2D(1, kernel_size=(3, 3), activation='tanh', recurrent_activation='hard_sigmoid',\n",
        "                        kernel_initializer='glorot_uniform', recurrent_initializer='orthogonal',\n",
        "                        kernel_constraint=None, recurrent_constraint=None, bias_constraint=None,\n",
        "                        return_sequences=False,\n",
        "                        padding='same',\n",
        "                        data_format='channels_last',\n",
        "                        dropout=0.0, recurrent_dropout=0.0))\n",
        "\n",
        "model.compile(optimizer=Adam(decay=1e-4),\n",
        "              loss='mean_squared_error',\n",
        "              metrics=['accuracy'])\n",
        "\n",
        "# Prepare model model saving directory.\n",
        "save_dir = os.path.join(os.getcwd(), 'saved_models')\n",
        "model_name = 'crime_prediction.{epoch:03d}.h5'\n",
        "if not os.path.isdir(save_dir):\n",
        "    os.makedirs(save_dir)\n",
        "filepath = os.path.join(save_dir, model_name)\n",
        "\n",
        "# Prepare callbacks for model saving and for learning rate adjustment.\n",
        "checkpoint = ModelCheckpoint(filepath=filepath,\n",
        "                             monitor='val_acc',\n",
        "                             verbose=1,\n",
        "                             save_best_only=True)\n",
        "\n",
        "lr_reducer = ReduceLROnPlateau(factor=np.sqrt(0.1),\n",
        "                               cooldown=0,\n",
        "                               patience=5,\n",
        "                               min_lr=0.5e-6)\n",
        "\n",
        "callbacks = [checkpoint, lr_reducer]\n",
        "\n",
        "model.fit(X_train, y_train,\n",
        "          batch_size=120,\n",
        "          epochs=20,\n",
        "          validation_data=(X_test, y_test),\n",
        "          shuffle=True,\n",
        "          callbacks=callbacks)\n",
        "\n",
        "model.summary()\n",
        "\n",
        "from keras.utils import plot_model\n",
        "plot_model(model, to_file='model.png')\n",
        "\n",
        "# Score trained model.\n",
        "scores = model.evaluate(X_test, y_test, verbose=1)\n",
        "print('Test loss:', scores[0])\n",
        "print('Test accuracy:', scores[1])"
      ]
    }
  ],
  "metadata": {
    "colab": {
      "provenance": [],
      "authorship_tag": "ABX9TyPjHsK9SUVIsz2i/qQabA8B",
      "include_colab_link": true
    },
    "kernelspec": {
      "display_name": "Python 3",
      "name": "python3"
    },
    "language_info": {
      "name": "python"
    }
  },
  "nbformat": 4,
  "nbformat_minor": 0
}